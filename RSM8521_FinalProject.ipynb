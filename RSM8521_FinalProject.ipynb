{
  "nbformat": 4,
  "nbformat_minor": 0,
  "metadata": {
    "colab": {
      "name": "RSM8521_FinalProject.ipynb",
      "provenance": [],
      "collapsed_sections": [],
      "include_colab_link": true
    },
    "kernelspec": {
      "name": "python3",
      "display_name": "Python 3"
    },
    "language_info": {
      "name": "python"
    },
    "widgets": {
      "application/vnd.jupyter.widget-state+json": {
        "c740145ac2c24f6485dd1281e29c411f": {
          "model_module": "@jupyter-widgets/controls",
          "model_name": "HBoxModel",
          "model_module_version": "1.5.0",
          "state": {
            "_dom_classes": [],
            "_model_module": "@jupyter-widgets/controls",
            "_model_module_version": "1.5.0",
            "_model_name": "HBoxModel",
            "_view_count": null,
            "_view_module": "@jupyter-widgets/controls",
            "_view_module_version": "1.5.0",
            "_view_name": "HBoxView",
            "box_style": "",
            "children": [
              "IPY_MODEL_94fb82d4a9a94c1ab5dbd580749ce4f1",
              "IPY_MODEL_1ef58919601d4402bd83ebec5a52033c",
              "IPY_MODEL_c33ef8fb8c834424ad65a2efd9fa52b3"
            ],
            "layout": "IPY_MODEL_a65fdd6bf2c548ad9f294b85f529919c"
          }
        },
        "94fb82d4a9a94c1ab5dbd580749ce4f1": {
          "model_module": "@jupyter-widgets/controls",
          "model_name": "HTMLModel",
          "model_module_version": "1.5.0",
          "state": {
            "_dom_classes": [],
            "_model_module": "@jupyter-widgets/controls",
            "_model_module_version": "1.5.0",
            "_model_name": "HTMLModel",
            "_view_count": null,
            "_view_module": "@jupyter-widgets/controls",
            "_view_module_version": "1.5.0",
            "_view_name": "HTMLView",
            "description": "",
            "description_tooltip": null,
            "layout": "IPY_MODEL_7ab38eae06f045e4bbf0c2f2944599ea",
            "placeholder": "​",
            "style": "IPY_MODEL_d6f3c63ebee346ddb26dd10f4a67fa92",
            "value": "Downloading: 100%"
          }
        },
        "1ef58919601d4402bd83ebec5a52033c": {
          "model_module": "@jupyter-widgets/controls",
          "model_name": "FloatProgressModel",
          "model_module_version": "1.5.0",
          "state": {
            "_dom_classes": [],
            "_model_module": "@jupyter-widgets/controls",
            "_model_module_version": "1.5.0",
            "_model_name": "FloatProgressModel",
            "_view_count": null,
            "_view_module": "@jupyter-widgets/controls",
            "_view_module_version": "1.5.0",
            "_view_name": "ProgressView",
            "bar_style": "success",
            "description": "",
            "description_tooltip": null,
            "layout": "IPY_MODEL_3e23e39a42ad4f01835893c908298def",
            "max": 252,
            "min": 0,
            "orientation": "horizontal",
            "style": "IPY_MODEL_e82511d1956a4868b18816efdb6cc58e",
            "value": 252
          }
        },
        "c33ef8fb8c834424ad65a2efd9fa52b3": {
          "model_module": "@jupyter-widgets/controls",
          "model_name": "HTMLModel",
          "model_module_version": "1.5.0",
          "state": {
            "_dom_classes": [],
            "_model_module": "@jupyter-widgets/controls",
            "_model_module_version": "1.5.0",
            "_model_name": "HTMLModel",
            "_view_count": null,
            "_view_module": "@jupyter-widgets/controls",
            "_view_module_version": "1.5.0",
            "_view_name": "HTMLView",
            "description": "",
            "description_tooltip": null,
            "layout": "IPY_MODEL_719ed1d0e50548b784a800b1d3309fdf",
            "placeholder": "​",
            "style": "IPY_MODEL_a3d829ed2499414c8f4c6ea8209e1bf4",
            "value": " 252/252 [00:00&lt;00:00, 5.36kB/s]"
          }
        },
        "a65fdd6bf2c548ad9f294b85f529919c": {
          "model_module": "@jupyter-widgets/base",
          "model_name": "LayoutModel",
          "model_module_version": "1.2.0",
          "state": {
            "_model_module": "@jupyter-widgets/base",
            "_model_module_version": "1.2.0",
            "_model_name": "LayoutModel",
            "_view_count": null,
            "_view_module": "@jupyter-widgets/base",
            "_view_module_version": "1.2.0",
            "_view_name": "LayoutView",
            "align_content": null,
            "align_items": null,
            "align_self": null,
            "border": null,
            "bottom": null,
            "display": null,
            "flex": null,
            "flex_flow": null,
            "grid_area": null,
            "grid_auto_columns": null,
            "grid_auto_flow": null,
            "grid_auto_rows": null,
            "grid_column": null,
            "grid_gap": null,
            "grid_row": null,
            "grid_template_areas": null,
            "grid_template_columns": null,
            "grid_template_rows": null,
            "height": null,
            "justify_content": null,
            "justify_items": null,
            "left": null,
            "margin": null,
            "max_height": null,
            "max_width": null,
            "min_height": null,
            "min_width": null,
            "object_fit": null,
            "object_position": null,
            "order": null,
            "overflow": null,
            "overflow_x": null,
            "overflow_y": null,
            "padding": null,
            "right": null,
            "top": null,
            "visibility": null,
            "width": null
          }
        },
        "7ab38eae06f045e4bbf0c2f2944599ea": {
          "model_module": "@jupyter-widgets/base",
          "model_name": "LayoutModel",
          "model_module_version": "1.2.0",
          "state": {
            "_model_module": "@jupyter-widgets/base",
            "_model_module_version": "1.2.0",
            "_model_name": "LayoutModel",
            "_view_count": null,
            "_view_module": "@jupyter-widgets/base",
            "_view_module_version": "1.2.0",
            "_view_name": "LayoutView",
            "align_content": null,
            "align_items": null,
            "align_self": null,
            "border": null,
            "bottom": null,
            "display": null,
            "flex": null,
            "flex_flow": null,
            "grid_area": null,
            "grid_auto_columns": null,
            "grid_auto_flow": null,
            "grid_auto_rows": null,
            "grid_column": null,
            "grid_gap": null,
            "grid_row": null,
            "grid_template_areas": null,
            "grid_template_columns": null,
            "grid_template_rows": null,
            "height": null,
            "justify_content": null,
            "justify_items": null,
            "left": null,
            "margin": null,
            "max_height": null,
            "max_width": null,
            "min_height": null,
            "min_width": null,
            "object_fit": null,
            "object_position": null,
            "order": null,
            "overflow": null,
            "overflow_x": null,
            "overflow_y": null,
            "padding": null,
            "right": null,
            "top": null,
            "visibility": null,
            "width": null
          }
        },
        "d6f3c63ebee346ddb26dd10f4a67fa92": {
          "model_module": "@jupyter-widgets/controls",
          "model_name": "DescriptionStyleModel",
          "model_module_version": "1.5.0",
          "state": {
            "_model_module": "@jupyter-widgets/controls",
            "_model_module_version": "1.5.0",
            "_model_name": "DescriptionStyleModel",
            "_view_count": null,
            "_view_module": "@jupyter-widgets/base",
            "_view_module_version": "1.2.0",
            "_view_name": "StyleView",
            "description_width": ""
          }
        },
        "3e23e39a42ad4f01835893c908298def": {
          "model_module": "@jupyter-widgets/base",
          "model_name": "LayoutModel",
          "model_module_version": "1.2.0",
          "state": {
            "_model_module": "@jupyter-widgets/base",
            "_model_module_version": "1.2.0",
            "_model_name": "LayoutModel",
            "_view_count": null,
            "_view_module": "@jupyter-widgets/base",
            "_view_module_version": "1.2.0",
            "_view_name": "LayoutView",
            "align_content": null,
            "align_items": null,
            "align_self": null,
            "border": null,
            "bottom": null,
            "display": null,
            "flex": null,
            "flex_flow": null,
            "grid_area": null,
            "grid_auto_columns": null,
            "grid_auto_flow": null,
            "grid_auto_rows": null,
            "grid_column": null,
            "grid_gap": null,
            "grid_row": null,
            "grid_template_areas": null,
            "grid_template_columns": null,
            "grid_template_rows": null,
            "height": null,
            "justify_content": null,
            "justify_items": null,
            "left": null,
            "margin": null,
            "max_height": null,
            "max_width": null,
            "min_height": null,
            "min_width": null,
            "object_fit": null,
            "object_position": null,
            "order": null,
            "overflow": null,
            "overflow_x": null,
            "overflow_y": null,
            "padding": null,
            "right": null,
            "top": null,
            "visibility": null,
            "width": null
          }
        },
        "e82511d1956a4868b18816efdb6cc58e": {
          "model_module": "@jupyter-widgets/controls",
          "model_name": "ProgressStyleModel",
          "model_module_version": "1.5.0",
          "state": {
            "_model_module": "@jupyter-widgets/controls",
            "_model_module_version": "1.5.0",
            "_model_name": "ProgressStyleModel",
            "_view_count": null,
            "_view_module": "@jupyter-widgets/base",
            "_view_module_version": "1.2.0",
            "_view_name": "StyleView",
            "bar_color": null,
            "description_width": ""
          }
        },
        "719ed1d0e50548b784a800b1d3309fdf": {
          "model_module": "@jupyter-widgets/base",
          "model_name": "LayoutModel",
          "model_module_version": "1.2.0",
          "state": {
            "_model_module": "@jupyter-widgets/base",
            "_model_module_version": "1.2.0",
            "_model_name": "LayoutModel",
            "_view_count": null,
            "_view_module": "@jupyter-widgets/base",
            "_view_module_version": "1.2.0",
            "_view_name": "LayoutView",
            "align_content": null,
            "align_items": null,
            "align_self": null,
            "border": null,
            "bottom": null,
            "display": null,
            "flex": null,
            "flex_flow": null,
            "grid_area": null,
            "grid_auto_columns": null,
            "grid_auto_flow": null,
            "grid_auto_rows": null,
            "grid_column": null,
            "grid_gap": null,
            "grid_row": null,
            "grid_template_areas": null,
            "grid_template_columns": null,
            "grid_template_rows": null,
            "height": null,
            "justify_content": null,
            "justify_items": null,
            "left": null,
            "margin": null,
            "max_height": null,
            "max_width": null,
            "min_height": null,
            "min_width": null,
            "object_fit": null,
            "object_position": null,
            "order": null,
            "overflow": null,
            "overflow_x": null,
            "overflow_y": null,
            "padding": null,
            "right": null,
            "top": null,
            "visibility": null,
            "width": null
          }
        },
        "a3d829ed2499414c8f4c6ea8209e1bf4": {
          "model_module": "@jupyter-widgets/controls",
          "model_name": "DescriptionStyleModel",
          "model_module_version": "1.5.0",
          "state": {
            "_model_module": "@jupyter-widgets/controls",
            "_model_module_version": "1.5.0",
            "_model_name": "DescriptionStyleModel",
            "_view_count": null,
            "_view_module": "@jupyter-widgets/base",
            "_view_module_version": "1.2.0",
            "_view_name": "StyleView",
            "description_width": ""
          }
        },
        "c5356e8b374944dc81b578fc2fa79e9f": {
          "model_module": "@jupyter-widgets/controls",
          "model_name": "HBoxModel",
          "model_module_version": "1.5.0",
          "state": {
            "_dom_classes": [],
            "_model_module": "@jupyter-widgets/controls",
            "_model_module_version": "1.5.0",
            "_model_name": "HBoxModel",
            "_view_count": null,
            "_view_module": "@jupyter-widgets/controls",
            "_view_module_version": "1.5.0",
            "_view_name": "HBoxView",
            "box_style": "",
            "children": [
              "IPY_MODEL_9325ba1738ab4502aea39626d52af574",
              "IPY_MODEL_d4788e9dcbde4de4ab4e5a21fea79362",
              "IPY_MODEL_ec7e4ae1ed9449b881b25c43acd05470"
            ],
            "layout": "IPY_MODEL_72816a94a29c44ea8a4d53eb4bb4b071"
          }
        },
        "9325ba1738ab4502aea39626d52af574": {
          "model_module": "@jupyter-widgets/controls",
          "model_name": "HTMLModel",
          "model_module_version": "1.5.0",
          "state": {
            "_dom_classes": [],
            "_model_module": "@jupyter-widgets/controls",
            "_model_module_version": "1.5.0",
            "_model_name": "HTMLModel",
            "_view_count": null,
            "_view_module": "@jupyter-widgets/controls",
            "_view_module_version": "1.5.0",
            "_view_name": "HTMLView",
            "description": "",
            "description_tooltip": null,
            "layout": "IPY_MODEL_2b8c0281cd774ecda844be552d225ef3",
            "placeholder": "​",
            "style": "IPY_MODEL_2f009ed5679b421891f9d51b6a543a07",
            "value": "Downloading: 100%"
          }
        },
        "d4788e9dcbde4de4ab4e5a21fea79362": {
          "model_module": "@jupyter-widgets/controls",
          "model_name": "FloatProgressModel",
          "model_module_version": "1.5.0",
          "state": {
            "_dom_classes": [],
            "_model_module": "@jupyter-widgets/controls",
            "_model_module_version": "1.5.0",
            "_model_name": "FloatProgressModel",
            "_view_count": null,
            "_view_module": "@jupyter-widgets/controls",
            "_view_module_version": "1.5.0",
            "_view_name": "ProgressView",
            "bar_style": "success",
            "description": "",
            "description_tooltip": null,
            "layout": "IPY_MODEL_588a7f3d43704a6a80f2b890fa2b9b98",
            "max": 758,
            "min": 0,
            "orientation": "horizontal",
            "style": "IPY_MODEL_9186c8e484374331bd27326a12f6c7d3",
            "value": 758
          }
        },
        "ec7e4ae1ed9449b881b25c43acd05470": {
          "model_module": "@jupyter-widgets/controls",
          "model_name": "HTMLModel",
          "model_module_version": "1.5.0",
          "state": {
            "_dom_classes": [],
            "_model_module": "@jupyter-widgets/controls",
            "_model_module_version": "1.5.0",
            "_model_name": "HTMLModel",
            "_view_count": null,
            "_view_module": "@jupyter-widgets/controls",
            "_view_module_version": "1.5.0",
            "_view_name": "HTMLView",
            "description": "",
            "description_tooltip": null,
            "layout": "IPY_MODEL_d349b14572e443b3a4aa5fdbb1c82bb9",
            "placeholder": "​",
            "style": "IPY_MODEL_bd350498af444c879e67cbe846428a6b",
            "value": " 758/758 [00:00&lt;00:00, 15.7kB/s]"
          }
        },
        "72816a94a29c44ea8a4d53eb4bb4b071": {
          "model_module": "@jupyter-widgets/base",
          "model_name": "LayoutModel",
          "model_module_version": "1.2.0",
          "state": {
            "_model_module": "@jupyter-widgets/base",
            "_model_module_version": "1.2.0",
            "_model_name": "LayoutModel",
            "_view_count": null,
            "_view_module": "@jupyter-widgets/base",
            "_view_module_version": "1.2.0",
            "_view_name": "LayoutView",
            "align_content": null,
            "align_items": null,
            "align_self": null,
            "border": null,
            "bottom": null,
            "display": null,
            "flex": null,
            "flex_flow": null,
            "grid_area": null,
            "grid_auto_columns": null,
            "grid_auto_flow": null,
            "grid_auto_rows": null,
            "grid_column": null,
            "grid_gap": null,
            "grid_row": null,
            "grid_template_areas": null,
            "grid_template_columns": null,
            "grid_template_rows": null,
            "height": null,
            "justify_content": null,
            "justify_items": null,
            "left": null,
            "margin": null,
            "max_height": null,
            "max_width": null,
            "min_height": null,
            "min_width": null,
            "object_fit": null,
            "object_position": null,
            "order": null,
            "overflow": null,
            "overflow_x": null,
            "overflow_y": null,
            "padding": null,
            "right": null,
            "top": null,
            "visibility": null,
            "width": null
          }
        },
        "2b8c0281cd774ecda844be552d225ef3": {
          "model_module": "@jupyter-widgets/base",
          "model_name": "LayoutModel",
          "model_module_version": "1.2.0",
          "state": {
            "_model_module": "@jupyter-widgets/base",
            "_model_module_version": "1.2.0",
            "_model_name": "LayoutModel",
            "_view_count": null,
            "_view_module": "@jupyter-widgets/base",
            "_view_module_version": "1.2.0",
            "_view_name": "LayoutView",
            "align_content": null,
            "align_items": null,
            "align_self": null,
            "border": null,
            "bottom": null,
            "display": null,
            "flex": null,
            "flex_flow": null,
            "grid_area": null,
            "grid_auto_columns": null,
            "grid_auto_flow": null,
            "grid_auto_rows": null,
            "grid_column": null,
            "grid_gap": null,
            "grid_row": null,
            "grid_template_areas": null,
            "grid_template_columns": null,
            "grid_template_rows": null,
            "height": null,
            "justify_content": null,
            "justify_items": null,
            "left": null,
            "margin": null,
            "max_height": null,
            "max_width": null,
            "min_height": null,
            "min_width": null,
            "object_fit": null,
            "object_position": null,
            "order": null,
            "overflow": null,
            "overflow_x": null,
            "overflow_y": null,
            "padding": null,
            "right": null,
            "top": null,
            "visibility": null,
            "width": null
          }
        },
        "2f009ed5679b421891f9d51b6a543a07": {
          "model_module": "@jupyter-widgets/controls",
          "model_name": "DescriptionStyleModel",
          "model_module_version": "1.5.0",
          "state": {
            "_model_module": "@jupyter-widgets/controls",
            "_model_module_version": "1.5.0",
            "_model_name": "DescriptionStyleModel",
            "_view_count": null,
            "_view_module": "@jupyter-widgets/base",
            "_view_module_version": "1.2.0",
            "_view_name": "StyleView",
            "description_width": ""
          }
        },
        "588a7f3d43704a6a80f2b890fa2b9b98": {
          "model_module": "@jupyter-widgets/base",
          "model_name": "LayoutModel",
          "model_module_version": "1.2.0",
          "state": {
            "_model_module": "@jupyter-widgets/base",
            "_model_module_version": "1.2.0",
            "_model_name": "LayoutModel",
            "_view_count": null,
            "_view_module": "@jupyter-widgets/base",
            "_view_module_version": "1.2.0",
            "_view_name": "LayoutView",
            "align_content": null,
            "align_items": null,
            "align_self": null,
            "border": null,
            "bottom": null,
            "display": null,
            "flex": null,
            "flex_flow": null,
            "grid_area": null,
            "grid_auto_columns": null,
            "grid_auto_flow": null,
            "grid_auto_rows": null,
            "grid_column": null,
            "grid_gap": null,
            "grid_row": null,
            "grid_template_areas": null,
            "grid_template_columns": null,
            "grid_template_rows": null,
            "height": null,
            "justify_content": null,
            "justify_items": null,
            "left": null,
            "margin": null,
            "max_height": null,
            "max_width": null,
            "min_height": null,
            "min_width": null,
            "object_fit": null,
            "object_position": null,
            "order": null,
            "overflow": null,
            "overflow_x": null,
            "overflow_y": null,
            "padding": null,
            "right": null,
            "top": null,
            "visibility": null,
            "width": null
          }
        },
        "9186c8e484374331bd27326a12f6c7d3": {
          "model_module": "@jupyter-widgets/controls",
          "model_name": "ProgressStyleModel",
          "model_module_version": "1.5.0",
          "state": {
            "_model_module": "@jupyter-widgets/controls",
            "_model_module_version": "1.5.0",
            "_model_name": "ProgressStyleModel",
            "_view_count": null,
            "_view_module": "@jupyter-widgets/base",
            "_view_module_version": "1.2.0",
            "_view_name": "StyleView",
            "bar_color": null,
            "description_width": ""
          }
        },
        "d349b14572e443b3a4aa5fdbb1c82bb9": {
          "model_module": "@jupyter-widgets/base",
          "model_name": "LayoutModel",
          "model_module_version": "1.2.0",
          "state": {
            "_model_module": "@jupyter-widgets/base",
            "_model_module_version": "1.2.0",
            "_model_name": "LayoutModel",
            "_view_count": null,
            "_view_module": "@jupyter-widgets/base",
            "_view_module_version": "1.2.0",
            "_view_name": "LayoutView",
            "align_content": null,
            "align_items": null,
            "align_self": null,
            "border": null,
            "bottom": null,
            "display": null,
            "flex": null,
            "flex_flow": null,
            "grid_area": null,
            "grid_auto_columns": null,
            "grid_auto_flow": null,
            "grid_auto_rows": null,
            "grid_column": null,
            "grid_gap": null,
            "grid_row": null,
            "grid_template_areas": null,
            "grid_template_columns": null,
            "grid_template_rows": null,
            "height": null,
            "justify_content": null,
            "justify_items": null,
            "left": null,
            "margin": null,
            "max_height": null,
            "max_width": null,
            "min_height": null,
            "min_width": null,
            "object_fit": null,
            "object_position": null,
            "order": null,
            "overflow": null,
            "overflow_x": null,
            "overflow_y": null,
            "padding": null,
            "right": null,
            "top": null,
            "visibility": null,
            "width": null
          }
        },
        "bd350498af444c879e67cbe846428a6b": {
          "model_module": "@jupyter-widgets/controls",
          "model_name": "DescriptionStyleModel",
          "model_module_version": "1.5.0",
          "state": {
            "_model_module": "@jupyter-widgets/controls",
            "_model_module_version": "1.5.0",
            "_model_name": "DescriptionStyleModel",
            "_view_count": null,
            "_view_module": "@jupyter-widgets/base",
            "_view_module_version": "1.2.0",
            "_view_name": "StyleView",
            "description_width": ""
          }
        },
        "0b48e8b041ae4038b730ee36aa2657c6": {
          "model_module": "@jupyter-widgets/controls",
          "model_name": "HBoxModel",
          "model_module_version": "1.5.0",
          "state": {
            "_dom_classes": [],
            "_model_module": "@jupyter-widgets/controls",
            "_model_module_version": "1.5.0",
            "_model_name": "HBoxModel",
            "_view_count": null,
            "_view_module": "@jupyter-widgets/controls",
            "_view_module_version": "1.5.0",
            "_view_name": "HBoxView",
            "box_style": "",
            "children": [
              "IPY_MODEL_96bfd9bbccb24df3add6e7495537cef7",
              "IPY_MODEL_95bcda1efc1947bc838b30b6d935655e",
              "IPY_MODEL_5c5b670c1242410d97954b8d58325965"
            ],
            "layout": "IPY_MODEL_d4ba3cb9d396434393bdbe332ead6c31"
          }
        },
        "96bfd9bbccb24df3add6e7495537cef7": {
          "model_module": "@jupyter-widgets/controls",
          "model_name": "HTMLModel",
          "model_module_version": "1.5.0",
          "state": {
            "_dom_classes": [],
            "_model_module": "@jupyter-widgets/controls",
            "_model_module_version": "1.5.0",
            "_model_name": "HTMLModel",
            "_view_count": null,
            "_view_module": "@jupyter-widgets/controls",
            "_view_module_version": "1.5.0",
            "_view_name": "HTMLView",
            "description": "",
            "description_tooltip": null,
            "layout": "IPY_MODEL_11aba995cd9945f0ab3346f204885f0e",
            "placeholder": "​",
            "style": "IPY_MODEL_fe63c08faabc4689b3110784d714478f",
            "value": "Downloading: 100%"
          }
        },
        "95bcda1efc1947bc838b30b6d935655e": {
          "model_module": "@jupyter-widgets/controls",
          "model_name": "FloatProgressModel",
          "model_module_version": "1.5.0",
          "state": {
            "_dom_classes": [],
            "_model_module": "@jupyter-widgets/controls",
            "_model_module_version": "1.5.0",
            "_model_name": "FloatProgressModel",
            "_view_count": null,
            "_view_module": "@jupyter-widgets/controls",
            "_view_module_version": "1.5.0",
            "_view_name": "ProgressView",
            "bar_style": "success",
            "description": "",
            "description_tooltip": null,
            "layout": "IPY_MODEL_d4183d0528274187b238d775d044ff03",
            "max": 231508,
            "min": 0,
            "orientation": "horizontal",
            "style": "IPY_MODEL_0ee192362e2f4d26a4e3dff7379fc6a3",
            "value": 231508
          }
        },
        "5c5b670c1242410d97954b8d58325965": {
          "model_module": "@jupyter-widgets/controls",
          "model_name": "HTMLModel",
          "model_module_version": "1.5.0",
          "state": {
            "_dom_classes": [],
            "_model_module": "@jupyter-widgets/controls",
            "_model_module_version": "1.5.0",
            "_model_name": "HTMLModel",
            "_view_count": null,
            "_view_module": "@jupyter-widgets/controls",
            "_view_module_version": "1.5.0",
            "_view_name": "HTMLView",
            "description": "",
            "description_tooltip": null,
            "layout": "IPY_MODEL_4164e402858f469198c565a287d77318",
            "placeholder": "​",
            "style": "IPY_MODEL_393b1ddce16f4eb2b5ed1e84c8e5a244",
            "value": " 226k/226k [00:00&lt;00:00, 1.84MB/s]"
          }
        },
        "d4ba3cb9d396434393bdbe332ead6c31": {
          "model_module": "@jupyter-widgets/base",
          "model_name": "LayoutModel",
          "model_module_version": "1.2.0",
          "state": {
            "_model_module": "@jupyter-widgets/base",
            "_model_module_version": "1.2.0",
            "_model_name": "LayoutModel",
            "_view_count": null,
            "_view_module": "@jupyter-widgets/base",
            "_view_module_version": "1.2.0",
            "_view_name": "LayoutView",
            "align_content": null,
            "align_items": null,
            "align_self": null,
            "border": null,
            "bottom": null,
            "display": null,
            "flex": null,
            "flex_flow": null,
            "grid_area": null,
            "grid_auto_columns": null,
            "grid_auto_flow": null,
            "grid_auto_rows": null,
            "grid_column": null,
            "grid_gap": null,
            "grid_row": null,
            "grid_template_areas": null,
            "grid_template_columns": null,
            "grid_template_rows": null,
            "height": null,
            "justify_content": null,
            "justify_items": null,
            "left": null,
            "margin": null,
            "max_height": null,
            "max_width": null,
            "min_height": null,
            "min_width": null,
            "object_fit": null,
            "object_position": null,
            "order": null,
            "overflow": null,
            "overflow_x": null,
            "overflow_y": null,
            "padding": null,
            "right": null,
            "top": null,
            "visibility": null,
            "width": null
          }
        },
        "11aba995cd9945f0ab3346f204885f0e": {
          "model_module": "@jupyter-widgets/base",
          "model_name": "LayoutModel",
          "model_module_version": "1.2.0",
          "state": {
            "_model_module": "@jupyter-widgets/base",
            "_model_module_version": "1.2.0",
            "_model_name": "LayoutModel",
            "_view_count": null,
            "_view_module": "@jupyter-widgets/base",
            "_view_module_version": "1.2.0",
            "_view_name": "LayoutView",
            "align_content": null,
            "align_items": null,
            "align_self": null,
            "border": null,
            "bottom": null,
            "display": null,
            "flex": null,
            "flex_flow": null,
            "grid_area": null,
            "grid_auto_columns": null,
            "grid_auto_flow": null,
            "grid_auto_rows": null,
            "grid_column": null,
            "grid_gap": null,
            "grid_row": null,
            "grid_template_areas": null,
            "grid_template_columns": null,
            "grid_template_rows": null,
            "height": null,
            "justify_content": null,
            "justify_items": null,
            "left": null,
            "margin": null,
            "max_height": null,
            "max_width": null,
            "min_height": null,
            "min_width": null,
            "object_fit": null,
            "object_position": null,
            "order": null,
            "overflow": null,
            "overflow_x": null,
            "overflow_y": null,
            "padding": null,
            "right": null,
            "top": null,
            "visibility": null,
            "width": null
          }
        },
        "fe63c08faabc4689b3110784d714478f": {
          "model_module": "@jupyter-widgets/controls",
          "model_name": "DescriptionStyleModel",
          "model_module_version": "1.5.0",
          "state": {
            "_model_module": "@jupyter-widgets/controls",
            "_model_module_version": "1.5.0",
            "_model_name": "DescriptionStyleModel",
            "_view_count": null,
            "_view_module": "@jupyter-widgets/base",
            "_view_module_version": "1.2.0",
            "_view_name": "StyleView",
            "description_width": ""
          }
        },
        "d4183d0528274187b238d775d044ff03": {
          "model_module": "@jupyter-widgets/base",
          "model_name": "LayoutModel",
          "model_module_version": "1.2.0",
          "state": {
            "_model_module": "@jupyter-widgets/base",
            "_model_module_version": "1.2.0",
            "_model_name": "LayoutModel",
            "_view_count": null,
            "_view_module": "@jupyter-widgets/base",
            "_view_module_version": "1.2.0",
            "_view_name": "LayoutView",
            "align_content": null,
            "align_items": null,
            "align_self": null,
            "border": null,
            "bottom": null,
            "display": null,
            "flex": null,
            "flex_flow": null,
            "grid_area": null,
            "grid_auto_columns": null,
            "grid_auto_flow": null,
            "grid_auto_rows": null,
            "grid_column": null,
            "grid_gap": null,
            "grid_row": null,
            "grid_template_areas": null,
            "grid_template_columns": null,
            "grid_template_rows": null,
            "height": null,
            "justify_content": null,
            "justify_items": null,
            "left": null,
            "margin": null,
            "max_height": null,
            "max_width": null,
            "min_height": null,
            "min_width": null,
            "object_fit": null,
            "object_position": null,
            "order": null,
            "overflow": null,
            "overflow_x": null,
            "overflow_y": null,
            "padding": null,
            "right": null,
            "top": null,
            "visibility": null,
            "width": null
          }
        },
        "0ee192362e2f4d26a4e3dff7379fc6a3": {
          "model_module": "@jupyter-widgets/controls",
          "model_name": "ProgressStyleModel",
          "model_module_version": "1.5.0",
          "state": {
            "_model_module": "@jupyter-widgets/controls",
            "_model_module_version": "1.5.0",
            "_model_name": "ProgressStyleModel",
            "_view_count": null,
            "_view_module": "@jupyter-widgets/base",
            "_view_module_version": "1.2.0",
            "_view_name": "StyleView",
            "bar_color": null,
            "description_width": ""
          }
        },
        "4164e402858f469198c565a287d77318": {
          "model_module": "@jupyter-widgets/base",
          "model_name": "LayoutModel",
          "model_module_version": "1.2.0",
          "state": {
            "_model_module": "@jupyter-widgets/base",
            "_model_module_version": "1.2.0",
            "_model_name": "LayoutModel",
            "_view_count": null,
            "_view_module": "@jupyter-widgets/base",
            "_view_module_version": "1.2.0",
            "_view_name": "LayoutView",
            "align_content": null,
            "align_items": null,
            "align_self": null,
            "border": null,
            "bottom": null,
            "display": null,
            "flex": null,
            "flex_flow": null,
            "grid_area": null,
            "grid_auto_columns": null,
            "grid_auto_flow": null,
            "grid_auto_rows": null,
            "grid_column": null,
            "grid_gap": null,
            "grid_row": null,
            "grid_template_areas": null,
            "grid_template_columns": null,
            "grid_template_rows": null,
            "height": null,
            "justify_content": null,
            "justify_items": null,
            "left": null,
            "margin": null,
            "max_height": null,
            "max_width": null,
            "min_height": null,
            "min_width": null,
            "object_fit": null,
            "object_position": null,
            "order": null,
            "overflow": null,
            "overflow_x": null,
            "overflow_y": null,
            "padding": null,
            "right": null,
            "top": null,
            "visibility": null,
            "width": null
          }
        },
        "393b1ddce16f4eb2b5ed1e84c8e5a244": {
          "model_module": "@jupyter-widgets/controls",
          "model_name": "DescriptionStyleModel",
          "model_module_version": "1.5.0",
          "state": {
            "_model_module": "@jupyter-widgets/controls",
            "_model_module_version": "1.5.0",
            "_model_name": "DescriptionStyleModel",
            "_view_count": null,
            "_view_module": "@jupyter-widgets/base",
            "_view_module_version": "1.2.0",
            "_view_name": "StyleView",
            "description_width": ""
          }
        },
        "c1af24ab1d49460aacb522f400f8fdb8": {
          "model_module": "@jupyter-widgets/controls",
          "model_name": "HBoxModel",
          "model_module_version": "1.5.0",
          "state": {
            "_dom_classes": [],
            "_model_module": "@jupyter-widgets/controls",
            "_model_module_version": "1.5.0",
            "_model_name": "HBoxModel",
            "_view_count": null,
            "_view_module": "@jupyter-widgets/controls",
            "_view_module_version": "1.5.0",
            "_view_name": "HBoxView",
            "box_style": "",
            "children": [
              "IPY_MODEL_ed7667c9518149c8b31c1952a0ae4228",
              "IPY_MODEL_753337ca393140c1a0a2a8e2bf764b5b",
              "IPY_MODEL_a2a6af8c7cea45988afeb8aed46e9f8a"
            ],
            "layout": "IPY_MODEL_ab19adb46cd8486c9930f9c42f538912"
          }
        },
        "ed7667c9518149c8b31c1952a0ae4228": {
          "model_module": "@jupyter-widgets/controls",
          "model_name": "HTMLModel",
          "model_module_version": "1.5.0",
          "state": {
            "_dom_classes": [],
            "_model_module": "@jupyter-widgets/controls",
            "_model_module_version": "1.5.0",
            "_model_name": "HTMLModel",
            "_view_count": null,
            "_view_module": "@jupyter-widgets/controls",
            "_view_module_version": "1.5.0",
            "_view_name": "HTMLView",
            "description": "",
            "description_tooltip": null,
            "layout": "IPY_MODEL_bec26e85ec4a49a2bc3326605d72da39",
            "placeholder": "​",
            "style": "IPY_MODEL_2cdeccb0f0284335985f9e0d91f955d8",
            "value": "Downloading: 100%"
          }
        },
        "753337ca393140c1a0a2a8e2bf764b5b": {
          "model_module": "@jupyter-widgets/controls",
          "model_name": "FloatProgressModel",
          "model_module_version": "1.5.0",
          "state": {
            "_dom_classes": [],
            "_model_module": "@jupyter-widgets/controls",
            "_model_module_version": "1.5.0",
            "_model_name": "FloatProgressModel",
            "_view_count": null,
            "_view_module": "@jupyter-widgets/controls",
            "_view_module_version": "1.5.0",
            "_view_name": "ProgressView",
            "bar_style": "success",
            "description": "",
            "description_tooltip": null,
            "layout": "IPY_MODEL_fa5944d234704023b47550e779b07fb8",
            "max": 112,
            "min": 0,
            "orientation": "horizontal",
            "style": "IPY_MODEL_9f0f09aaa7154ccc8b6f29a32a87fd90",
            "value": 112
          }
        },
        "a2a6af8c7cea45988afeb8aed46e9f8a": {
          "model_module": "@jupyter-widgets/controls",
          "model_name": "HTMLModel",
          "model_module_version": "1.5.0",
          "state": {
            "_dom_classes": [],
            "_model_module": "@jupyter-widgets/controls",
            "_model_module_version": "1.5.0",
            "_model_name": "HTMLModel",
            "_view_count": null,
            "_view_module": "@jupyter-widgets/controls",
            "_view_module_version": "1.5.0",
            "_view_name": "HTMLView",
            "description": "",
            "description_tooltip": null,
            "layout": "IPY_MODEL_97ce8a4e940740bb872520b3cd17b630",
            "placeholder": "​",
            "style": "IPY_MODEL_7040bad754214ca69e1c253d1b86aae5",
            "value": " 112/112 [00:00&lt;00:00, 2.81kB/s]"
          }
        },
        "ab19adb46cd8486c9930f9c42f538912": {
          "model_module": "@jupyter-widgets/base",
          "model_name": "LayoutModel",
          "model_module_version": "1.2.0",
          "state": {
            "_model_module": "@jupyter-widgets/base",
            "_model_module_version": "1.2.0",
            "_model_name": "LayoutModel",
            "_view_count": null,
            "_view_module": "@jupyter-widgets/base",
            "_view_module_version": "1.2.0",
            "_view_name": "LayoutView",
            "align_content": null,
            "align_items": null,
            "align_self": null,
            "border": null,
            "bottom": null,
            "display": null,
            "flex": null,
            "flex_flow": null,
            "grid_area": null,
            "grid_auto_columns": null,
            "grid_auto_flow": null,
            "grid_auto_rows": null,
            "grid_column": null,
            "grid_gap": null,
            "grid_row": null,
            "grid_template_areas": null,
            "grid_template_columns": null,
            "grid_template_rows": null,
            "height": null,
            "justify_content": null,
            "justify_items": null,
            "left": null,
            "margin": null,
            "max_height": null,
            "max_width": null,
            "min_height": null,
            "min_width": null,
            "object_fit": null,
            "object_position": null,
            "order": null,
            "overflow": null,
            "overflow_x": null,
            "overflow_y": null,
            "padding": null,
            "right": null,
            "top": null,
            "visibility": null,
            "width": null
          }
        },
        "bec26e85ec4a49a2bc3326605d72da39": {
          "model_module": "@jupyter-widgets/base",
          "model_name": "LayoutModel",
          "model_module_version": "1.2.0",
          "state": {
            "_model_module": "@jupyter-widgets/base",
            "_model_module_version": "1.2.0",
            "_model_name": "LayoutModel",
            "_view_count": null,
            "_view_module": "@jupyter-widgets/base",
            "_view_module_version": "1.2.0",
            "_view_name": "LayoutView",
            "align_content": null,
            "align_items": null,
            "align_self": null,
            "border": null,
            "bottom": null,
            "display": null,
            "flex": null,
            "flex_flow": null,
            "grid_area": null,
            "grid_auto_columns": null,
            "grid_auto_flow": null,
            "grid_auto_rows": null,
            "grid_column": null,
            "grid_gap": null,
            "grid_row": null,
            "grid_template_areas": null,
            "grid_template_columns": null,
            "grid_template_rows": null,
            "height": null,
            "justify_content": null,
            "justify_items": null,
            "left": null,
            "margin": null,
            "max_height": null,
            "max_width": null,
            "min_height": null,
            "min_width": null,
            "object_fit": null,
            "object_position": null,
            "order": null,
            "overflow": null,
            "overflow_x": null,
            "overflow_y": null,
            "padding": null,
            "right": null,
            "top": null,
            "visibility": null,
            "width": null
          }
        },
        "2cdeccb0f0284335985f9e0d91f955d8": {
          "model_module": "@jupyter-widgets/controls",
          "model_name": "DescriptionStyleModel",
          "model_module_version": "1.5.0",
          "state": {
            "_model_module": "@jupyter-widgets/controls",
            "_model_module_version": "1.5.0",
            "_model_name": "DescriptionStyleModel",
            "_view_count": null,
            "_view_module": "@jupyter-widgets/base",
            "_view_module_version": "1.2.0",
            "_view_name": "StyleView",
            "description_width": ""
          }
        },
        "fa5944d234704023b47550e779b07fb8": {
          "model_module": "@jupyter-widgets/base",
          "model_name": "LayoutModel",
          "model_module_version": "1.2.0",
          "state": {
            "_model_module": "@jupyter-widgets/base",
            "_model_module_version": "1.2.0",
            "_model_name": "LayoutModel",
            "_view_count": null,
            "_view_module": "@jupyter-widgets/base",
            "_view_module_version": "1.2.0",
            "_view_name": "LayoutView",
            "align_content": null,
            "align_items": null,
            "align_self": null,
            "border": null,
            "bottom": null,
            "display": null,
            "flex": null,
            "flex_flow": null,
            "grid_area": null,
            "grid_auto_columns": null,
            "grid_auto_flow": null,
            "grid_auto_rows": null,
            "grid_column": null,
            "grid_gap": null,
            "grid_row": null,
            "grid_template_areas": null,
            "grid_template_columns": null,
            "grid_template_rows": null,
            "height": null,
            "justify_content": null,
            "justify_items": null,
            "left": null,
            "margin": null,
            "max_height": null,
            "max_width": null,
            "min_height": null,
            "min_width": null,
            "object_fit": null,
            "object_position": null,
            "order": null,
            "overflow": null,
            "overflow_x": null,
            "overflow_y": null,
            "padding": null,
            "right": null,
            "top": null,
            "visibility": null,
            "width": null
          }
        },
        "9f0f09aaa7154ccc8b6f29a32a87fd90": {
          "model_module": "@jupyter-widgets/controls",
          "model_name": "ProgressStyleModel",
          "model_module_version": "1.5.0",
          "state": {
            "_model_module": "@jupyter-widgets/controls",
            "_model_module_version": "1.5.0",
            "_model_name": "ProgressStyleModel",
            "_view_count": null,
            "_view_module": "@jupyter-widgets/base",
            "_view_module_version": "1.2.0",
            "_view_name": "StyleView",
            "bar_color": null,
            "description_width": ""
          }
        },
        "97ce8a4e940740bb872520b3cd17b630": {
          "model_module": "@jupyter-widgets/base",
          "model_name": "LayoutModel",
          "model_module_version": "1.2.0",
          "state": {
            "_model_module": "@jupyter-widgets/base",
            "_model_module_version": "1.2.0",
            "_model_name": "LayoutModel",
            "_view_count": null,
            "_view_module": "@jupyter-widgets/base",
            "_view_module_version": "1.2.0",
            "_view_name": "LayoutView",
            "align_content": null,
            "align_items": null,
            "align_self": null,
            "border": null,
            "bottom": null,
            "display": null,
            "flex": null,
            "flex_flow": null,
            "grid_area": null,
            "grid_auto_columns": null,
            "grid_auto_flow": null,
            "grid_auto_rows": null,
            "grid_column": null,
            "grid_gap": null,
            "grid_row": null,
            "grid_template_areas": null,
            "grid_template_columns": null,
            "grid_template_rows": null,
            "height": null,
            "justify_content": null,
            "justify_items": null,
            "left": null,
            "margin": null,
            "max_height": null,
            "max_width": null,
            "min_height": null,
            "min_width": null,
            "object_fit": null,
            "object_position": null,
            "order": null,
            "overflow": null,
            "overflow_x": null,
            "overflow_y": null,
            "padding": null,
            "right": null,
            "top": null,
            "visibility": null,
            "width": null
          }
        },
        "7040bad754214ca69e1c253d1b86aae5": {
          "model_module": "@jupyter-widgets/controls",
          "model_name": "DescriptionStyleModel",
          "model_module_version": "1.5.0",
          "state": {
            "_model_module": "@jupyter-widgets/controls",
            "_model_module_version": "1.5.0",
            "_model_name": "DescriptionStyleModel",
            "_view_count": null,
            "_view_module": "@jupyter-widgets/base",
            "_view_module_version": "1.2.0",
            "_view_name": "StyleView",
            "description_width": ""
          }
        },
        "741eab1926374eeb9d8dccd7676dc6c5": {
          "model_module": "@jupyter-widgets/controls",
          "model_name": "HBoxModel",
          "model_module_version": "1.5.0",
          "state": {
            "_dom_classes": [],
            "_model_module": "@jupyter-widgets/controls",
            "_model_module_version": "1.5.0",
            "_model_name": "HBoxModel",
            "_view_count": null,
            "_view_module": "@jupyter-widgets/controls",
            "_view_module_version": "1.5.0",
            "_view_name": "HBoxView",
            "box_style": "",
            "children": [
              "IPY_MODEL_1eb0e10074204da0bdf2ee10b4722942",
              "IPY_MODEL_d5ec37f2b71d41f9ae9c6101d2512f98",
              "IPY_MODEL_a42a20d526b145f78f4fbf60a2f705ec"
            ],
            "layout": "IPY_MODEL_ceec19b370454a0f82d4f6a3390513e4"
          }
        },
        "1eb0e10074204da0bdf2ee10b4722942": {
          "model_module": "@jupyter-widgets/controls",
          "model_name": "HTMLModel",
          "model_module_version": "1.5.0",
          "state": {
            "_dom_classes": [],
            "_model_module": "@jupyter-widgets/controls",
            "_model_module_version": "1.5.0",
            "_model_name": "HTMLModel",
            "_view_count": null,
            "_view_module": "@jupyter-widgets/controls",
            "_view_module_version": "1.5.0",
            "_view_name": "HTMLView",
            "description": "",
            "description_tooltip": null,
            "layout": "IPY_MODEL_ac7c9e81b2fa4f68b02c37b554032d76",
            "placeholder": "​",
            "style": "IPY_MODEL_8a4ecb0939fe475db5fbf26bafbebab4",
            "value": "Downloading: 100%"
          }
        },
        "d5ec37f2b71d41f9ae9c6101d2512f98": {
          "model_module": "@jupyter-widgets/controls",
          "model_name": "FloatProgressModel",
          "model_module_version": "1.5.0",
          "state": {
            "_dom_classes": [],
            "_model_module": "@jupyter-widgets/controls",
            "_model_module_version": "1.5.0",
            "_model_name": "FloatProgressModel",
            "_view_count": null,
            "_view_module": "@jupyter-widgets/controls",
            "_view_module_version": "1.5.0",
            "_view_name": "ProgressView",
            "bar_style": "success",
            "description": "",
            "description_tooltip": null,
            "layout": "IPY_MODEL_937397a3563e4f89a60f323e3729bd67",
            "max": 437992753,
            "min": 0,
            "orientation": "horizontal",
            "style": "IPY_MODEL_90daecdbaf06446ba2d4ce68c79e0904",
            "value": 437992753
          }
        },
        "a42a20d526b145f78f4fbf60a2f705ec": {
          "model_module": "@jupyter-widgets/controls",
          "model_name": "HTMLModel",
          "model_module_version": "1.5.0",
          "state": {
            "_dom_classes": [],
            "_model_module": "@jupyter-widgets/controls",
            "_model_module_version": "1.5.0",
            "_model_name": "HTMLModel",
            "_view_count": null,
            "_view_module": "@jupyter-widgets/controls",
            "_view_module_version": "1.5.0",
            "_view_name": "HTMLView",
            "description": "",
            "description_tooltip": null,
            "layout": "IPY_MODEL_6066100c47a64ee7aab6660f71068f3d",
            "placeholder": "​",
            "style": "IPY_MODEL_f02f2a8a0fa34e3580fd425db6f88837",
            "value": " 418M/418M [00:10&lt;00:00, 40.4MB/s]"
          }
        },
        "ceec19b370454a0f82d4f6a3390513e4": {
          "model_module": "@jupyter-widgets/base",
          "model_name": "LayoutModel",
          "model_module_version": "1.2.0",
          "state": {
            "_model_module": "@jupyter-widgets/base",
            "_model_module_version": "1.2.0",
            "_model_name": "LayoutModel",
            "_view_count": null,
            "_view_module": "@jupyter-widgets/base",
            "_view_module_version": "1.2.0",
            "_view_name": "LayoutView",
            "align_content": null,
            "align_items": null,
            "align_self": null,
            "border": null,
            "bottom": null,
            "display": null,
            "flex": null,
            "flex_flow": null,
            "grid_area": null,
            "grid_auto_columns": null,
            "grid_auto_flow": null,
            "grid_auto_rows": null,
            "grid_column": null,
            "grid_gap": null,
            "grid_row": null,
            "grid_template_areas": null,
            "grid_template_columns": null,
            "grid_template_rows": null,
            "height": null,
            "justify_content": null,
            "justify_items": null,
            "left": null,
            "margin": null,
            "max_height": null,
            "max_width": null,
            "min_height": null,
            "min_width": null,
            "object_fit": null,
            "object_position": null,
            "order": null,
            "overflow": null,
            "overflow_x": null,
            "overflow_y": null,
            "padding": null,
            "right": null,
            "top": null,
            "visibility": null,
            "width": null
          }
        },
        "ac7c9e81b2fa4f68b02c37b554032d76": {
          "model_module": "@jupyter-widgets/base",
          "model_name": "LayoutModel",
          "model_module_version": "1.2.0",
          "state": {
            "_model_module": "@jupyter-widgets/base",
            "_model_module_version": "1.2.0",
            "_model_name": "LayoutModel",
            "_view_count": null,
            "_view_module": "@jupyter-widgets/base",
            "_view_module_version": "1.2.0",
            "_view_name": "LayoutView",
            "align_content": null,
            "align_items": null,
            "align_self": null,
            "border": null,
            "bottom": null,
            "display": null,
            "flex": null,
            "flex_flow": null,
            "grid_area": null,
            "grid_auto_columns": null,
            "grid_auto_flow": null,
            "grid_auto_rows": null,
            "grid_column": null,
            "grid_gap": null,
            "grid_row": null,
            "grid_template_areas": null,
            "grid_template_columns": null,
            "grid_template_rows": null,
            "height": null,
            "justify_content": null,
            "justify_items": null,
            "left": null,
            "margin": null,
            "max_height": null,
            "max_width": null,
            "min_height": null,
            "min_width": null,
            "object_fit": null,
            "object_position": null,
            "order": null,
            "overflow": null,
            "overflow_x": null,
            "overflow_y": null,
            "padding": null,
            "right": null,
            "top": null,
            "visibility": null,
            "width": null
          }
        },
        "8a4ecb0939fe475db5fbf26bafbebab4": {
          "model_module": "@jupyter-widgets/controls",
          "model_name": "DescriptionStyleModel",
          "model_module_version": "1.5.0",
          "state": {
            "_model_module": "@jupyter-widgets/controls",
            "_model_module_version": "1.5.0",
            "_model_name": "DescriptionStyleModel",
            "_view_count": null,
            "_view_module": "@jupyter-widgets/base",
            "_view_module_version": "1.2.0",
            "_view_name": "StyleView",
            "description_width": ""
          }
        },
        "937397a3563e4f89a60f323e3729bd67": {
          "model_module": "@jupyter-widgets/base",
          "model_name": "LayoutModel",
          "model_module_version": "1.2.0",
          "state": {
            "_model_module": "@jupyter-widgets/base",
            "_model_module_version": "1.2.0",
            "_model_name": "LayoutModel",
            "_view_count": null,
            "_view_module": "@jupyter-widgets/base",
            "_view_module_version": "1.2.0",
            "_view_name": "LayoutView",
            "align_content": null,
            "align_items": null,
            "align_self": null,
            "border": null,
            "bottom": null,
            "display": null,
            "flex": null,
            "flex_flow": null,
            "grid_area": null,
            "grid_auto_columns": null,
            "grid_auto_flow": null,
            "grid_auto_rows": null,
            "grid_column": null,
            "grid_gap": null,
            "grid_row": null,
            "grid_template_areas": null,
            "grid_template_columns": null,
            "grid_template_rows": null,
            "height": null,
            "justify_content": null,
            "justify_items": null,
            "left": null,
            "margin": null,
            "max_height": null,
            "max_width": null,
            "min_height": null,
            "min_width": null,
            "object_fit": null,
            "object_position": null,
            "order": null,
            "overflow": null,
            "overflow_x": null,
            "overflow_y": null,
            "padding": null,
            "right": null,
            "top": null,
            "visibility": null,
            "width": null
          }
        },
        "90daecdbaf06446ba2d4ce68c79e0904": {
          "model_module": "@jupyter-widgets/controls",
          "model_name": "ProgressStyleModel",
          "model_module_version": "1.5.0",
          "state": {
            "_model_module": "@jupyter-widgets/controls",
            "_model_module_version": "1.5.0",
            "_model_name": "ProgressStyleModel",
            "_view_count": null,
            "_view_module": "@jupyter-widgets/base",
            "_view_module_version": "1.2.0",
            "_view_name": "StyleView",
            "bar_color": null,
            "description_width": ""
          }
        },
        "6066100c47a64ee7aab6660f71068f3d": {
          "model_module": "@jupyter-widgets/base",
          "model_name": "LayoutModel",
          "model_module_version": "1.2.0",
          "state": {
            "_model_module": "@jupyter-widgets/base",
            "_model_module_version": "1.2.0",
            "_model_name": "LayoutModel",
            "_view_count": null,
            "_view_module": "@jupyter-widgets/base",
            "_view_module_version": "1.2.0",
            "_view_name": "LayoutView",
            "align_content": null,
            "align_items": null,
            "align_self": null,
            "border": null,
            "bottom": null,
            "display": null,
            "flex": null,
            "flex_flow": null,
            "grid_area": null,
            "grid_auto_columns": null,
            "grid_auto_flow": null,
            "grid_auto_rows": null,
            "grid_column": null,
            "grid_gap": null,
            "grid_row": null,
            "grid_template_areas": null,
            "grid_template_columns": null,
            "grid_template_rows": null,
            "height": null,
            "justify_content": null,
            "justify_items": null,
            "left": null,
            "margin": null,
            "max_height": null,
            "max_width": null,
            "min_height": null,
            "min_width": null,
            "object_fit": null,
            "object_position": null,
            "order": null,
            "overflow": null,
            "overflow_x": null,
            "overflow_y": null,
            "padding": null,
            "right": null,
            "top": null,
            "visibility": null,
            "width": null
          }
        },
        "f02f2a8a0fa34e3580fd425db6f88837": {
          "model_module": "@jupyter-widgets/controls",
          "model_name": "DescriptionStyleModel",
          "model_module_version": "1.5.0",
          "state": {
            "_model_module": "@jupyter-widgets/controls",
            "_model_module_version": "1.5.0",
            "_model_name": "DescriptionStyleModel",
            "_view_count": null,
            "_view_module": "@jupyter-widgets/base",
            "_view_module_version": "1.2.0",
            "_view_name": "StyleView",
            "description_width": ""
          }
        }
      }
    }
  },
  "cells": [
    {
      "cell_type": "markdown",
      "metadata": {
        "id": "view-in-github",
        "colab_type": "text"
      },
      "source": [
        "<a href=\"https://colab.research.google.com/github/Zane-Z/RSM8521_Final_Project/blob/main/RSM8521_FinalProject.ipynb\" target=\"_parent\"><img src=\"https://colab.research.google.com/assets/colab-badge.svg\" alt=\"Open In Colab\"/></a>"
      ]
    },
    {
      "cell_type": "code",
      "source": [
        "# Install transformers\n",
        "!pip install transformers"
      ],
      "metadata": {
        "id": "C6Y6EW1smXc8",
        "colab": {
          "base_uri": "https://localhost:8080/"
        },
        "outputId": "ed668d88-35be-4436-c845-70ed914baaa9"
      },
      "execution_count": null,
      "outputs": [
        {
          "output_type": "stream",
          "name": "stdout",
          "text": [
            "Collecting transformers\n",
            "  Downloading transformers-4.18.0-py3-none-any.whl (4.0 MB)\n",
            "\u001b[K     |████████████████████████████████| 4.0 MB 5.3 MB/s \n",
            "\u001b[?25hRequirement already satisfied: filelock in /usr/local/lib/python3.7/dist-packages (from transformers) (3.6.0)\n",
            "Collecting sacremoses\n",
            "  Downloading sacremoses-0.0.49-py3-none-any.whl (895 kB)\n",
            "\u001b[K     |████████████████████████████████| 895 kB 37.0 MB/s \n",
            "\u001b[?25hCollecting huggingface-hub<1.0,>=0.1.0\n",
            "  Downloading huggingface_hub-0.5.1-py3-none-any.whl (77 kB)\n",
            "\u001b[K     |████████████████████████████████| 77 kB 2.3 MB/s \n",
            "\u001b[?25hRequirement already satisfied: requests in /usr/local/lib/python3.7/dist-packages (from transformers) (2.23.0)\n",
            "Requirement already satisfied: importlib-metadata in /usr/local/lib/python3.7/dist-packages (from transformers) (4.11.3)\n",
            "Requirement already satisfied: tqdm>=4.27 in /usr/local/lib/python3.7/dist-packages (from transformers) (4.64.0)\n",
            "Collecting tokenizers!=0.11.3,<0.13,>=0.11.1\n",
            "  Downloading tokenizers-0.12.1-cp37-cp37m-manylinux_2_12_x86_64.manylinux2010_x86_64.whl (6.6 MB)\n",
            "\u001b[K     |████████████████████████████████| 6.6 MB 39.2 MB/s \n",
            "\u001b[?25hCollecting pyyaml>=5.1\n",
            "  Downloading PyYAML-6.0-cp37-cp37m-manylinux_2_5_x86_64.manylinux1_x86_64.manylinux_2_12_x86_64.manylinux2010_x86_64.whl (596 kB)\n",
            "\u001b[K     |████████████████████████████████| 596 kB 14.1 MB/s \n",
            "\u001b[?25hRequirement already satisfied: regex!=2019.12.17 in /usr/local/lib/python3.7/dist-packages (from transformers) (2019.12.20)\n",
            "Requirement already satisfied: numpy>=1.17 in /usr/local/lib/python3.7/dist-packages (from transformers) (1.21.5)\n",
            "Requirement already satisfied: packaging>=20.0 in /usr/local/lib/python3.7/dist-packages (from transformers) (21.3)\n",
            "Requirement already satisfied: typing-extensions>=3.7.4.3 in /usr/local/lib/python3.7/dist-packages (from huggingface-hub<1.0,>=0.1.0->transformers) (4.1.1)\n",
            "Requirement already satisfied: pyparsing!=3.0.5,>=2.0.2 in /usr/local/lib/python3.7/dist-packages (from packaging>=20.0->transformers) (3.0.8)\n",
            "Requirement already satisfied: zipp>=0.5 in /usr/local/lib/python3.7/dist-packages (from importlib-metadata->transformers) (3.8.0)\n",
            "Requirement already satisfied: chardet<4,>=3.0.2 in /usr/local/lib/python3.7/dist-packages (from requests->transformers) (3.0.4)\n",
            "Requirement already satisfied: urllib3!=1.25.0,!=1.25.1,<1.26,>=1.21.1 in /usr/local/lib/python3.7/dist-packages (from requests->transformers) (1.24.3)\n",
            "Requirement already satisfied: idna<3,>=2.5 in /usr/local/lib/python3.7/dist-packages (from requests->transformers) (2.10)\n",
            "Requirement already satisfied: certifi>=2017.4.17 in /usr/local/lib/python3.7/dist-packages (from requests->transformers) (2021.10.8)\n",
            "Requirement already satisfied: click in /usr/local/lib/python3.7/dist-packages (from sacremoses->transformers) (7.1.2)\n",
            "Requirement already satisfied: joblib in /usr/local/lib/python3.7/dist-packages (from sacremoses->transformers) (1.1.0)\n",
            "Requirement already satisfied: six in /usr/local/lib/python3.7/dist-packages (from sacremoses->transformers) (1.15.0)\n",
            "Installing collected packages: pyyaml, tokenizers, sacremoses, huggingface-hub, transformers\n",
            "  Attempting uninstall: pyyaml\n",
            "    Found existing installation: PyYAML 3.13\n",
            "    Uninstalling PyYAML-3.13:\n",
            "      Successfully uninstalled PyYAML-3.13\n",
            "Successfully installed huggingface-hub-0.5.1 pyyaml-6.0 sacremoses-0.0.49 tokenizers-0.12.1 transformers-4.18.0\n"
          ]
        }
      ]
    },
    {
      "cell_type": "code",
      "source": [
        "import pandas as pd\n",
        "import numpy as np\n",
        "import seaborn as sns\n",
        "from scipy.stats import uniform, randint\n",
        "import torch\n",
        "from transformers import pipeline\n",
        "import argparse\n",
        "import os"
      ],
      "metadata": {
        "id": "d3Fg4NoAmkvS"
      },
      "execution_count": null,
      "outputs": []
    },
    {
      "cell_type": "code",
      "source": [
        "from sklearn.model_selection import train_test_split\n",
        "from sklearn.metrics import confusion_matrix, classification_report\n",
        "from collections import defaultdict\n",
        "from textwrap import wrap\n",
        "from torch import nn, optim\n",
        "from torch.utils.data import Dataset, DataLoader\n",
        "\n",
        "from transformers import AutoTokenizer, AutoModelForSequenceClassification"
      ],
      "metadata": {
        "id": "_vg2PWMyotIm"
      },
      "execution_count": null,
      "outputs": []
    },
    {
      "cell_type": "code",
      "source": [
        "from sklearn.linear_model import LinearRegression\n",
        "from sklearn.metrics import mean_absolute_error"
      ],
      "metadata": {
        "id": "luJUiQldIGlR"
      },
      "execution_count": null,
      "outputs": []
    },
    {
      "cell_type": "code",
      "source": [
        "from sklearn.preprocessing import StandardScaler\n",
        "from tensorflow.keras.models import Sequential\n",
        "from tensorflow.keras import layers\n",
        "from keras.layers import Dense, Activation, Dropout\n",
        "from tensorflow.keras import regularizers\n",
        "from tensorflow.keras import optimizers\n",
        "from keras.callbacks import EarlyStopping\n",
        "from tensorflow.keras.optimizers import Adam"
      ],
      "metadata": {
        "id": "iHF_pJqIma7O"
      },
      "execution_count": null,
      "outputs": []
    },
    {
      "cell_type": "markdown",
      "source": [
        "## Data Scraping and Agregating"
      ],
      "metadata": {
        "id": "RXkuxOFwALFZ"
      }
    },
    {
      "cell_type": "code",
      "source": [
        "from selenium import webdriver\n",
        "from selenium.webdriver.common.by import By\n",
        "import time\n",
        "from bs4 import BeautifulSoup\n",
        "import re\n",
        "import pandas as pd\n",
        "import csv\n",
        "from itertools import zip_longest\n",
        "import bs4 as bs\n",
        "import pickle\n",
        "import requests\n",
        "import wrds\n",
        "\n",
        "import yfinance as yf\n",
        "import datetime\n",
        "import io\n",
        "import warnings\n",
        "import random\n",
        "import numpy as np"
      ],
      "metadata": {
        "id": "j-j5pXhOAQAV"
      },
      "execution_count": null,
      "outputs": []
    },
    {
      "cell_type": "markdown",
      "source": [
        "### Getting S&P tickers"
      ],
      "metadata": {
        "id": "_53DfRtDAg1i"
      }
    },
    {
      "cell_type": "code",
      "source": [
        "def save_sp500_tickers():\n",
        "    resp = requests.get('http://en.wikipedia.org/wiki/List_of_S%26P_500_companies')\n",
        "    soup = bs.BeautifulSoup(resp.text, 'html.parser')\n",
        "    table = soup.find('table', {'class': 'wikitable sortable'})\n",
        "    tickers = []\n",
        "    for row in table.findAll('tr')[1:]:\n",
        "        ticker = row.findAll('td')[0].text\n",
        "        tickers.append(ticker[:-1])\n",
        "        \n",
        "    with open(\"sp500tickers.pickle\",\"wb\") as f:\n",
        "        pickle.dump(tickers,f)\n",
        "        \n",
        "    return tickers\n",
        "TickerList = save_sp500_tickers()"
      ],
      "metadata": {
        "id": "6w1Vx5ikATWZ"
      },
      "execution_count": null,
      "outputs": []
    },
    {
      "cell_type": "markdown",
      "source": [
        "### Getting stock prices"
      ],
      "metadata": {
        "id": "j6nzmOWfAk1t"
      }
    },
    {
      "cell_type": "code",
      "source": [
        "warnings.filterwarnings(\"ignore\", category=FutureWarning) \n",
        "\n",
        "start = datetime.datetime(2016,2,1)\n",
        "end = datetime.datetime(2022,4,12)\n",
        "\n",
        "stock_final = pd.DataFrame()\n",
        "# iterate over each symbol\n",
        "for i in TickerList:  \n",
        "    \n",
        "    # print the symbol which is being downloaded\n",
        "    print( str(TickerList.index(i)) + str(' : ') + i, sep=',', end=',', flush=True)  \n",
        "    \n",
        "    try:\n",
        "        # download the stock price \n",
        "        stock = []\n",
        "        stock = yf.download(i,start=start, end=end, progress=False)\n",
        "        \n",
        "        # append the individual stock prices \n",
        "        if len(stock) == 0:\n",
        "            None\n",
        "        else:\n",
        "            stock['Name']=i\n",
        "            stock_final = stock_final.append(stock,sort=False)\n",
        "    except Exception:\n",
        "        None"
      ],
      "metadata": {
        "id": "CiTlQgVLAVUi"
      },
      "execution_count": null,
      "outputs": []
    },
    {
      "cell_type": "code",
      "source": [
        "#stock_final['Date'] = stock_final.index\n",
        "stock_final = stock_final.reset_index(level=0)\n",
        "stock_final = stock_final[['Date','Name','Open','Close']]\n",
        "stock_final.rename(columns = {'Name':'Ticker'}, inplace = True)"
      ],
      "metadata": {
        "id": "Qpl2gC73AV8J"
      },
      "execution_count": null,
      "outputs": []
    },
    {
      "cell_type": "code",
      "source": [
        "stock_final['1Week'] = stock_final['Date']\n",
        "stock_final['1Month'] = stock_final['Date']\n",
        "stock_final['1Quarter'] = stock_final['Date']\n",
        "stock_final['1Day'] = stock_final['Date']\n",
        "\n",
        "for i in range(1,31):\n",
        "    name = 'Hist' + str(i)\n",
        "    stock_final[name] = stock_final['Date']\n",
        "stock_final"
      ],
      "metadata": {
        "id": "DsGRAaeLAqap"
      },
      "execution_count": null,
      "outputs": []
    },
    {
      "cell_type": "code",
      "source": [
        "# List of Tickers already completed\n",
        "try:\n",
        "    Done = pd.read_csv('Transcripts.csv')['Ticker'].unique()\n",
        "except:\n",
        "    Done = []\n"
      ],
      "metadata": {
        "id": "Q4IdAuqRAr95"
      },
      "execution_count": null,
      "outputs": []
    },
    {
      "cell_type": "markdown",
      "source": [
        "### Scraping Seeking Alpha"
      ],
      "metadata": {
        "id": "xj9OFkuUAvQM"
      }
    },
    {
      "cell_type": "code",
      "source": [
        "warnings.filterwarnings(\"ignore\", category=FutureWarning) \n",
        "\n",
        "Tickers = []\n",
        "Transcripts = []\n",
        "df = pd.DataFrame(columns = ['Ticker','Transcript','Date'])\n",
        "\n",
        "#driver = webdriver.Chrome()\n",
        "\n",
        "for Ticker in TickerList:\n",
        "    if Ticker not in Done:\n",
        "\n",
        "        print(Ticker)\n",
        "\n",
        "        gotoPre2 = 'https://seekingalpha.com'\n",
        "        gotoPre = 'https://seekingalpha.com/symbol/' + str(Ticker)\n",
        "        goto = 'https://seekingalpha.com/symbol/' + str(Ticker) + '/earnings/transcripts'\n",
        "\n",
        "\n",
        "        #time.sleep(5)\n",
        "        #time.sleep(random.randint(1,5))\n",
        "\n",
        "        option = webdriver.ChromeOptions()\n",
        "        option.add_argument('--disable-blink-features=AutomationControlled')\n",
        "        option.add_argument(\"window-size=720,400\")\n",
        "        option.add_argument(\"user-agent=Mozilla/5.0 (Windows NT 10.0; Win64; x64) AppleWebKit/537.36 (KHTML, like Gecko) Chrome/74.0.3729.169 Safari/537.36\")\n",
        "        driver = webdriver.Chrome(options = option)\n",
        "\n",
        "        #time.sleep(1)\n",
        "\n",
        "        driver.delete_all_cookies()\n",
        "        driver.get(gotoPre2)\n",
        "        time.sleep(1)\n",
        "        driver.get(gotoPre)\n",
        "        time.sleep(1)\n",
        "        driver.get(goto)\n",
        "        time.sleep(1)\n",
        "\n",
        "        page_source = driver.page_source\n",
        "        soup = BeautifulSoup(page_source, 'html.parser')\n",
        "\n",
        "        links = []\n",
        "\n",
        "        for a in soup.find_all('a', string= re.compile('Call Transcript')):\n",
        "            #print('Found the URL:', a['href'])\n",
        "            links.append(a['href'])\n",
        "        \n",
        "    \n",
        "        #time.sleep(2)\n",
        "\n",
        "        for link in links:\n",
        "            test = 'https://seekingalpha.com/' + link\n",
        "            #print(link)\n",
        "            print(len(Transcripts))\n",
        "            driver.delete_all_cookies()\n",
        "            driver.get(goto)\n",
        "            #time.sleep(1)\n",
        "            driver.get(test)\n",
        "            driver.delete_all_cookies()\n",
        "            page_source = driver.page_source\n",
        "            soup = BeautifulSoup(page_source, 'html.parser')\n",
        "\n",
        "            for item in soup.find_all(\"span\", {\"data-test-id\":\"post-date\"}):\n",
        "                Date = str(item.getText())\n",
        "\n",
        "            for item in soup.find_all(\"div\", {\"data-test-id\":\"content-container\"}):\n",
        "                try:\n",
        "                    if len(item.getText()) > 5000:\n",
        "\n",
        "                        Text = str(item.getText())\n",
        "\n",
        "                        Transcripts.append(Text)\n",
        "                        Tickers.append(Ticker)\n",
        "\n",
        "                        series = pd.Series([Ticker,Text,Date], index = df.columns)\n",
        "                        df = df.append(series, ignore_index=True)\n",
        "\n",
        "                except:\n",
        "                    pass\n",
        "        driver.close()"
      ],
      "metadata": {
        "id": "VF8DE04kAth-"
      },
      "execution_count": null,
      "outputs": []
    },
    {
      "cell_type": "markdown",
      "source": [
        "### Data Agregation"
      ],
      "metadata": {
        "id": "nWVMHxJhAzzM"
      }
    },
    {
      "cell_type": "code",
      "source": [
        "df['Date'] = pd.to_datetime(df['Date'])\n",
        "\n",
        "values = [0, 2, 1]\n",
        "values2 = [0, 1, 2]\n",
        "\n",
        "conditions = []\n",
        "for i in range(0,91):\n",
        "    conditions.append([\n",
        "        ((df['Date'] + datetime.timedelta(days=i)).dt.day_of_week <= 4),\n",
        "        ((df['Date'] + datetime.timedelta(days=i)).dt.day_of_week == 5),\n",
        "        ((df['Date'] + datetime.timedelta(days=i)).dt.day_of_week == 6)\n",
        "        ])\n",
        "\n",
        "conditions2 = []\n",
        "for k in range(0,31):\n",
        "    conditions2.append([\n",
        "        ((df['Date'] - datetime.timedelta(days=k)).dt.day_of_week <= 4),\n",
        "        ((df['Date'] - datetime.timedelta(days=k)).dt.day_of_week == 5),\n",
        "        ((df['Date'] - datetime.timedelta(days=k)).dt.day_of_week == 6)\n",
        "        ])\n",
        "\n",
        "\n",
        "for i in range(0,len(conditions)):\n",
        "    name = 'Offset'+str(i)\n",
        "    df[name] = np.select(conditions[i], values)\n",
        "\n",
        "for i in range(0,len(conditions2)):\n",
        "    name = 'Offset_Neg' + str(i)\n",
        "    df[name] = np.select(conditions2[i], values2)\n",
        "\n",
        "df['Date'] = pd.to_datetime(df['Date']).dt.date\n",
        "df['1Day'] = df['Date'] + datetime.timedelta(days=1) +  df['Offset1'].map(datetime.timedelta)\n",
        "df['1Week'] = df['Date'] + datetime.timedelta(days=7) + df['Offset7'].map(datetime.timedelta)\n",
        "df['1Month'] = df['Date'] + datetime.timedelta(days=30) + df['Offset30'].map(datetime.timedelta)\n",
        "df['1Quarter'] = df['Date'] + datetime.timedelta(days=90) + df['Offset90'].map(datetime.timedelta)\n",
        "\n",
        "df[['Date','1Day', '1Week', '1Month', '1Quarter']] = df[['Date','1Day', '1Week', '1Month', '1Quarter']].apply(pd.to_datetime)\n",
        "\n",
        "for i in range(1,31):\n",
        "    name = 'Hist' + str(i)\n",
        "    OffsetName = 'Offset_Neg' + str(i)\n",
        "    df[name] = df['Date'] + datetime.timedelta(days = -i) - df[OffsetName].map(datetime.timedelta)\n",
        "    df[name] = df[name].apply(pd.to_datetime)"
      ],
      "metadata": {
        "id": "hYIaLjYmA1t8"
      },
      "execution_count": null,
      "outputs": []
    },
    {
      "cell_type": "code",
      "source": [
        "df2 = df.merge(stock_final, on = ['Ticker','Date'], how = 'left',suffixes=('', '_Current'))\n",
        "df2 = df2.merge(stock_final, on = ['Ticker','1Day'], how = 'left',suffixes=('', '_1Day'))\n",
        "df2 = df2.merge(stock_final, on = ['Ticker','1Week'], how = 'left',suffixes=('', '_1Week'))\n",
        "df2 = df2.merge(stock_final, on = ['Ticker','1Month'], how = 'left',suffixes=('', '_1Month'))\n",
        "df2 = df2.merge(stock_final, on = ['Ticker','1Quarter'], how = 'left',suffixes=('', '_1Quarter'))\n",
        "\n",
        "for i in range(1,31):\n",
        "    name = 'Hist' + str(i)\n",
        "    df2 = df2.merge(stock_final, on = ['Ticker',name], how = 'left',suffixes=('', '_'+ name))\n",
        "\n",
        "\n",
        "for column in df2.columns:\n",
        "    if any(x in column for x in ['_1Week','_1Quarter', '_1Month', '_1Day']):\n",
        "        if 'Close' not in column:\n",
        "            df2.drop(column, axis=1, inplace=True)\n",
        "\n",
        "for column in df2.columns:\n",
        "    if any(x in column for x in ['_Current']):\n",
        "        if 'Open' not in column:\n",
        "            df2.drop(column, axis=1, inplace=True)\n",
        "\n",
        "\n",
        "histList =[]\n",
        "for i in range(0,31):\n",
        "    histList.append('_Hist' + str(i))\n",
        "\n",
        "for column in df2.columns:\n",
        "    if any(x in column for x in histList):\n",
        "        if 'Close' not in column:\n",
        "            df2.drop(column, axis=1, inplace=True)\n",
        "\n",
        "for column in df2.columns:\n",
        "    if 'Offset' in column:\n",
        "        df2.drop(column, axis=1, inplace=True)"
      ],
      "metadata": {
        "id": "5N4hUdbjA1xA"
      },
      "execution_count": null,
      "outputs": []
    },
    {
      "cell_type": "code",
      "source": [
        "\n",
        "df2['1WeekChange'] = (df2['Close_1Week'] - df2['Open'])/ df2['Open']\n",
        "df2['1MonthChange'] = (df2['Close_1Month'] - df2['Open'])/ df2['Open']\n",
        "df2['1QuarterChange'] = (df2['Close_1Quarter'] - df2['Open'])/ df2['Open']\n",
        "df2['1DayChange'] = (df2['Close_1Day'] - df2['Open'])/ df2['Open']\n",
        "\n",
        "for k in range(1,31):\n",
        "    name = 'Close_Hist' + str(k)\n",
        "    df2[name] = df2[name]/df2['Open']\n",
        "\n",
        "pd.set_option('display.max_columns', 100)\n",
        "df2"
      ],
      "metadata": {
        "id": "1MqQlaiFA1zL"
      },
      "execution_count": null,
      "outputs": []
    },
    {
      "cell_type": "code",
      "source": [
        "#df.to_csv('Transcripts.csv', index = False)\n",
        "\n",
        "# if file does not exist write header \n",
        "if not os.path.isfile('Transcripts.csv'):\n",
        "   df2.to_csv('Transcripts.csv', header=df2.columns, index = False)\n",
        "else: # else it exists so append without writing the header\n",
        "   df2.to_csv('Transcripts.csv', mode='a', header=False, index = False)"
      ],
      "metadata": {
        "id": "fedJMPZpA9fw"
      },
      "execution_count": null,
      "outputs": []
    },
    {
      "cell_type": "markdown",
      "source": [
        "## Generating Sentiments"
      ],
      "metadata": {
        "id": "9mc29qQfBRAV"
      }
    },
    {
      "cell_type": "code",
      "execution_count": null,
      "metadata": {
        "id": "v51YKL3pBUkP"
      },
      "outputs": [],
      "source": [
        "from sklearn.linear_model import LinearRegression"
      ]
    },
    {
      "cell_type": "code",
      "execution_count": null,
      "metadata": {
        "colab": {
          "base_uri": "https://localhost:8080/"
        },
        "outputId": "bc01ec11-0899-4396-c01c-eb5dfc7117f5",
        "id": "a5W2cVcWBUkQ"
      },
      "outputs": [
        {
          "output_type": "execute_result",
          "data": {
            "text/plain": [
              "<torch._C.Generator at 0x7f4582c06310>"
            ]
          },
          "metadata": {},
          "execution_count": 6
        }
      ],
      "source": [
        "# Set seed\n",
        "RANDOM_SEED = 42\n",
        "np.random.seed(RANDOM_SEED)\n",
        "torch.manual_seed(RANDOM_SEED)"
      ]
    },
    {
      "cell_type": "code",
      "execution_count": null,
      "metadata": {
        "colab": {
          "base_uri": "https://localhost:8080/"
        },
        "outputId": "08eb27c8-9152-4afa-e870-93fc5a2b520d",
        "id": "j2lKtxsyBUkR"
      },
      "outputs": [
        {
          "output_type": "stream",
          "name": "stdout",
          "text": [
            "Mounted at /content/drive\n"
          ]
        }
      ],
      "source": [
        "# This will ask you to give Colab permission to access your Google Drive \n",
        "# and enter an authorization code.\n",
        "# See: https://colab.research.google.com/notebooks/io.ipynb#scrollTo=u22w3BFiOveA\n",
        "\n",
        "from google.colab import drive\n",
        "drive.mount('/content/drive')"
      ]
    },
    {
      "cell_type": "code",
      "execution_count": null,
      "metadata": {
        "id": "ZMdYaQgVBUkS"
      },
      "outputs": [],
      "source": [
        "# MODIFY THIS LINE with the path to where you saved the datafiles on your Google drive\n",
        "\n",
        "path = '/content/drive/MyDrive/DeepLearningProject/'"
      ]
    },
    {
      "cell_type": "code",
      "execution_count": null,
      "metadata": {
        "id": "LtDAOgzNhrQY"
      },
      "outputs": [],
      "source": [
        "## Read Transcripts\n",
        "\n",
        "data_path = path + 'Transcripts.csv'\n",
        "transcripts = pd.read_csv(data_path)\n",
        "\n",
        "train, test = train_test_split(transcripts, test_size=0.2, random_state=RANDOM_SEED)\n",
        "train, validation = train_test_split(train, test_size=0.2, random_state=RANDOM_SEED)"
      ]
    },
    {
      "cell_type": "code",
      "execution_count": null,
      "metadata": {
        "colab": {
          "base_uri": "https://localhost:8080/",
          "height": 177,
          "referenced_widgets": [
            "929d6647774e480589b91266cef57211",
            "89cfb329839f4eb9b00469608869bfd0",
            "f2cfb43b02a0415380e3c54ceba1877a",
            "afb531484c0948cebde087baf9d77f00",
            "7ce83de5b9224174afc2f8a3ee799618",
            "b504dfed747e43898acf522ed8140464",
            "2014f1b9958a4c0ca301844bca9d613e",
            "17eefb14aeb5418eb1bf5ff031e48623",
            "3e659886f8b64eb7877b91f1e3da74e0",
            "341043644d354c0db3d867d8e75f957a",
            "0a415d04844148519d8d114bfd004eea",
            "7dd89a17df1449b49511d603f33ea20d",
            "1b7b029c965b4950b86264806b4f7770",
            "7b18074ab70349c6bec4e9e3f3cfd783",
            "5c31b7437b2846f2a12c4af30f1942aa",
            "e1fdd1eb9891481a887e55fd7e9f42da",
            "c8d21ac1a8c3491cbf24b8f742398d23",
            "edae234a5565475681b036106791a3f2",
            "e6c9f28cc38145098406f0b36e456623",
            "dbc75c4584ad4fee8b0dcecbad7986e9",
            "552e2113719a4c0ebdab214cba52b835",
            "0188fe823d1940aeb134a2e557657727",
            "8670a2ce3f914c03b109c1b9d3b6f00f",
            "b0dbe02eef68499f9e6575bdcdd7dd1c",
            "ce9a39fcd68446a4b3314576b0d162fa",
            "15390c8e31954438be750c1f33e1159d",
            "6a22882f9d8a4e5d9e078bf200e7280d",
            "b26021d8308a40a682745d8fa642cae5",
            "206630065b26444c81edd61eff574f00",
            "a3b2b2105ffe42d785f462f5dcb0a2a4",
            "6eab75a39d6049dea196f27f8c52ffac",
            "ce03d18288714de7b71085ab0d7f8c70",
            "6fbdb55db4f14592aa5e944cbb1add93",
            "34dca975b4704b1fab02fe08192a27c5",
            "b2f44f99335b4ed096e35ac353d38d86",
            "b6a8e63ed97649af96e533e1ce1e0981",
            "3e8398a9cf34409aa7f229011cdaa78f",
            "823196aeddca40abb0a5c1fabe83cf82",
            "dae2cd1c736c4bf59b40beb6ea1d1bbf",
            "4f02689cd2f4451aa4081895d28ec2bb",
            "b2a20f9fc9624551a08f1962c413a225",
            "e450fe6d46784a0e92b1872275afcbb9",
            "c666400792d343689618948a4b6a9ca3",
            "66e126d0efb94e8f9fc7e1d4585ec807",
            "03b7b7e47b8d49a98da21bbed4b249e8",
            "a2b5506930af4c38ae34e50cf5f1732d",
            "33c7b66af02e4c83a8776de97ac1778c",
            "2f12fadb0b834a68bdc2b7edc76649e1",
            "65049f0b8eda4b5984fbda6bac1cfe32",
            "efe4d48d9a4443caa1316fde2e03d96a",
            "695e091ef3ae41bbb429150dcf8dae4d",
            "84f3e8d9802041638e7ae1a541cc8c14",
            "83d152f852d441588fea97ff4442031d",
            "9c39fe30fee54d82a9e0fcac3babae75",
            "6d3ae316428e459096bd4a4319e51bc7"
          ]
        },
        "outputId": "3aa08e29-5c0a-40ae-ba12-97c69c4e3569",
        "id": "A8qzpgPeBUkT"
      },
      "outputs": [
        {
          "output_type": "display_data",
          "data": {
            "text/plain": [
              "Downloading:   0%|          | 0.00/252 [00:00<?, ?B/s]"
            ],
            "application/vnd.jupyter.widget-view+json": {
              "version_major": 2,
              "version_minor": 0,
              "model_id": "929d6647774e480589b91266cef57211"
            }
          },
          "metadata": {}
        },
        {
          "output_type": "display_data",
          "data": {
            "text/plain": [
              "Downloading:   0%|          | 0.00/758 [00:00<?, ?B/s]"
            ],
            "application/vnd.jupyter.widget-view+json": {
              "version_major": 2,
              "version_minor": 0,
              "model_id": "7dd89a17df1449b49511d603f33ea20d"
            }
          },
          "metadata": {}
        },
        {
          "output_type": "display_data",
          "data": {
            "text/plain": [
              "Downloading:   0%|          | 0.00/226k [00:00<?, ?B/s]"
            ],
            "application/vnd.jupyter.widget-view+json": {
              "version_major": 2,
              "version_minor": 0,
              "model_id": "8670a2ce3f914c03b109c1b9d3b6f00f"
            }
          },
          "metadata": {}
        },
        {
          "output_type": "display_data",
          "data": {
            "text/plain": [
              "Downloading:   0%|          | 0.00/112 [00:00<?, ?B/s]"
            ],
            "application/vnd.jupyter.widget-view+json": {
              "version_major": 2,
              "version_minor": 0,
              "model_id": "34dca975b4704b1fab02fe08192a27c5"
            }
          },
          "metadata": {}
        },
        {
          "output_type": "display_data",
          "data": {
            "text/plain": [
              "Downloading:   0%|          | 0.00/418M [00:00<?, ?B/s]"
            ],
            "application/vnd.jupyter.widget-view+json": {
              "version_major": 2,
              "version_minor": 0,
              "model_id": "03b7b7e47b8d49a98da21bbed4b249e8"
            }
          },
          "metadata": {}
        }
      ],
      "source": [
        "# Model and Tokenizer\n",
        "tokenizer = AutoTokenizer.from_pretrained(\"ProsusAI/finbert\")\n",
        "model = AutoModelForSequenceClassification.from_pretrained(\"ProsusAI/finbert\")"
      ]
    },
    {
      "cell_type": "code",
      "execution_count": null,
      "metadata": {
        "id": "zqRJopTAknNY"
      },
      "outputs": [],
      "source": [
        "def splitter(n, s):\n",
        "    pieces = s.split()\n",
        "    return (\" \".join(pieces[i:i+n]) for i in range(0, len(pieces), n))"
      ]
    },
    {
      "cell_type": "code",
      "execution_count": null,
      "metadata": {
        "id": "35G5e2nzBUkU"
      },
      "outputs": [],
      "source": [
        "def predict(text):\n",
        "\n",
        "    neg = []\n",
        "    neutral = []\n",
        "    pos = []\n",
        "    for piece in splitter(250, text):\n",
        "\n",
        "        inputs = tokenizer(piece, return_tensors=\"pt\")\n",
        "\n",
        "        try:\n",
        "\n",
        "            with torch.no_grad():\n",
        "                logits = model(**inputs).logits\n",
        "\n",
        "            predicted_class_id = logits.argmax().item()\n",
        "\n",
        "            neg.append(logits.tolist()[0][0])\n",
        "            neutral.append(logits.tolist()[0][1])\n",
        "            pos.append(logits.tolist()[0][2])\n",
        "        except:\n",
        "            neg.append(0)\n",
        "            neutral.append(0)\n",
        "            pos.append(0)\n",
        "    \n",
        "    Sentiment = [np.average(neg), np.average(neutral), np.average(pos)]\n",
        "\n",
        "    return Sentiment"
      ]
    },
    {
      "cell_type": "code",
      "execution_count": null,
      "metadata": {
        "colab": {
          "base_uri": "https://localhost:8080/"
        },
        "id": "2LCdfeBap9VN",
        "outputId": "d2bfeba3-a63a-4d7b-f51b-bdf1b4bf3929"
      },
      "outputs": [
        {
          "output_type": "stream",
          "name": "stderr",
          "text": [
            "/usr/local/lib/python3.7/dist-packages/ipykernel_launcher.py:8: SettingWithCopyWarning: \n",
            "A value is trying to be set on a copy of a slice from a DataFrame.\n",
            "Try using .loc[row_indexer,col_indexer] = value instead\n",
            "\n",
            "See the caveats in the documentation: https://pandas.pydata.org/pandas-docs/stable/user_guide/indexing.html#returning-a-view-versus-a-copy\n",
            "  \n",
            "/usr/local/lib/python3.7/dist-packages/ipykernel_launcher.py:9: SettingWithCopyWarning: \n",
            "A value is trying to be set on a copy of a slice from a DataFrame.\n",
            "Try using .loc[row_indexer,col_indexer] = value instead\n",
            "\n",
            "See the caveats in the documentation: https://pandas.pydata.org/pandas-docs/stable/user_guide/indexing.html#returning-a-view-versus-a-copy\n",
            "  if __name__ == '__main__':\n",
            "/usr/local/lib/python3.7/dist-packages/ipykernel_launcher.py:10: SettingWithCopyWarning: \n",
            "A value is trying to be set on a copy of a slice from a DataFrame.\n",
            "Try using .loc[row_indexer,col_indexer] = value instead\n",
            "\n",
            "See the caveats in the documentation: https://pandas.pydata.org/pandas-docs/stable/user_guide/indexing.html#returning-a-view-versus-a-copy\n",
            "  # Remove the CWD from sys.path while we load stuff.\n"
          ]
        }
      ],
      "source": [
        "Samples = test[0:100]\n",
        "sentiments = []\n",
        "\n",
        "for Sample in Samples['Transcript']:\n",
        "    prediction = predict(Sample)\n",
        "    sentiments.append(prediction)\n",
        "\n",
        "Samples['SentimentsPos'] = [i[0] for i in sentiments]\n",
        "Samples['SentimentsNeutral'] = [i[1] for i in sentiments]\n",
        "Samples['SentimentsNeg'] = [i[2] for i in sentiments]\n",
        "\n",
        "Samples.to_csv('Out5.csv')\n"
      ]
    },
    {
      "cell_type": "markdown",
      "source": [
        "## Linear Regression"
      ],
      "metadata": {
        "id": "2N8kiZoFBaKa"
      }
    },
    {
      "cell_type": "code",
      "source": [
        "data_path = path + 'Transcripts.csv'\n",
        "transcripts = pd.read_csv(data_path)\n",
        "\n",
        "data_path = path + 'Out2.csv'\n",
        "Out = pd.read_csv(data_path)\n",
        "\n",
        "data_path = path + 'Out3.csv'\n",
        "Out2 = pd.read_csv(data_path)\n",
        "\n",
        "data_path = path + 'Out4.csv'\n",
        "Out3 = pd.read_csv(data_path)"
      ],
      "metadata": {
        "id": "0Ql23UZbKagh"
      },
      "execution_count": null,
      "outputs": []
    },
    {
      "cell_type": "code",
      "source": [
        "Out = Out[['Ticker','Date','SentimentsPos', 'SentimentsNeutral', 'SentimentsNeg']]\n",
        "Out2 = Out2[['Ticker','Date','SentimentsPos', 'SentimentsNeutral', 'SentimentsNeg']]\n",
        "Out3 = Out3[['Ticker','Date','SentimentsPos', 'SentimentsNeutral', 'SentimentsNeg']]"
      ],
      "metadata": {
        "id": "wMoaONSKKapI"
      },
      "execution_count": null,
      "outputs": []
    },
    {
      "cell_type": "code",
      "source": [
        "TranscriptsOut1  = pd.merge(transcripts, Out, on = ['Ticker','Date'])\n",
        "TranscriptsOut2  = pd.merge(transcripts, Out2, on = ['Ticker','Date'])\n",
        "TranscriptsOut3  = pd.merge(transcripts, Out3, on = ['Ticker','Date'])\n",
        "\n",
        "TranscriptsOut = TranscriptsOut1.append(TranscriptsOut2)\n",
        "TranscriptsOut = TranscriptsOut.append(TranscriptsOut3)\n",
        "\n",
        "TranscriptsOut.to_csv('TranscriptsWithSentiment.csv')"
      ],
      "metadata": {
        "id": "FdPS4tlsLNXA"
      },
      "execution_count": null,
      "outputs": []
    },
    {
      "cell_type": "code",
      "execution_count": null,
      "metadata": {
        "colab": {
          "base_uri": "https://localhost:8080/"
        },
        "outputId": "fadb30e4-58ae-4c04-8dd3-a46b02ddffa7",
        "id": "a8WaWL0SBgqJ"
      },
      "outputs": [
        {
          "output_type": "execute_result",
          "data": {
            "text/plain": [
              "<torch._C.Generator at 0x7f6feaaca0d0>"
            ]
          },
          "metadata": {},
          "execution_count": 44
        }
      ],
      "source": [
        "# Set seed\n",
        "RANDOM_SEED = 42\n",
        "np.random.seed(RANDOM_SEED)\n",
        "torch.manual_seed(RANDOM_SEED)"
      ]
    },
    {
      "cell_type": "code",
      "execution_count": null,
      "metadata": {
        "id": "k7d_iS_vBgqJ"
      },
      "outputs": [],
      "source": [
        "## Read Transcripts\n",
        "\n",
        "#data_path = path + 'Transcripts.csv'\n",
        "#transcripts = pd.read_csv(data_path)\n",
        "\n",
        "train, test = train_test_split(TranscriptsOut, test_size=0.1, random_state=RANDOM_SEED)"
      ]
    },
    {
      "cell_type": "code",
      "source": [
        "import warnings\n",
        "warnings.simplefilter(action='ignore')"
      ],
      "metadata": {
        "id": "9WxlkMzxeCB7"
      },
      "execution_count": null,
      "outputs": []
    },
    {
      "cell_type": "code",
      "execution_count": null,
      "metadata": {
        "id": "JJc6ndPwu5wF",
        "colab": {
          "base_uri": "https://localhost:8080/"
        },
        "outputId": "91bbb99b-9caf-4e6d-f641-67df33c19a02"
      },
      "outputs": [
        {
          "output_type": "stream",
          "name": "stdout",
          "text": [
            "                            OLS Regression Results                            \n",
            "==============================================================================\n",
            "Dep. Variable:         1QuarterChange   R-squared:                       0.008\n",
            "Model:                            OLS   Adj. R-squared:                 -0.001\n",
            "Method:                 Least Squares   F-statistic:                    0.9148\n",
            "Date:                Sun, 17 Apr 2022   Prob (F-statistic):              0.402\n",
            "Time:                        16:20:36   Log-Likelihood:                 137.12\n",
            "No. Observations:                 230   AIC:                            -268.2\n",
            "Df Residuals:                     227   BIC:                            -257.9\n",
            "Df Model:                           2                                         \n",
            "Covariance Type:            nonrobust                                         \n",
            "==============================================================================\n",
            "                 coef    std err          t      P>|t|      [0.025      0.975]\n",
            "------------------------------------------------------------------------------\n",
            "const          0.0320      0.007      4.622      0.000       0.018       0.046\n",
            "NegDummy       0.0020      0.009      0.215      0.830      -0.016       0.020\n",
            "PosDummy       0.0300      0.013      2.395      0.017       0.005       0.055\n",
            "==============================================================================\n",
            "Omnibus:                        9.758   Durbin-Watson:                   1.813\n",
            "Prob(Omnibus):                  0.008   Jarque-Bera (JB):               19.274\n",
            "Skew:                          -0.090   Prob(JB):                     6.53e-05\n",
            "Kurtosis:                       4.407   Cond. No.                     1.16e+15\n",
            "==============================================================================\n",
            "\n",
            "Warnings:\n",
            "[1] Standard Errors assume that the covariance matrix of the errors is correctly specified.\n",
            "[2] The smallest eigenvalue is 2.87e-28. This might indicate that there are\n",
            "strong multicollinearity problems or that the design matrix is singular.\n"
          ]
        }
      ],
      "source": [
        "import statsmodels.api as sm\n",
        "from scipy import stats\n",
        "\n",
        "testSpan = '1QuarterChange'\n",
        "\n",
        "Modeling = TranscriptsOut[TranscriptsOut[testSpan].isnull() == False]\n",
        "\n",
        "X = Modeling[['SentimentsPos', 'SentimentsNeg', 'SentimentsNeutral']]\n",
        "y = Modeling[testSpan]\n",
        "\n",
        "X['MaxCol'] = X.max(axis=1)\n",
        "X['NegDummy'] =  np.where(X['SentimentsNeg']== X['MaxCol'], 1, 0)\n",
        "X['NeutralDummy']  = np.where(X['SentimentsNeutral']== X['MaxCol'], 1, 0)\n",
        "X['PosDummy'] =  np.where(X['SentimentsPos']== X['MaxCol'], 1, 0)\n",
        "\n",
        "X = X[['NegDummy', 'PosDummy']]\n",
        "\n",
        "X2 = sm.add_constant(X)\n",
        "est = sm.OLS(y, X2)\n",
        "est2 = est.fit()\n",
        "print(est2.summary())"
      ]
    },
    {
      "cell_type": "code",
      "execution_count": null,
      "metadata": {
        "colab": {
          "base_uri": "https://localhost:8080/"
        },
        "id": "vh6LszcSu5zN",
        "outputId": "ebbce4ee-fd88-4edd-f859-55276f3a4796"
      },
      "outputs": [
        {
          "output_type": "execute_result",
          "data": {
            "text/plain": [
              "0.02720490279139881"
            ]
          },
          "metadata": {},
          "execution_count": 48
        }
      ],
      "source": [
        "Modeling2 = test[test[testSpan].isnull() == False]\n",
        "\n",
        "X2 = Modeling2[['SentimentsPos', 'SentimentsNeg', 'SentimentsNeutral']]\n",
        "y2 = Modeling2[testSpan]\n",
        "\n",
        "X2['MaxCol'] = X2.max(axis=1)\n",
        "X2['NegDummy'] =  np.where(X2['SentimentsNeg']== X2['MaxCol'], 1, 0)\n",
        "X2['NeutralDummy']  = np.where(X2['SentimentsNeutral']== X2['MaxCol'], 1, 0)\n",
        "X2['PosDummy'] =  np.where(X2['SentimentsPos']== X2['MaxCol'], 1, 0)\n",
        "\n",
        "X2 = X2[['NegDummy', 'PosDummy']]\n",
        "X3 = sm.add_constant(X2)\n",
        "\n",
        "Ypred = list(est2.predict(X3))\n",
        "\n",
        "sklearn.metrics.mean_absolute_error(y2,Ypred)"
      ]
    },
    {
      "cell_type": "code",
      "source": [
        ""
      ],
      "metadata": {
        "id": "9ZF5SQNwBbvN"
      },
      "execution_count": null,
      "outputs": []
    },
    {
      "cell_type": "code",
      "source": [
        ""
      ],
      "metadata": {
        "id": "aPxsRWHlBbyI"
      },
      "execution_count": null,
      "outputs": []
    },
    {
      "cell_type": "markdown",
      "source": [
        "## ANN"
      ],
      "metadata": {
        "id": "49mZxaArAWEl"
      }
    },
    {
      "cell_type": "code",
      "source": [
        ""
      ],
      "metadata": {
        "id": "D6ah3xeTA1TB"
      },
      "execution_count": null,
      "outputs": []
    },
    {
      "cell_type": "code",
      "source": [
        "# Set seed\n",
        "RANDOM_SEED = 42\n",
        "np.random.seed(RANDOM_SEED)\n",
        "torch.manual_seed(RANDOM_SEED)"
      ],
      "metadata": {
        "colab": {
          "base_uri": "https://localhost:8080/"
        },
        "id": "cfHLAhlKpzWG",
        "outputId": "581d40de-5e9f-4a5c-be9f-d2a71919641f"
      },
      "execution_count": null,
      "outputs": [
        {
          "output_type": "execute_result",
          "data": {
            "text/plain": [
              "<torch._C.Generator at 0x7fcf7819f330>"
            ]
          },
          "metadata": {},
          "execution_count": 6
        }
      ]
    },
    {
      "cell_type": "code",
      "source": [
        "# This will ask you to give Colab permission to access your Google Drive \n",
        "# and enter an authorization code.\n",
        "# See: https://colab.research.google.com/notebooks/io.ipynb#scrollTo=u22w3BFiOveA\n",
        "\n",
        "from google.colab import drive\n",
        "drive.mount('/content/drive')"
      ],
      "metadata": {
        "id": "NglOOQkEnRfG",
        "colab": {
          "base_uri": "https://localhost:8080/"
        },
        "outputId": "80348113-3fca-4c8c-f70e-1784ab38f38c"
      },
      "execution_count": null,
      "outputs": [
        {
          "output_type": "stream",
          "name": "stdout",
          "text": [
            "Mounted at /content/drive\n"
          ]
        }
      ]
    },
    {
      "cell_type": "code",
      "source": [
        "# MODIFY THIS LINE with the path to where you saved the datafiles on your Google drive\n",
        "\n",
        "path = '/content/drive/MyDrive/RSM 8521 Deep Learning/Final Project/'"
      ],
      "metadata": {
        "id": "gaDfNQK7nV7u"
      },
      "execution_count": null,
      "outputs": []
    },
    {
      "cell_type": "code",
      "source": [
        "# Reading data\n",
        "# python scripts/datasets.py --data_path <path to Sentences_50Agree.txt>\n",
        "\n",
        "\n",
        "data_path = path + '/FinancialPhraseBank-v1.0/Sentences_50Agree.txt'\n",
        "\n",
        "# Train/Validation Split\n",
        "# parser = argparse.ArgumentParser(description='Sentiment analyzer')\n",
        "# parser.add_argument('train_path', type=str, help='Path to the text file.')\n",
        "# args = parser.parse_args()\n",
        "\n",
        "data = pd.read_csv(data_path, encoding = \"ISO-8859-1\", sep='.@', names=['text','label'])\n",
        "\n",
        "train, test = train_test_split(data, test_size=0.2, random_state=RANDOM_SEED)\n",
        "train, validation = train_test_split(train, test_size=0.2, random_state=RANDOM_SEED)\n",
        "\n",
        "# train.to_csv('data/sentiment_data/train.csv',sep='\\t')\n",
        "# test.to_csv('data/sentiment_data/test.csv',sep='\\t')\n",
        "# valid.to_csv('data/sentiment_data/validation.csv',sep='\\t')"
      ],
      "metadata": {
        "id": "BYsbvoLbnvaI",
        "colab": {
          "base_uri": "https://localhost:8080/"
        },
        "outputId": "2701ec50-ffaa-43bb-bd8e-ff93c9a80f97"
      },
      "execution_count": null,
      "outputs": [
        {
          "output_type": "stream",
          "name": "stderr",
          "text": [
            "/usr/local/lib/python3.7/dist-packages/pandas/util/_decorators.py:311: ParserWarning: Falling back to the 'python' engine because the 'c' engine does not support regex separators (separators > 1 char and different from '\\s+' are interpreted as regex); you can avoid this warning by specifying engine='python'.\n",
            "  return func(*args, **kwargs)\n"
          ]
        }
      ]
    },
    {
      "cell_type": "code",
      "source": [
        "train.head()"
      ],
      "metadata": {
        "colab": {
          "base_uri": "https://localhost:8080/",
          "height": 206
        },
        "id": "P1mvAVhjdDA5",
        "outputId": "9c7ac4cf-46bd-475d-e1e5-70ee4285794f"
      },
      "execution_count": null,
      "outputs": [
        {
          "output_type": "execute_result",
          "data": {
            "text/plain": [
              "                                                   text     label\n",
              "3618  In 2008 , AVC Systemhaus had net sales of EUR ...   neutral\n",
              "1630  The device offers multimedia performance along...   neutral\n",
              "4303  After Chuck Smith was laid off on May 30 from ...  negative\n",
              "2575  Suomen Paikallissanomat Oy is part of Alma Med...   neutral\n",
              "3914  The through service of FESCO is a telling exam...  positive"
            ],
            "text/html": [
              "\n",
              "  <div id=\"df-69e5e911-6b0c-41be-9452-804c67b720f1\">\n",
              "    <div class=\"colab-df-container\">\n",
              "      <div>\n",
              "<style scoped>\n",
              "    .dataframe tbody tr th:only-of-type {\n",
              "        vertical-align: middle;\n",
              "    }\n",
              "\n",
              "    .dataframe tbody tr th {\n",
              "        vertical-align: top;\n",
              "    }\n",
              "\n",
              "    .dataframe thead th {\n",
              "        text-align: right;\n",
              "    }\n",
              "</style>\n",
              "<table border=\"1\" class=\"dataframe\">\n",
              "  <thead>\n",
              "    <tr style=\"text-align: right;\">\n",
              "      <th></th>\n",
              "      <th>text</th>\n",
              "      <th>label</th>\n",
              "    </tr>\n",
              "  </thead>\n",
              "  <tbody>\n",
              "    <tr>\n",
              "      <th>3618</th>\n",
              "      <td>In 2008 , AVC Systemhaus had net sales of EUR ...</td>\n",
              "      <td>neutral</td>\n",
              "    </tr>\n",
              "    <tr>\n",
              "      <th>1630</th>\n",
              "      <td>The device offers multimedia performance along...</td>\n",
              "      <td>neutral</td>\n",
              "    </tr>\n",
              "    <tr>\n",
              "      <th>4303</th>\n",
              "      <td>After Chuck Smith was laid off on May 30 from ...</td>\n",
              "      <td>negative</td>\n",
              "    </tr>\n",
              "    <tr>\n",
              "      <th>2575</th>\n",
              "      <td>Suomen Paikallissanomat Oy is part of Alma Med...</td>\n",
              "      <td>neutral</td>\n",
              "    </tr>\n",
              "    <tr>\n",
              "      <th>3914</th>\n",
              "      <td>The through service of FESCO is a telling exam...</td>\n",
              "      <td>positive</td>\n",
              "    </tr>\n",
              "  </tbody>\n",
              "</table>\n",
              "</div>\n",
              "      <button class=\"colab-df-convert\" onclick=\"convertToInteractive('df-69e5e911-6b0c-41be-9452-804c67b720f1')\"\n",
              "              title=\"Convert this dataframe to an interactive table.\"\n",
              "              style=\"display:none;\">\n",
              "        \n",
              "  <svg xmlns=\"http://www.w3.org/2000/svg\" height=\"24px\"viewBox=\"0 0 24 24\"\n",
              "       width=\"24px\">\n",
              "    <path d=\"M0 0h24v24H0V0z\" fill=\"none\"/>\n",
              "    <path d=\"M18.56 5.44l.94 2.06.94-2.06 2.06-.94-2.06-.94-.94-2.06-.94 2.06-2.06.94zm-11 1L8.5 8.5l.94-2.06 2.06-.94-2.06-.94L8.5 2.5l-.94 2.06-2.06.94zm10 10l.94 2.06.94-2.06 2.06-.94-2.06-.94-.94-2.06-.94 2.06-2.06.94z\"/><path d=\"M17.41 7.96l-1.37-1.37c-.4-.4-.92-.59-1.43-.59-.52 0-1.04.2-1.43.59L10.3 9.45l-7.72 7.72c-.78.78-.78 2.05 0 2.83L4 21.41c.39.39.9.59 1.41.59.51 0 1.02-.2 1.41-.59l7.78-7.78 2.81-2.81c.8-.78.8-2.07 0-2.86zM5.41 20L4 18.59l7.72-7.72 1.47 1.35L5.41 20z\"/>\n",
              "  </svg>\n",
              "      </button>\n",
              "      \n",
              "  <style>\n",
              "    .colab-df-container {\n",
              "      display:flex;\n",
              "      flex-wrap:wrap;\n",
              "      gap: 12px;\n",
              "    }\n",
              "\n",
              "    .colab-df-convert {\n",
              "      background-color: #E8F0FE;\n",
              "      border: none;\n",
              "      border-radius: 50%;\n",
              "      cursor: pointer;\n",
              "      display: none;\n",
              "      fill: #1967D2;\n",
              "      height: 32px;\n",
              "      padding: 0 0 0 0;\n",
              "      width: 32px;\n",
              "    }\n",
              "\n",
              "    .colab-df-convert:hover {\n",
              "      background-color: #E2EBFA;\n",
              "      box-shadow: 0px 1px 2px rgba(60, 64, 67, 0.3), 0px 1px 3px 1px rgba(60, 64, 67, 0.15);\n",
              "      fill: #174EA6;\n",
              "    }\n",
              "\n",
              "    [theme=dark] .colab-df-convert {\n",
              "      background-color: #3B4455;\n",
              "      fill: #D2E3FC;\n",
              "    }\n",
              "\n",
              "    [theme=dark] .colab-df-convert:hover {\n",
              "      background-color: #434B5C;\n",
              "      box-shadow: 0px 1px 3px 1px rgba(0, 0, 0, 0.15);\n",
              "      filter: drop-shadow(0px 1px 2px rgba(0, 0, 0, 0.3));\n",
              "      fill: #FFFFFF;\n",
              "    }\n",
              "  </style>\n",
              "\n",
              "      <script>\n",
              "        const buttonEl =\n",
              "          document.querySelector('#df-69e5e911-6b0c-41be-9452-804c67b720f1 button.colab-df-convert');\n",
              "        buttonEl.style.display =\n",
              "          google.colab.kernel.accessAllowed ? 'block' : 'none';\n",
              "\n",
              "        async function convertToInteractive(key) {\n",
              "          const element = document.querySelector('#df-69e5e911-6b0c-41be-9452-804c67b720f1');\n",
              "          const dataTable =\n",
              "            await google.colab.kernel.invokeFunction('convertToInteractive',\n",
              "                                                     [key], {});\n",
              "          if (!dataTable) return;\n",
              "\n",
              "          const docLinkHtml = 'Like what you see? Visit the ' +\n",
              "            '<a target=\"_blank\" href=https://colab.research.google.com/notebooks/data_table.ipynb>data table notebook</a>'\n",
              "            + ' to learn more about interactive tables.';\n",
              "          element.innerHTML = '';\n",
              "          dataTable['output_type'] = 'display_data';\n",
              "          await google.colab.output.renderOutput(dataTable, element);\n",
              "          const docLink = document.createElement('div');\n",
              "          docLink.innerHTML = docLinkHtml;\n",
              "          element.appendChild(docLink);\n",
              "        }\n",
              "      </script>\n",
              "    </div>\n",
              "  </div>\n",
              "  "
            ]
          },
          "metadata": {},
          "execution_count": 10
        }
      ]
    },
    {
      "cell_type": "code",
      "source": [
        "train.shape"
      ],
      "metadata": {
        "colab": {
          "base_uri": "https://localhost:8080/"
        },
        "id": "KtxKyEKzYwmM",
        "outputId": "7524ede0-cdf3-4bd1-92d2-ebe4680fc94d"
      },
      "execution_count": null,
      "outputs": [
        {
          "output_type": "execute_result",
          "data": {
            "text/plain": [
              "(3100, 2)"
            ]
          },
          "metadata": {},
          "execution_count": 11
        }
      ]
    },
    {
      "cell_type": "code",
      "source": [
        "train.loc[0, 'text']"
      ],
      "metadata": {
        "colab": {
          "base_uri": "https://localhost:8080/",
          "height": 35
        },
        "id": "tTeKZQdRO57q",
        "outputId": "e260788e-9ee1-4910-eaf2-763a0ff0f866"
      },
      "execution_count": null,
      "outputs": [
        {
          "output_type": "execute_result",
          "data": {
            "text/plain": [
              "'According to Gran , the company has no plans to move all production to Russia , although that is where the company is growing '"
            ],
            "application/vnd.google.colaboratory.intrinsic+json": {
              "type": "string"
            }
          },
          "metadata": {},
          "execution_count": 12
        }
      ]
    },
    {
      "cell_type": "code",
      "source": [
        "train.loc[0, 'label']"
      ],
      "metadata": {
        "colab": {
          "base_uri": "https://localhost:8080/",
          "height": 35
        },
        "id": "4EUXMxh4PoGV",
        "outputId": "32261067-5c4c-430f-cb17-35bcddf6c9e1"
      },
      "execution_count": null,
      "outputs": [
        {
          "output_type": "execute_result",
          "data": {
            "text/plain": [
              "'neutral'"
            ],
            "application/vnd.google.colaboratory.intrinsic+json": {
              "type": "string"
            }
          },
          "metadata": {},
          "execution_count": 13
        }
      ]
    },
    {
      "cell_type": "code",
      "execution_count": null,
      "metadata": {
        "id": "ZVkwSqWNeGcq",
        "colab": {
          "base_uri": "https://localhost:8080/",
          "height": 177,
          "referenced_widgets": [
            "c740145ac2c24f6485dd1281e29c411f",
            "94fb82d4a9a94c1ab5dbd580749ce4f1",
            "1ef58919601d4402bd83ebec5a52033c",
            "c33ef8fb8c834424ad65a2efd9fa52b3",
            "a65fdd6bf2c548ad9f294b85f529919c",
            "7ab38eae06f045e4bbf0c2f2944599ea",
            "d6f3c63ebee346ddb26dd10f4a67fa92",
            "3e23e39a42ad4f01835893c908298def",
            "e82511d1956a4868b18816efdb6cc58e",
            "719ed1d0e50548b784a800b1d3309fdf",
            "a3d829ed2499414c8f4c6ea8209e1bf4",
            "c5356e8b374944dc81b578fc2fa79e9f",
            "9325ba1738ab4502aea39626d52af574",
            "d4788e9dcbde4de4ab4e5a21fea79362",
            "ec7e4ae1ed9449b881b25c43acd05470",
            "72816a94a29c44ea8a4d53eb4bb4b071",
            "2b8c0281cd774ecda844be552d225ef3",
            "2f009ed5679b421891f9d51b6a543a07",
            "588a7f3d43704a6a80f2b890fa2b9b98",
            "9186c8e484374331bd27326a12f6c7d3",
            "d349b14572e443b3a4aa5fdbb1c82bb9",
            "bd350498af444c879e67cbe846428a6b",
            "0b48e8b041ae4038b730ee36aa2657c6",
            "96bfd9bbccb24df3add6e7495537cef7",
            "95bcda1efc1947bc838b30b6d935655e",
            "5c5b670c1242410d97954b8d58325965",
            "d4ba3cb9d396434393bdbe332ead6c31",
            "11aba995cd9945f0ab3346f204885f0e",
            "fe63c08faabc4689b3110784d714478f",
            "d4183d0528274187b238d775d044ff03",
            "0ee192362e2f4d26a4e3dff7379fc6a3",
            "4164e402858f469198c565a287d77318",
            "393b1ddce16f4eb2b5ed1e84c8e5a244",
            "c1af24ab1d49460aacb522f400f8fdb8",
            "ed7667c9518149c8b31c1952a0ae4228",
            "753337ca393140c1a0a2a8e2bf764b5b",
            "a2a6af8c7cea45988afeb8aed46e9f8a",
            "ab19adb46cd8486c9930f9c42f538912",
            "bec26e85ec4a49a2bc3326605d72da39",
            "2cdeccb0f0284335985f9e0d91f955d8",
            "fa5944d234704023b47550e779b07fb8",
            "9f0f09aaa7154ccc8b6f29a32a87fd90",
            "97ce8a4e940740bb872520b3cd17b630",
            "7040bad754214ca69e1c253d1b86aae5",
            "741eab1926374eeb9d8dccd7676dc6c5",
            "1eb0e10074204da0bdf2ee10b4722942",
            "d5ec37f2b71d41f9ae9c6101d2512f98",
            "a42a20d526b145f78f4fbf60a2f705ec",
            "ceec19b370454a0f82d4f6a3390513e4",
            "ac7c9e81b2fa4f68b02c37b554032d76",
            "8a4ecb0939fe475db5fbf26bafbebab4",
            "937397a3563e4f89a60f323e3729bd67",
            "90daecdbaf06446ba2d4ce68c79e0904",
            "6066100c47a64ee7aab6660f71068f3d",
            "f02f2a8a0fa34e3580fd425db6f88837"
          ]
        },
        "outputId": "a0c17485-e73e-475c-d46c-1ddc08cb196f"
      },
      "outputs": [
        {
          "output_type": "display_data",
          "data": {
            "text/plain": [
              "Downloading:   0%|          | 0.00/252 [00:00<?, ?B/s]"
            ],
            "application/vnd.jupyter.widget-view+json": {
              "version_major": 2,
              "version_minor": 0,
              "model_id": "c740145ac2c24f6485dd1281e29c411f"
            }
          },
          "metadata": {}
        },
        {
          "output_type": "display_data",
          "data": {
            "text/plain": [
              "Downloading:   0%|          | 0.00/758 [00:00<?, ?B/s]"
            ],
            "application/vnd.jupyter.widget-view+json": {
              "version_major": 2,
              "version_minor": 0,
              "model_id": "c5356e8b374944dc81b578fc2fa79e9f"
            }
          },
          "metadata": {}
        },
        {
          "output_type": "display_data",
          "data": {
            "text/plain": [
              "Downloading:   0%|          | 0.00/226k [00:00<?, ?B/s]"
            ],
            "application/vnd.jupyter.widget-view+json": {
              "version_major": 2,
              "version_minor": 0,
              "model_id": "0b48e8b041ae4038b730ee36aa2657c6"
            }
          },
          "metadata": {}
        },
        {
          "output_type": "display_data",
          "data": {
            "text/plain": [
              "Downloading:   0%|          | 0.00/112 [00:00<?, ?B/s]"
            ],
            "application/vnd.jupyter.widget-view+json": {
              "version_major": 2,
              "version_minor": 0,
              "model_id": "c1af24ab1d49460aacb522f400f8fdb8"
            }
          },
          "metadata": {}
        },
        {
          "output_type": "display_data",
          "data": {
            "text/plain": [
              "Downloading:   0%|          | 0.00/418M [00:00<?, ?B/s]"
            ],
            "application/vnd.jupyter.widget-view+json": {
              "version_major": 2,
              "version_minor": 0,
              "model_id": "741eab1926374eeb9d8dccd7676dc6c5"
            }
          },
          "metadata": {}
        }
      ],
      "source": [
        "# Model and Tokenizer\n",
        "tokenizer = AutoTokenizer.from_pretrained(\"ProsusAI/finbert\")\n",
        "\n",
        "model = AutoModelForSequenceClassification.from_pretrained(\"ProsusAI/finbert\")"
      ]
    },
    {
      "cell_type": "code",
      "source": [
        "def predict(text):\n",
        "  inputs = tokenizer(text, return_tensors=\"pt\")\n",
        "\n",
        "  with torch.no_grad():\n",
        "      logits = model(**inputs).logits\n",
        "\n",
        "  predicted_class_id = logits.argmax().item()\n",
        "  return logits, model.config.id2label[predicted_class_id]"
      ],
      "metadata": {
        "id": "k5AEZtkEaCqN"
      },
      "execution_count": null,
      "outputs": []
    },
    {
      "cell_type": "code",
      "source": [
        "sample_txt = 'Guest spending at our domestic parks has been exceptionally strong, \\\n",
        "              with average spending up significantly versus fiscal 2019.'"
      ],
      "metadata": {
        "id": "H29ecXT6twji"
      },
      "execution_count": null,
      "outputs": []
    },
    {
      "cell_type": "code",
      "source": [
        "logits, outcome = predict(sample_txt)"
      ],
      "metadata": {
        "id": "dfKaKrrJd-E0"
      },
      "execution_count": null,
      "outputs": []
    },
    {
      "cell_type": "code",
      "source": [
        "outcome"
      ],
      "metadata": {
        "colab": {
          "base_uri": "https://localhost:8080/",
          "height": 35
        },
        "id": "3mSPvlWK_CXO",
        "outputId": "6b750312-bcc2-4757-b901-1639d9d6884a"
      },
      "execution_count": null,
      "outputs": [
        {
          "output_type": "execute_result",
          "data": {
            "text/plain": [
              "'positive'"
            ],
            "application/vnd.google.colaboratory.intrinsic+json": {
              "type": "string"
            }
          },
          "metadata": {},
          "execution_count": 18
        }
      ]
    },
    {
      "cell_type": "code",
      "source": [
        "logits"
      ],
      "metadata": {
        "colab": {
          "base_uri": "https://localhost:8080/"
        },
        "id": "8640kQOF-6id",
        "outputId": "766f33c4-70aa-41c8-ca91-18d9d948131f"
      },
      "execution_count": null,
      "outputs": [
        {
          "output_type": "execute_result",
          "data": {
            "text/plain": [
              "tensor([[ 2.0998, -1.7574, -1.6564]])"
            ]
          },
          "metadata": {},
          "execution_count": 19
        }
      ]
    },
    {
      "cell_type": "code",
      "source": [
        "model.config.id2label[1]"
      ],
      "metadata": {
        "colab": {
          "base_uri": "https://localhost:8080/",
          "height": 35
        },
        "id": "22WaqHICSFyB",
        "outputId": "13f4b20c-ec68-4932-8761-a624e4abe57e"
      },
      "execution_count": null,
      "outputs": [
        {
          "output_type": "execute_result",
          "data": {
            "text/plain": [
              "'negative'"
            ],
            "application/vnd.google.colaboratory.intrinsic+json": {
              "type": "string"
            }
          },
          "metadata": {},
          "execution_count": 20
        }
      ]
    },
    {
      "cell_type": "code",
      "source": [
        "# Test on the test dataset\n",
        "wrong = 0\n",
        "for i in range(train.shape[0]):\n",
        "  logits, prediction = predict(train.iloc[i]['text'])\n",
        "  if prediction != train.iloc[i]['label']:\n",
        "    wrong += 1\n",
        "print(wrong/train.shape[0])"
      ],
      "metadata": {
        "colab": {
          "base_uri": "https://localhost:8080/"
        },
        "id": "y8LYgP_1se6C",
        "outputId": "ba53eda2-1e2c-4630-ce8f-dec580afa7e2"
      },
      "execution_count": null,
      "outputs": [
        {
          "output_type": "stream",
          "name": "stdout",
          "text": [
            "0.10935483870967742\n"
          ]
        }
      ]
    },
    {
      "cell_type": "markdown",
      "source": [
        "=========================== Linear Regression ==========================="
      ],
      "metadata": {
        "id": "_dEzXoUyIQn5"
      }
    },
    {
      "cell_type": "code",
      "source": [
        "# model_lg = LinearRegression()\n",
        "# reg = model_lg.fit(X, y)\n",
        "\n",
        "# reg.score(X, y)\n",
        "\n",
        "# reg.coef_\n",
        "\n",
        "# reg.intercept_\n",
        "\n",
        "# reg.predict(np.array([[3, 5]]))"
      ],
      "metadata": {
        "id": "EoiIW_NdIPp2",
        "colab": {
          "base_uri": "https://localhost:8080/",
          "height": 235
        },
        "outputId": "cc2ce25a-227d-473d-c041-c3621f160575"
      },
      "execution_count": null,
      "outputs": [
        {
          "output_type": "error",
          "ename": "NameError",
          "evalue": "ignored",
          "traceback": [
            "\u001b[0;31m---------------------------------------------------------------------------\u001b[0m",
            "\u001b[0;31mNameError\u001b[0m                                 Traceback (most recent call last)",
            "\u001b[0;32m<ipython-input-26-a6c82082172b>\u001b[0m in \u001b[0;36m<module>\u001b[0;34m()\u001b[0m\n\u001b[1;32m      1\u001b[0m \u001b[0mmodel_lg\u001b[0m \u001b[0;34m=\u001b[0m \u001b[0mLinearRegression\u001b[0m\u001b[0;34m(\u001b[0m\u001b[0;34m)\u001b[0m\u001b[0;34m\u001b[0m\u001b[0;34m\u001b[0m\u001b[0m\n\u001b[0;32m----> 2\u001b[0;31m \u001b[0mreg\u001b[0m \u001b[0;34m=\u001b[0m \u001b[0mmodel_lg\u001b[0m\u001b[0;34m.\u001b[0m\u001b[0mfit\u001b[0m\u001b[0;34m(\u001b[0m\u001b[0mX\u001b[0m\u001b[0;34m,\u001b[0m \u001b[0my\u001b[0m\u001b[0;34m)\u001b[0m\u001b[0;34m\u001b[0m\u001b[0;34m\u001b[0m\u001b[0m\n\u001b[0m\u001b[1;32m      3\u001b[0m \u001b[0;34m\u001b[0m\u001b[0m\n\u001b[1;32m      4\u001b[0m \u001b[0mreg\u001b[0m\u001b[0;34m.\u001b[0m\u001b[0mscore\u001b[0m\u001b[0;34m(\u001b[0m\u001b[0mX\u001b[0m\u001b[0;34m,\u001b[0m \u001b[0my\u001b[0m\u001b[0;34m)\u001b[0m\u001b[0;34m\u001b[0m\u001b[0;34m\u001b[0m\u001b[0m\n\u001b[1;32m      5\u001b[0m \u001b[0;34m\u001b[0m\u001b[0m\n",
            "\u001b[0;31mNameError\u001b[0m: name 'X' is not defined"
          ]
        }
      ]
    },
    {
      "cell_type": "markdown",
      "source": [
        "=========================== ANN with Sentiment ==========================="
      ],
      "metadata": {
        "id": "-otdz3Oir2jF"
      }
    },
    {
      "cell_type": "code",
      "source": [
        "# Web scapped data\n",
        "data_sentiment = pd.read_csv(path + 'TranscriptsWithSentiment.csv')\n",
        "data_sentiment.head()"
      ],
      "metadata": {
        "colab": {
          "base_uri": "https://localhost:8080/",
          "height": 664
        },
        "id": "gh-6oM3RBNMS",
        "outputId": "5b94c5c5-d6bf-4286-d347-199b3a11551e"
      },
      "execution_count": null,
      "outputs": [
        {
          "output_type": "execute_result",
          "data": {
            "text/plain": [
              "   Unnamed: 0 Ticker                                         Transcript  \\\n",
              "0           0    MMM  3M Company (NYSE:MMM) Q3 2021 Earnings Confere...   \n",
              "1           1    MMM  3M Company (NYSE:MMM) Q2 2021 Results Conferen...   \n",
              "2           2    AOS  A. O. Smith Corporation (NYSE:AOS) Q4 2020 Ear...   \n",
              "3           3    AOS  A. O. Smith Corporation (NYSE:AOS) Q3 2020 Ear...   \n",
              "4           4    AOS  A. O. Smith Corporation (NYSE:AOS) Q2 2020 Ear...   \n",
              "\n",
              "         Date       1Week      1Month    1Quarter       Hist1       Hist2  \\\n",
              "0  2021-10-26  2021-11-02  2021-11-25  2022-01-24  2021-10-25  2021-10-22   \n",
              "1  2021-07-27  2021-08-03  2021-08-26  2021-10-25  2021-07-26  2021-07-23   \n",
              "2  2021-01-28  2021-02-04  2021-03-01  2021-04-28  2021-01-27  2021-01-26   \n",
              "3  2020-10-29  2020-11-05  2020-11-30  2021-01-27  2020-10-28  2020-10-27   \n",
              "4  2020-07-30  2020-08-06  2020-08-31  2020-10-28  2020-07-29  2020-07-28   \n",
              "\n",
              "        Hist3  ... Close_Hist28 Close_Hist29 Close_Hist30 1WeekChange  \\\n",
              "0  2021-10-22  ...     0.005492     0.005545     0.005522    0.004970   \n",
              "1  2021-07-23  ...     0.005040     0.005052     0.005007    0.019370   \n",
              "2  2021-01-25  ...     0.017810     0.017774     0.017774    0.056957   \n",
              "3  2020-10-26  ...     0.019071     0.018790     0.019121    0.015280   \n",
              "4  2020-07-27  ...     0.017313     0.016940     0.017240   -0.070390   \n",
              "\n",
              "  1MonthChange 1QuarterChange 1DayChange SentimentsPos SentimentsNeutral  \\\n",
              "0          NaN      -0.045673  -0.015629      0.192924         -0.862446   \n",
              "1    -0.009584      -0.075098   0.005426      0.303203         -0.804976   \n",
              "2     0.093547       0.199351  -0.021269      0.177426         -1.017115   \n",
              "3     0.062252       0.003396  -0.024901      0.102874         -0.971596   \n",
              "4    -0.063313      -0.015685  -0.079189     -0.250090         -0.432363   \n",
              "\n",
              "  SentimentsNeg  \n",
              "0      0.445982  \n",
              "1      0.151326  \n",
              "2      0.614343  \n",
              "3      0.558406  \n",
              "4      0.573945  \n",
              "\n",
              "[5 rows x 81 columns]"
            ],
            "text/html": [
              "\n",
              "  <div id=\"df-bceef92e-999f-45e5-9e2f-aff49d0cd2ab\">\n",
              "    <div class=\"colab-df-container\">\n",
              "      <div>\n",
              "<style scoped>\n",
              "    .dataframe tbody tr th:only-of-type {\n",
              "        vertical-align: middle;\n",
              "    }\n",
              "\n",
              "    .dataframe tbody tr th {\n",
              "        vertical-align: top;\n",
              "    }\n",
              "\n",
              "    .dataframe thead th {\n",
              "        text-align: right;\n",
              "    }\n",
              "</style>\n",
              "<table border=\"1\" class=\"dataframe\">\n",
              "  <thead>\n",
              "    <tr style=\"text-align: right;\">\n",
              "      <th></th>\n",
              "      <th>Unnamed: 0</th>\n",
              "      <th>Ticker</th>\n",
              "      <th>Transcript</th>\n",
              "      <th>Date</th>\n",
              "      <th>1Week</th>\n",
              "      <th>1Month</th>\n",
              "      <th>1Quarter</th>\n",
              "      <th>Hist1</th>\n",
              "      <th>Hist2</th>\n",
              "      <th>Hist3</th>\n",
              "      <th>...</th>\n",
              "      <th>Close_Hist28</th>\n",
              "      <th>Close_Hist29</th>\n",
              "      <th>Close_Hist30</th>\n",
              "      <th>1WeekChange</th>\n",
              "      <th>1MonthChange</th>\n",
              "      <th>1QuarterChange</th>\n",
              "      <th>1DayChange</th>\n",
              "      <th>SentimentsPos</th>\n",
              "      <th>SentimentsNeutral</th>\n",
              "      <th>SentimentsNeg</th>\n",
              "    </tr>\n",
              "  </thead>\n",
              "  <tbody>\n",
              "    <tr>\n",
              "      <th>0</th>\n",
              "      <td>0</td>\n",
              "      <td>MMM</td>\n",
              "      <td>3M Company (NYSE:MMM) Q3 2021 Earnings Confere...</td>\n",
              "      <td>2021-10-26</td>\n",
              "      <td>2021-11-02</td>\n",
              "      <td>2021-11-25</td>\n",
              "      <td>2022-01-24</td>\n",
              "      <td>2021-10-25</td>\n",
              "      <td>2021-10-22</td>\n",
              "      <td>2021-10-22</td>\n",
              "      <td>...</td>\n",
              "      <td>0.005492</td>\n",
              "      <td>0.005545</td>\n",
              "      <td>0.005522</td>\n",
              "      <td>0.004970</td>\n",
              "      <td>NaN</td>\n",
              "      <td>-0.045673</td>\n",
              "      <td>-0.015629</td>\n",
              "      <td>0.192924</td>\n",
              "      <td>-0.862446</td>\n",
              "      <td>0.445982</td>\n",
              "    </tr>\n",
              "    <tr>\n",
              "      <th>1</th>\n",
              "      <td>1</td>\n",
              "      <td>MMM</td>\n",
              "      <td>3M Company (NYSE:MMM) Q2 2021 Results Conferen...</td>\n",
              "      <td>2021-07-27</td>\n",
              "      <td>2021-08-03</td>\n",
              "      <td>2021-08-26</td>\n",
              "      <td>2021-10-25</td>\n",
              "      <td>2021-07-26</td>\n",
              "      <td>2021-07-23</td>\n",
              "      <td>2021-07-23</td>\n",
              "      <td>...</td>\n",
              "      <td>0.005040</td>\n",
              "      <td>0.005052</td>\n",
              "      <td>0.005007</td>\n",
              "      <td>0.019370</td>\n",
              "      <td>-0.009584</td>\n",
              "      <td>-0.075098</td>\n",
              "      <td>0.005426</td>\n",
              "      <td>0.303203</td>\n",
              "      <td>-0.804976</td>\n",
              "      <td>0.151326</td>\n",
              "    </tr>\n",
              "    <tr>\n",
              "      <th>2</th>\n",
              "      <td>2</td>\n",
              "      <td>AOS</td>\n",
              "      <td>A. O. Smith Corporation (NYSE:AOS) Q4 2020 Ear...</td>\n",
              "      <td>2021-01-28</td>\n",
              "      <td>2021-02-04</td>\n",
              "      <td>2021-03-01</td>\n",
              "      <td>2021-04-28</td>\n",
              "      <td>2021-01-27</td>\n",
              "      <td>2021-01-26</td>\n",
              "      <td>2021-01-25</td>\n",
              "      <td>...</td>\n",
              "      <td>0.017810</td>\n",
              "      <td>0.017774</td>\n",
              "      <td>0.017774</td>\n",
              "      <td>0.056957</td>\n",
              "      <td>0.093547</td>\n",
              "      <td>0.199351</td>\n",
              "      <td>-0.021269</td>\n",
              "      <td>0.177426</td>\n",
              "      <td>-1.017115</td>\n",
              "      <td>0.614343</td>\n",
              "    </tr>\n",
              "    <tr>\n",
              "      <th>3</th>\n",
              "      <td>3</td>\n",
              "      <td>AOS</td>\n",
              "      <td>A. O. Smith Corporation (NYSE:AOS) Q3 2020 Ear...</td>\n",
              "      <td>2020-10-29</td>\n",
              "      <td>2020-11-05</td>\n",
              "      <td>2020-11-30</td>\n",
              "      <td>2021-01-27</td>\n",
              "      <td>2020-10-28</td>\n",
              "      <td>2020-10-27</td>\n",
              "      <td>2020-10-26</td>\n",
              "      <td>...</td>\n",
              "      <td>0.019071</td>\n",
              "      <td>0.018790</td>\n",
              "      <td>0.019121</td>\n",
              "      <td>0.015280</td>\n",
              "      <td>0.062252</td>\n",
              "      <td>0.003396</td>\n",
              "      <td>-0.024901</td>\n",
              "      <td>0.102874</td>\n",
              "      <td>-0.971596</td>\n",
              "      <td>0.558406</td>\n",
              "    </tr>\n",
              "    <tr>\n",
              "      <th>4</th>\n",
              "      <td>4</td>\n",
              "      <td>AOS</td>\n",
              "      <td>A. O. Smith Corporation (NYSE:AOS) Q2 2020 Ear...</td>\n",
              "      <td>2020-07-30</td>\n",
              "      <td>2020-08-06</td>\n",
              "      <td>2020-08-31</td>\n",
              "      <td>2020-10-28</td>\n",
              "      <td>2020-07-29</td>\n",
              "      <td>2020-07-28</td>\n",
              "      <td>2020-07-27</td>\n",
              "      <td>...</td>\n",
              "      <td>0.017313</td>\n",
              "      <td>0.016940</td>\n",
              "      <td>0.017240</td>\n",
              "      <td>-0.070390</td>\n",
              "      <td>-0.063313</td>\n",
              "      <td>-0.015685</td>\n",
              "      <td>-0.079189</td>\n",
              "      <td>-0.250090</td>\n",
              "      <td>-0.432363</td>\n",
              "      <td>0.573945</td>\n",
              "    </tr>\n",
              "  </tbody>\n",
              "</table>\n",
              "<p>5 rows × 81 columns</p>\n",
              "</div>\n",
              "      <button class=\"colab-df-convert\" onclick=\"convertToInteractive('df-bceef92e-999f-45e5-9e2f-aff49d0cd2ab')\"\n",
              "              title=\"Convert this dataframe to an interactive table.\"\n",
              "              style=\"display:none;\">\n",
              "        \n",
              "  <svg xmlns=\"http://www.w3.org/2000/svg\" height=\"24px\"viewBox=\"0 0 24 24\"\n",
              "       width=\"24px\">\n",
              "    <path d=\"M0 0h24v24H0V0z\" fill=\"none\"/>\n",
              "    <path d=\"M18.56 5.44l.94 2.06.94-2.06 2.06-.94-2.06-.94-.94-2.06-.94 2.06-2.06.94zm-11 1L8.5 8.5l.94-2.06 2.06-.94-2.06-.94L8.5 2.5l-.94 2.06-2.06.94zm10 10l.94 2.06.94-2.06 2.06-.94-2.06-.94-.94-2.06-.94 2.06-2.06.94z\"/><path d=\"M17.41 7.96l-1.37-1.37c-.4-.4-.92-.59-1.43-.59-.52 0-1.04.2-1.43.59L10.3 9.45l-7.72 7.72c-.78.78-.78 2.05 0 2.83L4 21.41c.39.39.9.59 1.41.59.51 0 1.02-.2 1.41-.59l7.78-7.78 2.81-2.81c.8-.78.8-2.07 0-2.86zM5.41 20L4 18.59l7.72-7.72 1.47 1.35L5.41 20z\"/>\n",
              "  </svg>\n",
              "      </button>\n",
              "      \n",
              "  <style>\n",
              "    .colab-df-container {\n",
              "      display:flex;\n",
              "      flex-wrap:wrap;\n",
              "      gap: 12px;\n",
              "    }\n",
              "\n",
              "    .colab-df-convert {\n",
              "      background-color: #E8F0FE;\n",
              "      border: none;\n",
              "      border-radius: 50%;\n",
              "      cursor: pointer;\n",
              "      display: none;\n",
              "      fill: #1967D2;\n",
              "      height: 32px;\n",
              "      padding: 0 0 0 0;\n",
              "      width: 32px;\n",
              "    }\n",
              "\n",
              "    .colab-df-convert:hover {\n",
              "      background-color: #E2EBFA;\n",
              "      box-shadow: 0px 1px 2px rgba(60, 64, 67, 0.3), 0px 1px 3px 1px rgba(60, 64, 67, 0.15);\n",
              "      fill: #174EA6;\n",
              "    }\n",
              "\n",
              "    [theme=dark] .colab-df-convert {\n",
              "      background-color: #3B4455;\n",
              "      fill: #D2E3FC;\n",
              "    }\n",
              "\n",
              "    [theme=dark] .colab-df-convert:hover {\n",
              "      background-color: #434B5C;\n",
              "      box-shadow: 0px 1px 3px 1px rgba(0, 0, 0, 0.15);\n",
              "      filter: drop-shadow(0px 1px 2px rgba(0, 0, 0, 0.3));\n",
              "      fill: #FFFFFF;\n",
              "    }\n",
              "  </style>\n",
              "\n",
              "      <script>\n",
              "        const buttonEl =\n",
              "          document.querySelector('#df-bceef92e-999f-45e5-9e2f-aff49d0cd2ab button.colab-df-convert');\n",
              "        buttonEl.style.display =\n",
              "          google.colab.kernel.accessAllowed ? 'block' : 'none';\n",
              "\n",
              "        async function convertToInteractive(key) {\n",
              "          const element = document.querySelector('#df-bceef92e-999f-45e5-9e2f-aff49d0cd2ab');\n",
              "          const dataTable =\n",
              "            await google.colab.kernel.invokeFunction('convertToInteractive',\n",
              "                                                     [key], {});\n",
              "          if (!dataTable) return;\n",
              "\n",
              "          const docLinkHtml = 'Like what you see? Visit the ' +\n",
              "            '<a target=\"_blank\" href=https://colab.research.google.com/notebooks/data_table.ipynb>data table notebook</a>'\n",
              "            + ' to learn more about interactive tables.';\n",
              "          element.innerHTML = '';\n",
              "          dataTable['output_type'] = 'display_data';\n",
              "          await google.colab.output.renderOutput(dataTable, element);\n",
              "          const docLink = document.createElement('div');\n",
              "          docLink.innerHTML = docLinkHtml;\n",
              "          element.appendChild(docLink);\n",
              "        }\n",
              "      </script>\n",
              "    </div>\n",
              "  </div>\n",
              "  "
            ]
          },
          "metadata": {},
          "execution_count": 27
        }
      ]
    },
    {
      "cell_type": "code",
      "source": [
        "data_sentiment.shape"
      ],
      "metadata": {
        "colab": {
          "base_uri": "https://localhost:8080/"
        },
        "id": "NbS1T3Eac7d7",
        "outputId": "337310a7-4b7e-4027-bcbb-2f8337c9e3b5"
      },
      "execution_count": null,
      "outputs": [
        {
          "output_type": "execute_result",
          "data": {
            "text/plain": [
              "(204, 81)"
            ]
          },
          "metadata": {},
          "execution_count": 60
        }
      ]
    },
    {
      "cell_type": "code",
      "source": [
        "data_sentiment.columns.get_loc('Close_Hist1')"
      ],
      "metadata": {
        "colab": {
          "base_uri": "https://localhost:8080/"
        },
        "id": "Vsbyb72qlm66",
        "outputId": "b40de7cd-c6e4-4176-9bd7-7cb69dd64dec"
      },
      "execution_count": null,
      "outputs": [
        {
          "output_type": "execute_result",
          "data": {
            "text/plain": [
              "44"
            ]
          },
          "metadata": {},
          "execution_count": 28
        }
      ]
    },
    {
      "cell_type": "code",
      "source": [
        "# Preprocessing\n",
        "# Extracting useful columns\n",
        "data_sentiment_features = data_sentiment.iloc[:, 44:]\n",
        "data_sentiment_features = data_sentiment_features.drop(columns=['1WeekChange', '1MonthChange', '1QuarterChange'])\n",
        "\n",
        "# Replace NA with 0\n",
        "data_sentiment_features = data_sentiment_features.replace(np.nan,0)\n",
        "\n",
        "# Standardizing\n",
        "# scaler = StandardScaler()\n",
        "# data_sentiment_features_scaled = pd.DataFrame(scaler.fit_transform(data_sentiment_features), columns = data_sentiment_features.columns)\n",
        "data_sentiment_features_scaled = data_sentiment_features\n",
        "\n",
        "# Dummifying Sentiments\n",
        "# data_sentiment_features_scaled['Positive'] = 0\n",
        "# data_sentiment_features_scaled['Negative'] = 0\n",
        "# for i in range(data_sentiment_features_scaled.shape[0]):\n",
        "#   if data_sentiment_features_scaled.loc[i, 'SentimentsPos'] == max(data_sentiment_features_scaled.loc[i, 'SentimentsPos'], data_sentiment_features_scaled.loc[i, 'SentimentsNeutral'], data_sentiment_features_scaled.loc[i, 'SentimentsNeg']):\n",
        "#     data_sentiment_features_scaled.loc[i, 'Positive'] = 1\n",
        "#   elif data_sentiment_features_scaled.loc[i, 'SentimentsNeg'] == max(data_sentiment_features_scaled.loc[i, 'SentimentsPos'], data_sentiment_features_scaled.loc[i, 'SentimentsNeutral'], data_sentiment_features_scaled.loc[i, 'SentimentsNeg']):\n",
        "#     data_sentiment_features_scaled.loc[i, 'Negative'] = 1\n",
        "#   else:\n",
        "#     pass\n",
        "\n",
        "data_sentiment_features_scaled.head()"
      ],
      "metadata": {
        "colab": {
          "base_uri": "https://localhost:8080/",
          "height": 300
        },
        "id": "OjjXe_Ztbmpr",
        "outputId": "d291794e-9dbf-4299-c6d4-3e8a59f73b67"
      },
      "execution_count": null,
      "outputs": [
        {
          "output_type": "execute_result",
          "data": {
            "text/plain": [
              "   Close_Hist1  Close_Hist2  Close_Hist3  Close_Hist4  Close_Hist5  \\\n",
              "0     0.005563     0.005514     0.005514     0.005514     0.005555   \n",
              "1     0.005185     0.005155     0.005155     0.005155     0.005119   \n",
              "2     0.017281     0.017703     0.018492     0.018765     0.018765   \n",
              "3     0.018313     0.018871     0.019192     0.019548     0.019548   \n",
              "4     0.019501     0.019113     0.019333     0.018773     0.018773   \n",
              "\n",
              "   Close_Hist6  Close_Hist7  Close_Hist8  Close_Hist9  Close_Hist10  ...  \\\n",
              "0     0.005564     0.005561     0.005543     0.005549      0.005549  ...   \n",
              "1     0.005162     0.005164     0.005080     0.005126      0.005126  ...   \n",
              "2     0.018765     0.018856     0.018791     0.018583      0.000000  ...   \n",
              "3     0.019548     0.019541     0.019505     0.019619      0.019558  ...   \n",
              "4     0.018773     0.018733     0.018667     0.018681      0.018477  ...   \n",
              "\n",
              "   Close_Hist25  Close_Hist26  Close_Hist27  Close_Hist28  Close_Hist29  \\\n",
              "0      0.005389      0.005350      0.005517      0.005492      0.005545   \n",
              "1      0.005140      0.005119      0.005107      0.005040      0.005052   \n",
              "2      0.000000      0.000000      0.000000      0.017810      0.017774   \n",
              "3      0.019049      0.019049      0.019049      0.019071      0.018790   \n",
              "4      0.000000      0.000000      0.000000      0.017313      0.016940   \n",
              "\n",
              "   Close_Hist30  1DayChange  SentimentsPos  SentimentsNeutral  SentimentsNeg  \n",
              "0      0.005522   -0.015629       0.192924          -0.862446       0.445982  \n",
              "1      0.005007    0.005426       0.303203          -0.804976       0.151326  \n",
              "2      0.017774   -0.021269       0.177426          -1.017115       0.614343  \n",
              "3      0.019121   -0.024901       0.102874          -0.971596       0.558406  \n",
              "4      0.017240   -0.079189      -0.250090          -0.432363       0.573945  \n",
              "\n",
              "[5 rows x 34 columns]"
            ],
            "text/html": [
              "\n",
              "  <div id=\"df-30659282-6736-449e-8e8e-7ecf4edffd3b\">\n",
              "    <div class=\"colab-df-container\">\n",
              "      <div>\n",
              "<style scoped>\n",
              "    .dataframe tbody tr th:only-of-type {\n",
              "        vertical-align: middle;\n",
              "    }\n",
              "\n",
              "    .dataframe tbody tr th {\n",
              "        vertical-align: top;\n",
              "    }\n",
              "\n",
              "    .dataframe thead th {\n",
              "        text-align: right;\n",
              "    }\n",
              "</style>\n",
              "<table border=\"1\" class=\"dataframe\">\n",
              "  <thead>\n",
              "    <tr style=\"text-align: right;\">\n",
              "      <th></th>\n",
              "      <th>Close_Hist1</th>\n",
              "      <th>Close_Hist2</th>\n",
              "      <th>Close_Hist3</th>\n",
              "      <th>Close_Hist4</th>\n",
              "      <th>Close_Hist5</th>\n",
              "      <th>Close_Hist6</th>\n",
              "      <th>Close_Hist7</th>\n",
              "      <th>Close_Hist8</th>\n",
              "      <th>Close_Hist9</th>\n",
              "      <th>Close_Hist10</th>\n",
              "      <th>...</th>\n",
              "      <th>Close_Hist25</th>\n",
              "      <th>Close_Hist26</th>\n",
              "      <th>Close_Hist27</th>\n",
              "      <th>Close_Hist28</th>\n",
              "      <th>Close_Hist29</th>\n",
              "      <th>Close_Hist30</th>\n",
              "      <th>1DayChange</th>\n",
              "      <th>SentimentsPos</th>\n",
              "      <th>SentimentsNeutral</th>\n",
              "      <th>SentimentsNeg</th>\n",
              "    </tr>\n",
              "  </thead>\n",
              "  <tbody>\n",
              "    <tr>\n",
              "      <th>0</th>\n",
              "      <td>0.005563</td>\n",
              "      <td>0.005514</td>\n",
              "      <td>0.005514</td>\n",
              "      <td>0.005514</td>\n",
              "      <td>0.005555</td>\n",
              "      <td>0.005564</td>\n",
              "      <td>0.005561</td>\n",
              "      <td>0.005543</td>\n",
              "      <td>0.005549</td>\n",
              "      <td>0.005549</td>\n",
              "      <td>...</td>\n",
              "      <td>0.005389</td>\n",
              "      <td>0.005350</td>\n",
              "      <td>0.005517</td>\n",
              "      <td>0.005492</td>\n",
              "      <td>0.005545</td>\n",
              "      <td>0.005522</td>\n",
              "      <td>-0.015629</td>\n",
              "      <td>0.192924</td>\n",
              "      <td>-0.862446</td>\n",
              "      <td>0.445982</td>\n",
              "    </tr>\n",
              "    <tr>\n",
              "      <th>1</th>\n",
              "      <td>0.005185</td>\n",
              "      <td>0.005155</td>\n",
              "      <td>0.005155</td>\n",
              "      <td>0.005155</td>\n",
              "      <td>0.005119</td>\n",
              "      <td>0.005162</td>\n",
              "      <td>0.005164</td>\n",
              "      <td>0.005080</td>\n",
              "      <td>0.005126</td>\n",
              "      <td>0.005126</td>\n",
              "      <td>...</td>\n",
              "      <td>0.005140</td>\n",
              "      <td>0.005119</td>\n",
              "      <td>0.005107</td>\n",
              "      <td>0.005040</td>\n",
              "      <td>0.005052</td>\n",
              "      <td>0.005007</td>\n",
              "      <td>0.005426</td>\n",
              "      <td>0.303203</td>\n",
              "      <td>-0.804976</td>\n",
              "      <td>0.151326</td>\n",
              "    </tr>\n",
              "    <tr>\n",
              "      <th>2</th>\n",
              "      <td>0.017281</td>\n",
              "      <td>0.017703</td>\n",
              "      <td>0.018492</td>\n",
              "      <td>0.018765</td>\n",
              "      <td>0.018765</td>\n",
              "      <td>0.018765</td>\n",
              "      <td>0.018856</td>\n",
              "      <td>0.018791</td>\n",
              "      <td>0.018583</td>\n",
              "      <td>0.000000</td>\n",
              "      <td>...</td>\n",
              "      <td>0.000000</td>\n",
              "      <td>0.000000</td>\n",
              "      <td>0.000000</td>\n",
              "      <td>0.017810</td>\n",
              "      <td>0.017774</td>\n",
              "      <td>0.017774</td>\n",
              "      <td>-0.021269</td>\n",
              "      <td>0.177426</td>\n",
              "      <td>-1.017115</td>\n",
              "      <td>0.614343</td>\n",
              "    </tr>\n",
              "    <tr>\n",
              "      <th>3</th>\n",
              "      <td>0.018313</td>\n",
              "      <td>0.018871</td>\n",
              "      <td>0.019192</td>\n",
              "      <td>0.019548</td>\n",
              "      <td>0.019548</td>\n",
              "      <td>0.019548</td>\n",
              "      <td>0.019541</td>\n",
              "      <td>0.019505</td>\n",
              "      <td>0.019619</td>\n",
              "      <td>0.019558</td>\n",
              "      <td>...</td>\n",
              "      <td>0.019049</td>\n",
              "      <td>0.019049</td>\n",
              "      <td>0.019049</td>\n",
              "      <td>0.019071</td>\n",
              "      <td>0.018790</td>\n",
              "      <td>0.019121</td>\n",
              "      <td>-0.024901</td>\n",
              "      <td>0.102874</td>\n",
              "      <td>-0.971596</td>\n",
              "      <td>0.558406</td>\n",
              "    </tr>\n",
              "    <tr>\n",
              "      <th>4</th>\n",
              "      <td>0.019501</td>\n",
              "      <td>0.019113</td>\n",
              "      <td>0.019333</td>\n",
              "      <td>0.018773</td>\n",
              "      <td>0.018773</td>\n",
              "      <td>0.018773</td>\n",
              "      <td>0.018733</td>\n",
              "      <td>0.018667</td>\n",
              "      <td>0.018681</td>\n",
              "      <td>0.018477</td>\n",
              "      <td>...</td>\n",
              "      <td>0.000000</td>\n",
              "      <td>0.000000</td>\n",
              "      <td>0.000000</td>\n",
              "      <td>0.017313</td>\n",
              "      <td>0.016940</td>\n",
              "      <td>0.017240</td>\n",
              "      <td>-0.079189</td>\n",
              "      <td>-0.250090</td>\n",
              "      <td>-0.432363</td>\n",
              "      <td>0.573945</td>\n",
              "    </tr>\n",
              "  </tbody>\n",
              "</table>\n",
              "<p>5 rows × 34 columns</p>\n",
              "</div>\n",
              "      <button class=\"colab-df-convert\" onclick=\"convertToInteractive('df-30659282-6736-449e-8e8e-7ecf4edffd3b')\"\n",
              "              title=\"Convert this dataframe to an interactive table.\"\n",
              "              style=\"display:none;\">\n",
              "        \n",
              "  <svg xmlns=\"http://www.w3.org/2000/svg\" height=\"24px\"viewBox=\"0 0 24 24\"\n",
              "       width=\"24px\">\n",
              "    <path d=\"M0 0h24v24H0V0z\" fill=\"none\"/>\n",
              "    <path d=\"M18.56 5.44l.94 2.06.94-2.06 2.06-.94-2.06-.94-.94-2.06-.94 2.06-2.06.94zm-11 1L8.5 8.5l.94-2.06 2.06-.94-2.06-.94L8.5 2.5l-.94 2.06-2.06.94zm10 10l.94 2.06.94-2.06 2.06-.94-2.06-.94-.94-2.06-.94 2.06-2.06.94z\"/><path d=\"M17.41 7.96l-1.37-1.37c-.4-.4-.92-.59-1.43-.59-.52 0-1.04.2-1.43.59L10.3 9.45l-7.72 7.72c-.78.78-.78 2.05 0 2.83L4 21.41c.39.39.9.59 1.41.59.51 0 1.02-.2 1.41-.59l7.78-7.78 2.81-2.81c.8-.78.8-2.07 0-2.86zM5.41 20L4 18.59l7.72-7.72 1.47 1.35L5.41 20z\"/>\n",
              "  </svg>\n",
              "      </button>\n",
              "      \n",
              "  <style>\n",
              "    .colab-df-container {\n",
              "      display:flex;\n",
              "      flex-wrap:wrap;\n",
              "      gap: 12px;\n",
              "    }\n",
              "\n",
              "    .colab-df-convert {\n",
              "      background-color: #E8F0FE;\n",
              "      border: none;\n",
              "      border-radius: 50%;\n",
              "      cursor: pointer;\n",
              "      display: none;\n",
              "      fill: #1967D2;\n",
              "      height: 32px;\n",
              "      padding: 0 0 0 0;\n",
              "      width: 32px;\n",
              "    }\n",
              "\n",
              "    .colab-df-convert:hover {\n",
              "      background-color: #E2EBFA;\n",
              "      box-shadow: 0px 1px 2px rgba(60, 64, 67, 0.3), 0px 1px 3px 1px rgba(60, 64, 67, 0.15);\n",
              "      fill: #174EA6;\n",
              "    }\n",
              "\n",
              "    [theme=dark] .colab-df-convert {\n",
              "      background-color: #3B4455;\n",
              "      fill: #D2E3FC;\n",
              "    }\n",
              "\n",
              "    [theme=dark] .colab-df-convert:hover {\n",
              "      background-color: #434B5C;\n",
              "      box-shadow: 0px 1px 3px 1px rgba(0, 0, 0, 0.15);\n",
              "      filter: drop-shadow(0px 1px 2px rgba(0, 0, 0, 0.3));\n",
              "      fill: #FFFFFF;\n",
              "    }\n",
              "  </style>\n",
              "\n",
              "      <script>\n",
              "        const buttonEl =\n",
              "          document.querySelector('#df-30659282-6736-449e-8e8e-7ecf4edffd3b button.colab-df-convert');\n",
              "        buttonEl.style.display =\n",
              "          google.colab.kernel.accessAllowed ? 'block' : 'none';\n",
              "\n",
              "        async function convertToInteractive(key) {\n",
              "          const element = document.querySelector('#df-30659282-6736-449e-8e8e-7ecf4edffd3b');\n",
              "          const dataTable =\n",
              "            await google.colab.kernel.invokeFunction('convertToInteractive',\n",
              "                                                     [key], {});\n",
              "          if (!dataTable) return;\n",
              "\n",
              "          const docLinkHtml = 'Like what you see? Visit the ' +\n",
              "            '<a target=\"_blank\" href=https://colab.research.google.com/notebooks/data_table.ipynb>data table notebook</a>'\n",
              "            + ' to learn more about interactive tables.';\n",
              "          element.innerHTML = '';\n",
              "          dataTable['output_type'] = 'display_data';\n",
              "          await google.colab.output.renderOutput(dataTable, element);\n",
              "          const docLink = document.createElement('div');\n",
              "          docLink.innerHTML = docLinkHtml;\n",
              "          element.appendChild(docLink);\n",
              "        }\n",
              "      </script>\n",
              "    </div>\n",
              "  </div>\n",
              "  "
            ]
          },
          "metadata": {},
          "execution_count": 29
        }
      ]
    },
    {
      "cell_type": "code",
      "source": [
        "data_sentiment_features_scaled.shape"
      ],
      "metadata": {
        "colab": {
          "base_uri": "https://localhost:8080/"
        },
        "id": "E8R-IoxgunNi",
        "outputId": "31c5dd84-9585-4000-e637-e58dd463591d"
      },
      "execution_count": null,
      "outputs": [
        {
          "output_type": "execute_result",
          "data": {
            "text/plain": [
              "(204, 34)"
            ]
          },
          "metadata": {},
          "execution_count": 30
        }
      ]
    },
    {
      "cell_type": "code",
      "source": [
        "y = data_sentiment_features_scaled['1WeekChange']\n",
        "X = data_sentiment_features_scaled.drop(columns=['1DayChange']) # , 'SentimentsPos', 'SentimentsNeutral', 'SentimentsNeg'\n",
        "X_train, X_test, y_train, y_test = train_test_split(X, y, test_size=0.20)"
      ],
      "metadata": {
        "id": "hVl05pkvs9PO",
        "colab": {
          "base_uri": "https://localhost:8080/",
          "height": 502
        },
        "outputId": "f094fad0-6d34-4b46-e4ef-d3b0cf0e3beb"
      },
      "execution_count": null,
      "outputs": [
        {
          "output_type": "error",
          "ename": "KeyError",
          "evalue": "ignored",
          "traceback": [
            "\u001b[0;31m---------------------------------------------------------------------------\u001b[0m",
            "\u001b[0;31mKeyError\u001b[0m                                  Traceback (most recent call last)",
            "\u001b[0;32m/usr/local/lib/python3.7/dist-packages/pandas/core/indexes/base.py\u001b[0m in \u001b[0;36mget_loc\u001b[0;34m(self, key, method, tolerance)\u001b[0m\n\u001b[1;32m   3360\u001b[0m             \u001b[0;32mtry\u001b[0m\u001b[0;34m:\u001b[0m\u001b[0;34m\u001b[0m\u001b[0;34m\u001b[0m\u001b[0m\n\u001b[0;32m-> 3361\u001b[0;31m                 \u001b[0;32mreturn\u001b[0m \u001b[0mself\u001b[0m\u001b[0;34m.\u001b[0m\u001b[0m_engine\u001b[0m\u001b[0;34m.\u001b[0m\u001b[0mget_loc\u001b[0m\u001b[0;34m(\u001b[0m\u001b[0mcasted_key\u001b[0m\u001b[0;34m)\u001b[0m\u001b[0;34m\u001b[0m\u001b[0;34m\u001b[0m\u001b[0m\n\u001b[0m\u001b[1;32m   3362\u001b[0m             \u001b[0;32mexcept\u001b[0m \u001b[0mKeyError\u001b[0m \u001b[0;32mas\u001b[0m \u001b[0merr\u001b[0m\u001b[0;34m:\u001b[0m\u001b[0;34m\u001b[0m\u001b[0;34m\u001b[0m\u001b[0m\n",
            "\u001b[0;32m/usr/local/lib/python3.7/dist-packages/pandas/_libs/index.pyx\u001b[0m in \u001b[0;36mpandas._libs.index.IndexEngine.get_loc\u001b[0;34m()\u001b[0m\n",
            "\u001b[0;32m/usr/local/lib/python3.7/dist-packages/pandas/_libs/index.pyx\u001b[0m in \u001b[0;36mpandas._libs.index.IndexEngine.get_loc\u001b[0;34m()\u001b[0m\n",
            "\u001b[0;32mpandas/_libs/hashtable_class_helper.pxi\u001b[0m in \u001b[0;36mpandas._libs.hashtable.PyObjectHashTable.get_item\u001b[0;34m()\u001b[0m\n",
            "\u001b[0;32mpandas/_libs/hashtable_class_helper.pxi\u001b[0m in \u001b[0;36mpandas._libs.hashtable.PyObjectHashTable.get_item\u001b[0;34m()\u001b[0m\n",
            "\u001b[0;31mKeyError\u001b[0m: '1WeekChange'",
            "\nThe above exception was the direct cause of the following exception:\n",
            "\u001b[0;31mKeyError\u001b[0m                                  Traceback (most recent call last)",
            "\u001b[0;32m<ipython-input-61-3535a883c0af>\u001b[0m in \u001b[0;36m<module>\u001b[0;34m()\u001b[0m\n\u001b[0;32m----> 1\u001b[0;31m \u001b[0my\u001b[0m \u001b[0;34m=\u001b[0m \u001b[0mdata_sentiment_features_scaled\u001b[0m\u001b[0;34m[\u001b[0m\u001b[0;34m'1WeekChange'\u001b[0m\u001b[0;34m]\u001b[0m\u001b[0;34m\u001b[0m\u001b[0;34m\u001b[0m\u001b[0m\n\u001b[0m\u001b[1;32m      2\u001b[0m \u001b[0mX\u001b[0m \u001b[0;34m=\u001b[0m \u001b[0mdata_sentiment_features_scaled\u001b[0m\u001b[0;34m.\u001b[0m\u001b[0mdrop\u001b[0m\u001b[0;34m(\u001b[0m\u001b[0mcolumns\u001b[0m\u001b[0;34m=\u001b[0m\u001b[0;34m[\u001b[0m\u001b[0;34m'1DayChange'\u001b[0m\u001b[0;34m]\u001b[0m\u001b[0;34m)\u001b[0m \u001b[0;31m# , 'SentimentsPos', 'SentimentsNeutral', 'SentimentsNeg'\u001b[0m\u001b[0;34m\u001b[0m\u001b[0;34m\u001b[0m\u001b[0m\n\u001b[1;32m      3\u001b[0m \u001b[0mX_train\u001b[0m\u001b[0;34m,\u001b[0m \u001b[0mX_test\u001b[0m\u001b[0;34m,\u001b[0m \u001b[0my_train\u001b[0m\u001b[0;34m,\u001b[0m \u001b[0my_test\u001b[0m \u001b[0;34m=\u001b[0m \u001b[0mtrain_test_split\u001b[0m\u001b[0;34m(\u001b[0m\u001b[0mX\u001b[0m\u001b[0;34m,\u001b[0m \u001b[0my\u001b[0m\u001b[0;34m,\u001b[0m \u001b[0mtest_size\u001b[0m\u001b[0;34m=\u001b[0m\u001b[0;36m0.20\u001b[0m\u001b[0;34m)\u001b[0m\u001b[0;34m\u001b[0m\u001b[0;34m\u001b[0m\u001b[0m\n",
            "\u001b[0;32m/usr/local/lib/python3.7/dist-packages/pandas/core/frame.py\u001b[0m in \u001b[0;36m__getitem__\u001b[0;34m(self, key)\u001b[0m\n\u001b[1;32m   3456\u001b[0m             \u001b[0;32mif\u001b[0m \u001b[0mself\u001b[0m\u001b[0;34m.\u001b[0m\u001b[0mcolumns\u001b[0m\u001b[0;34m.\u001b[0m\u001b[0mnlevels\u001b[0m \u001b[0;34m>\u001b[0m \u001b[0;36m1\u001b[0m\u001b[0;34m:\u001b[0m\u001b[0;34m\u001b[0m\u001b[0;34m\u001b[0m\u001b[0m\n\u001b[1;32m   3457\u001b[0m                 \u001b[0;32mreturn\u001b[0m \u001b[0mself\u001b[0m\u001b[0;34m.\u001b[0m\u001b[0m_getitem_multilevel\u001b[0m\u001b[0;34m(\u001b[0m\u001b[0mkey\u001b[0m\u001b[0;34m)\u001b[0m\u001b[0;34m\u001b[0m\u001b[0;34m\u001b[0m\u001b[0m\n\u001b[0;32m-> 3458\u001b[0;31m             \u001b[0mindexer\u001b[0m \u001b[0;34m=\u001b[0m \u001b[0mself\u001b[0m\u001b[0;34m.\u001b[0m\u001b[0mcolumns\u001b[0m\u001b[0;34m.\u001b[0m\u001b[0mget_loc\u001b[0m\u001b[0;34m(\u001b[0m\u001b[0mkey\u001b[0m\u001b[0;34m)\u001b[0m\u001b[0;34m\u001b[0m\u001b[0;34m\u001b[0m\u001b[0m\n\u001b[0m\u001b[1;32m   3459\u001b[0m             \u001b[0;32mif\u001b[0m \u001b[0mis_integer\u001b[0m\u001b[0;34m(\u001b[0m\u001b[0mindexer\u001b[0m\u001b[0;34m)\u001b[0m\u001b[0;34m:\u001b[0m\u001b[0;34m\u001b[0m\u001b[0;34m\u001b[0m\u001b[0m\n\u001b[1;32m   3460\u001b[0m                 \u001b[0mindexer\u001b[0m \u001b[0;34m=\u001b[0m \u001b[0;34m[\u001b[0m\u001b[0mindexer\u001b[0m\u001b[0;34m]\u001b[0m\u001b[0;34m\u001b[0m\u001b[0;34m\u001b[0m\u001b[0m\n",
            "\u001b[0;32m/usr/local/lib/python3.7/dist-packages/pandas/core/indexes/base.py\u001b[0m in \u001b[0;36mget_loc\u001b[0;34m(self, key, method, tolerance)\u001b[0m\n\u001b[1;32m   3361\u001b[0m                 \u001b[0;32mreturn\u001b[0m \u001b[0mself\u001b[0m\u001b[0;34m.\u001b[0m\u001b[0m_engine\u001b[0m\u001b[0;34m.\u001b[0m\u001b[0mget_loc\u001b[0m\u001b[0;34m(\u001b[0m\u001b[0mcasted_key\u001b[0m\u001b[0;34m)\u001b[0m\u001b[0;34m\u001b[0m\u001b[0;34m\u001b[0m\u001b[0m\n\u001b[1;32m   3362\u001b[0m             \u001b[0;32mexcept\u001b[0m \u001b[0mKeyError\u001b[0m \u001b[0;32mas\u001b[0m \u001b[0merr\u001b[0m\u001b[0;34m:\u001b[0m\u001b[0;34m\u001b[0m\u001b[0;34m\u001b[0m\u001b[0m\n\u001b[0;32m-> 3363\u001b[0;31m                 \u001b[0;32mraise\u001b[0m \u001b[0mKeyError\u001b[0m\u001b[0;34m(\u001b[0m\u001b[0mkey\u001b[0m\u001b[0;34m)\u001b[0m \u001b[0;32mfrom\u001b[0m \u001b[0merr\u001b[0m\u001b[0;34m\u001b[0m\u001b[0;34m\u001b[0m\u001b[0m\n\u001b[0m\u001b[1;32m   3364\u001b[0m \u001b[0;34m\u001b[0m\u001b[0m\n\u001b[1;32m   3365\u001b[0m         \u001b[0;32mif\u001b[0m \u001b[0mis_scalar\u001b[0m\u001b[0;34m(\u001b[0m\u001b[0mkey\u001b[0m\u001b[0;34m)\u001b[0m \u001b[0;32mand\u001b[0m \u001b[0misna\u001b[0m\u001b[0;34m(\u001b[0m\u001b[0mkey\u001b[0m\u001b[0;34m)\u001b[0m \u001b[0;32mand\u001b[0m \u001b[0;32mnot\u001b[0m \u001b[0mself\u001b[0m\u001b[0;34m.\u001b[0m\u001b[0mhasnans\u001b[0m\u001b[0;34m:\u001b[0m\u001b[0;34m\u001b[0m\u001b[0;34m\u001b[0m\u001b[0m\n",
            "\u001b[0;31mKeyError\u001b[0m: '1WeekChange'"
          ]
        }
      ]
    },
    {
      "cell_type": "code",
      "source": [
        "X_train.head()"
      ],
      "metadata": {
        "id": "VdB9F680VaeB"
      },
      "execution_count": null,
      "outputs": []
    },
    {
      "cell_type": "code",
      "source": [
        "X_train.shape"
      ],
      "metadata": {
        "colab": {
          "base_uri": "https://localhost:8080/"
        },
        "id": "fh3C47rduiR3",
        "outputId": "ab251a94-16ed-41a3-c031-fe37ca38f959"
      },
      "execution_count": null,
      "outputs": [
        {
          "output_type": "execute_result",
          "data": {
            "text/plain": [
              "(163, 33)"
            ]
          },
          "metadata": {},
          "execution_count": 62
        }
      ]
    },
    {
      "cell_type": "code",
      "source": [
        "max(y) - min(y)"
      ],
      "metadata": {
        "colab": {
          "base_uri": "https://localhost:8080/"
        },
        "id": "JI92ftZaVo9J",
        "outputId": "86dd54e1-e143-4838-a1da-b734ae3166e3"
      },
      "execution_count": null,
      "outputs": [
        {
          "output_type": "execute_result",
          "data": {
            "text/plain": [
              "0.3070226603707882"
            ]
          },
          "metadata": {},
          "execution_count": 63
        }
      ]
    },
    {
      "cell_type": "code",
      "source": [
        "# Combination of l2 and l1_l2\n",
        "model = Sequential()\n",
        "model.add(Dense(32, activation='relu', input_shape=(33,)))\n",
        "                # , kernel_regularizer=regularizers.l2(1e-3), bias_regularizer=regularizers.l1_l2(l1 = 1e-3, l2 = 1e-3)))\n",
        "\n",
        "model.add(Dropout(0.5))\n",
        "\n",
        "model.add(Dense(32, activation='relu'))\n",
        "\n",
        "model.add(Dropout(0.5))\n",
        "\n",
        "model.add(Dense(16, activation='relu'))\n",
        "\n",
        "model.add(Dense(1,))\n",
        "model.compile(loss='mae', optimizer=Adam(learning_rate=0.001))\n",
        "\n",
        "model.fit(X_train, y_train, epochs=200, verbose=1)"
      ],
      "metadata": {
        "id": "VXTMhtEtr07K",
        "colab": {
          "base_uri": "https://localhost:8080/"
        },
        "outputId": "e3c12e96-6a5c-4af1-a0e4-1035ac4f572e"
      },
      "execution_count": null,
      "outputs": [
        {
          "output_type": "stream",
          "name": "stdout",
          "text": [
            "Epoch 1/200\n",
            "6/6 [==============================] - 1s 5ms/step - loss: 0.3069\n",
            "Epoch 2/200\n",
            "6/6 [==============================] - 0s 4ms/step - loss: 0.1897\n",
            "Epoch 3/200\n",
            "6/6 [==============================] - 0s 4ms/step - loss: 0.1531\n",
            "Epoch 4/200\n",
            "6/6 [==============================] - 0s 4ms/step - loss: 0.1268\n",
            "Epoch 5/200\n",
            "6/6 [==============================] - 0s 4ms/step - loss: 0.1216\n",
            "Epoch 6/200\n",
            "6/6 [==============================] - 0s 4ms/step - loss: 0.1260\n",
            "Epoch 7/200\n",
            "6/6 [==============================] - 0s 3ms/step - loss: 0.1018\n",
            "Epoch 8/200\n",
            "6/6 [==============================] - 0s 3ms/step - loss: 0.0929\n",
            "Epoch 9/200\n",
            "6/6 [==============================] - 0s 3ms/step - loss: 0.0950\n",
            "Epoch 10/200\n",
            "6/6 [==============================] - 0s 4ms/step - loss: 0.0869\n",
            "Epoch 11/200\n",
            "6/6 [==============================] - 0s 4ms/step - loss: 0.0837\n",
            "Epoch 12/200\n",
            "6/6 [==============================] - 0s 4ms/step - loss: 0.0759\n",
            "Epoch 13/200\n",
            "6/6 [==============================] - 0s 3ms/step - loss: 0.0691\n",
            "Epoch 14/200\n",
            "6/6 [==============================] - 0s 3ms/step - loss: 0.0664\n",
            "Epoch 15/200\n",
            "6/6 [==============================] - 0s 3ms/step - loss: 0.0562\n",
            "Epoch 16/200\n",
            "6/6 [==============================] - 0s 4ms/step - loss: 0.0559\n",
            "Epoch 17/200\n",
            "6/6 [==============================] - 0s 4ms/step - loss: 0.0670\n",
            "Epoch 18/200\n",
            "6/6 [==============================] - 0s 3ms/step - loss: 0.0572\n",
            "Epoch 19/200\n",
            "6/6 [==============================] - 0s 3ms/step - loss: 0.0545\n",
            "Epoch 20/200\n",
            "6/6 [==============================] - 0s 3ms/step - loss: 0.0539\n",
            "Epoch 21/200\n",
            "6/6 [==============================] - 0s 3ms/step - loss: 0.0604\n",
            "Epoch 22/200\n",
            "6/6 [==============================] - 0s 4ms/step - loss: 0.0546\n",
            "Epoch 23/200\n",
            "6/6 [==============================] - 0s 5ms/step - loss: 0.0567\n",
            "Epoch 24/200\n",
            "6/6 [==============================] - 0s 3ms/step - loss: 0.0507\n",
            "Epoch 25/200\n",
            "6/6 [==============================] - 0s 3ms/step - loss: 0.0496\n",
            "Epoch 26/200\n",
            "6/6 [==============================] - 0s 5ms/step - loss: 0.0472\n",
            "Epoch 27/200\n",
            "6/6 [==============================] - 0s 4ms/step - loss: 0.0449\n",
            "Epoch 28/200\n",
            "6/6 [==============================] - 0s 3ms/step - loss: 0.0467\n",
            "Epoch 29/200\n",
            "6/6 [==============================] - 0s 3ms/step - loss: 0.0437\n",
            "Epoch 30/200\n",
            "6/6 [==============================] - 0s 3ms/step - loss: 0.0440\n",
            "Epoch 31/200\n",
            "6/6 [==============================] - 0s 3ms/step - loss: 0.0449\n",
            "Epoch 32/200\n",
            "6/6 [==============================] - 0s 3ms/step - loss: 0.0434\n",
            "Epoch 33/200\n",
            "6/6 [==============================] - 0s 3ms/step - loss: 0.0404\n",
            "Epoch 34/200\n",
            "6/6 [==============================] - 0s 3ms/step - loss: 0.0372\n",
            "Epoch 35/200\n",
            "6/6 [==============================] - 0s 3ms/step - loss: 0.0388\n",
            "Epoch 36/200\n",
            "6/6 [==============================] - 0s 3ms/step - loss: 0.0411\n",
            "Epoch 37/200\n",
            "6/6 [==============================] - 0s 3ms/step - loss: 0.0383\n",
            "Epoch 38/200\n",
            "6/6 [==============================] - 0s 4ms/step - loss: 0.0381\n",
            "Epoch 39/200\n",
            "6/6 [==============================] - 0s 3ms/step - loss: 0.0360\n",
            "Epoch 40/200\n",
            "6/6 [==============================] - 0s 3ms/step - loss: 0.0367\n",
            "Epoch 41/200\n",
            "6/6 [==============================] - 0s 3ms/step - loss: 0.0353\n",
            "Epoch 42/200\n",
            "6/6 [==============================] - 0s 4ms/step - loss: 0.0335\n",
            "Epoch 43/200\n",
            "6/6 [==============================] - 0s 3ms/step - loss: 0.0331\n",
            "Epoch 44/200\n",
            "6/6 [==============================] - 0s 3ms/step - loss: 0.0367\n",
            "Epoch 45/200\n",
            "6/6 [==============================] - 0s 3ms/step - loss: 0.0335\n",
            "Epoch 46/200\n",
            "6/6 [==============================] - 0s 3ms/step - loss: 0.0341\n",
            "Epoch 47/200\n",
            "6/6 [==============================] - 0s 4ms/step - loss: 0.0353\n",
            "Epoch 48/200\n",
            "6/6 [==============================] - 0s 3ms/step - loss: 0.0346\n",
            "Epoch 49/200\n",
            "6/6 [==============================] - 0s 3ms/step - loss: 0.0334\n",
            "Epoch 50/200\n",
            "6/6 [==============================] - 0s 3ms/step - loss: 0.0338\n",
            "Epoch 51/200\n",
            "6/6 [==============================] - 0s 3ms/step - loss: 0.0337\n",
            "Epoch 52/200\n",
            "6/6 [==============================] - 0s 4ms/step - loss: 0.0337\n",
            "Epoch 53/200\n",
            "6/6 [==============================] - 0s 3ms/step - loss: 0.0342\n",
            "Epoch 54/200\n",
            "6/6 [==============================] - 0s 3ms/step - loss: 0.0340\n",
            "Epoch 55/200\n",
            "6/6 [==============================] - 0s 3ms/step - loss: 0.0340\n",
            "Epoch 56/200\n",
            "6/6 [==============================] - 0s 4ms/step - loss: 0.0325\n",
            "Epoch 57/200\n",
            "6/6 [==============================] - 0s 4ms/step - loss: 0.0311\n",
            "Epoch 58/200\n",
            "6/6 [==============================] - 0s 3ms/step - loss: 0.0330\n",
            "Epoch 59/200\n",
            "6/6 [==============================] - 0s 5ms/step - loss: 0.0354\n",
            "Epoch 60/200\n",
            "6/6 [==============================] - 0s 4ms/step - loss: 0.0329\n",
            "Epoch 61/200\n",
            "6/6 [==============================] - 0s 3ms/step - loss: 0.0319\n",
            "Epoch 62/200\n",
            "6/6 [==============================] - 0s 4ms/step - loss: 0.0330\n",
            "Epoch 63/200\n",
            "6/6 [==============================] - 0s 3ms/step - loss: 0.0318\n",
            "Epoch 64/200\n",
            "6/6 [==============================] - 0s 3ms/step - loss: 0.0326\n",
            "Epoch 65/200\n",
            "6/6 [==============================] - 0s 3ms/step - loss: 0.0315\n",
            "Epoch 66/200\n",
            "6/6 [==============================] - 0s 3ms/step - loss: 0.0332\n",
            "Epoch 67/200\n",
            "6/6 [==============================] - 0s 4ms/step - loss: 0.0318\n",
            "Epoch 68/200\n",
            "6/6 [==============================] - 0s 3ms/step - loss: 0.0320\n",
            "Epoch 69/200\n",
            "6/6 [==============================] - 0s 5ms/step - loss: 0.0318\n",
            "Epoch 70/200\n",
            "6/6 [==============================] - 0s 3ms/step - loss: 0.0319\n",
            "Epoch 71/200\n",
            "6/6 [==============================] - 0s 4ms/step - loss: 0.0336\n",
            "Epoch 72/200\n",
            "6/6 [==============================] - 0s 4ms/step - loss: 0.0325\n",
            "Epoch 73/200\n",
            "6/6 [==============================] - 0s 4ms/step - loss: 0.0316\n",
            "Epoch 74/200\n",
            "6/6 [==============================] - 0s 3ms/step - loss: 0.0322\n",
            "Epoch 75/200\n",
            "6/6 [==============================] - 0s 4ms/step - loss: 0.0316\n",
            "Epoch 76/200\n",
            "6/6 [==============================] - 0s 3ms/step - loss: 0.0311\n",
            "Epoch 77/200\n",
            "6/6 [==============================] - 0s 3ms/step - loss: 0.0306\n",
            "Epoch 78/200\n",
            "6/6 [==============================] - 0s 4ms/step - loss: 0.0324\n",
            "Epoch 79/200\n",
            "6/6 [==============================] - 0s 4ms/step - loss: 0.0314\n",
            "Epoch 80/200\n",
            "6/6 [==============================] - 0s 4ms/step - loss: 0.0319\n",
            "Epoch 81/200\n",
            "6/6 [==============================] - 0s 4ms/step - loss: 0.0308\n",
            "Epoch 82/200\n",
            "6/6 [==============================] - 0s 3ms/step - loss: 0.0327\n",
            "Epoch 83/200\n",
            "6/6 [==============================] - 0s 4ms/step - loss: 0.0317\n",
            "Epoch 84/200\n",
            "6/6 [==============================] - 0s 3ms/step - loss: 0.0315\n",
            "Epoch 85/200\n",
            "6/6 [==============================] - 0s 4ms/step - loss: 0.0319\n",
            "Epoch 86/200\n",
            "6/6 [==============================] - 0s 4ms/step - loss: 0.0313\n",
            "Epoch 87/200\n",
            "6/6 [==============================] - 0s 3ms/step - loss: 0.0313\n",
            "Epoch 88/200\n",
            "6/6 [==============================] - 0s 4ms/step - loss: 0.0309\n",
            "Epoch 89/200\n",
            "6/6 [==============================] - 0s 3ms/step - loss: 0.0309\n",
            "Epoch 90/200\n",
            "6/6 [==============================] - 0s 3ms/step - loss: 0.0298\n",
            "Epoch 91/200\n",
            "6/6 [==============================] - 0s 4ms/step - loss: 0.0308\n",
            "Epoch 92/200\n",
            "6/6 [==============================] - 0s 4ms/step - loss: 0.0313\n",
            "Epoch 93/200\n",
            "6/6 [==============================] - 0s 4ms/step - loss: 0.0313\n",
            "Epoch 94/200\n",
            "6/6 [==============================] - 0s 5ms/step - loss: 0.0309\n",
            "Epoch 95/200\n",
            "6/6 [==============================] - 0s 4ms/step - loss: 0.0305\n",
            "Epoch 96/200\n",
            "6/6 [==============================] - 0s 4ms/step - loss: 0.0308\n",
            "Epoch 97/200\n",
            "6/6 [==============================] - 0s 4ms/step - loss: 0.0304\n",
            "Epoch 98/200\n",
            "6/6 [==============================] - 0s 4ms/step - loss: 0.0307\n",
            "Epoch 99/200\n",
            "6/6 [==============================] - 0s 4ms/step - loss: 0.0306\n",
            "Epoch 100/200\n",
            "6/6 [==============================] - 0s 3ms/step - loss: 0.0306\n",
            "Epoch 101/200\n",
            "6/6 [==============================] - 0s 4ms/step - loss: 0.0294\n",
            "Epoch 102/200\n",
            "6/6 [==============================] - 0s 3ms/step - loss: 0.0296\n",
            "Epoch 103/200\n",
            "6/6 [==============================] - 0s 4ms/step - loss: 0.0300\n",
            "Epoch 104/200\n",
            "6/6 [==============================] - 0s 4ms/step - loss: 0.0315\n",
            "Epoch 105/200\n",
            "6/6 [==============================] - 0s 4ms/step - loss: 0.0299\n",
            "Epoch 106/200\n",
            "6/6 [==============================] - 0s 4ms/step - loss: 0.0301\n",
            "Epoch 107/200\n",
            "6/6 [==============================] - 0s 4ms/step - loss: 0.0309\n",
            "Epoch 108/200\n",
            "6/6 [==============================] - 0s 5ms/step - loss: 0.0298\n",
            "Epoch 109/200\n",
            "6/6 [==============================] - 0s 4ms/step - loss: 0.0300\n",
            "Epoch 110/200\n",
            "6/6 [==============================] - 0s 3ms/step - loss: 0.0304\n",
            "Epoch 111/200\n",
            "6/6 [==============================] - 0s 5ms/step - loss: 0.0312\n",
            "Epoch 112/200\n",
            "6/6 [==============================] - 0s 3ms/step - loss: 0.0305\n",
            "Epoch 113/200\n",
            "6/6 [==============================] - 0s 4ms/step - loss: 0.0301\n",
            "Epoch 114/200\n",
            "6/6 [==============================] - 0s 3ms/step - loss: 0.0310\n",
            "Epoch 115/200\n",
            "6/6 [==============================] - 0s 3ms/step - loss: 0.0303\n",
            "Epoch 116/200\n",
            "6/6 [==============================] - 0s 4ms/step - loss: 0.0306\n",
            "Epoch 117/200\n",
            "6/6 [==============================] - 0s 4ms/step - loss: 0.0296\n",
            "Epoch 118/200\n",
            "6/6 [==============================] - 0s 3ms/step - loss: 0.0304\n",
            "Epoch 119/200\n",
            "6/6 [==============================] - 0s 4ms/step - loss: 0.0294\n",
            "Epoch 120/200\n",
            "6/6 [==============================] - 0s 4ms/step - loss: 0.0302\n",
            "Epoch 121/200\n",
            "6/6 [==============================] - 0s 4ms/step - loss: 0.0299\n",
            "Epoch 122/200\n",
            "6/6 [==============================] - 0s 3ms/step - loss: 0.0298\n",
            "Epoch 123/200\n",
            "6/6 [==============================] - 0s 4ms/step - loss: 0.0309\n",
            "Epoch 124/200\n",
            "6/6 [==============================] - 0s 3ms/step - loss: 0.0305\n",
            "Epoch 125/200\n",
            "6/6 [==============================] - 0s 4ms/step - loss: 0.0305\n",
            "Epoch 126/200\n",
            "6/6 [==============================] - 0s 3ms/step - loss: 0.0307\n",
            "Epoch 127/200\n",
            "6/6 [==============================] - 0s 3ms/step - loss: 0.0298\n",
            "Epoch 128/200\n",
            "6/6 [==============================] - 0s 3ms/step - loss: 0.0299\n",
            "Epoch 129/200\n",
            "6/6 [==============================] - 0s 3ms/step - loss: 0.0307\n",
            "Epoch 130/200\n",
            "6/6 [==============================] - 0s 5ms/step - loss: 0.0306\n",
            "Epoch 131/200\n",
            "6/6 [==============================] - 0s 4ms/step - loss: 0.0305\n",
            "Epoch 132/200\n",
            "6/6 [==============================] - 0s 3ms/step - loss: 0.0306\n",
            "Epoch 133/200\n",
            "6/6 [==============================] - 0s 3ms/step - loss: 0.0297\n",
            "Epoch 134/200\n",
            "6/6 [==============================] - 0s 3ms/step - loss: 0.0299\n",
            "Epoch 135/200\n",
            "6/6 [==============================] - 0s 5ms/step - loss: 0.0301\n",
            "Epoch 136/200\n",
            "6/6 [==============================] - 0s 4ms/step - loss: 0.0308\n",
            "Epoch 137/200\n",
            "6/6 [==============================] - 0s 3ms/step - loss: 0.0296\n",
            "Epoch 138/200\n",
            "6/6 [==============================] - 0s 3ms/step - loss: 0.0296\n",
            "Epoch 139/200\n",
            "6/6 [==============================] - 0s 5ms/step - loss: 0.0305\n",
            "Epoch 140/200\n",
            "6/6 [==============================] - 0s 4ms/step - loss: 0.0304\n",
            "Epoch 141/200\n",
            "6/6 [==============================] - 0s 3ms/step - loss: 0.0299\n",
            "Epoch 142/200\n",
            "6/6 [==============================] - 0s 4ms/step - loss: 0.0297\n",
            "Epoch 143/200\n",
            "6/6 [==============================] - 0s 3ms/step - loss: 0.0297\n",
            "Epoch 144/200\n",
            "6/6 [==============================] - 0s 4ms/step - loss: 0.0304\n",
            "Epoch 145/200\n",
            "6/6 [==============================] - 0s 3ms/step - loss: 0.0303\n",
            "Epoch 146/200\n",
            "6/6 [==============================] - 0s 4ms/step - loss: 0.0301\n",
            "Epoch 147/200\n",
            "6/6 [==============================] - 0s 3ms/step - loss: 0.0297\n",
            "Epoch 148/200\n",
            "6/6 [==============================] - 0s 4ms/step - loss: 0.0301\n",
            "Epoch 149/200\n",
            "6/6 [==============================] - 0s 3ms/step - loss: 0.0303\n",
            "Epoch 150/200\n",
            "6/6 [==============================] - 0s 3ms/step - loss: 0.0301\n",
            "Epoch 151/200\n",
            "6/6 [==============================] - 0s 4ms/step - loss: 0.0299\n",
            "Epoch 152/200\n",
            "6/6 [==============================] - 0s 3ms/step - loss: 0.0295\n",
            "Epoch 153/200\n",
            "6/6 [==============================] - 0s 3ms/step - loss: 0.0303\n",
            "Epoch 154/200\n",
            "6/6 [==============================] - 0s 3ms/step - loss: 0.0300\n",
            "Epoch 155/200\n",
            "6/6 [==============================] - 0s 3ms/step - loss: 0.0299\n",
            "Epoch 156/200\n",
            "6/6 [==============================] - 0s 4ms/step - loss: 0.0299\n",
            "Epoch 157/200\n",
            "6/6 [==============================] - 0s 4ms/step - loss: 0.0300\n",
            "Epoch 158/200\n",
            "6/6 [==============================] - 0s 3ms/step - loss: 0.0309\n",
            "Epoch 159/200\n",
            "6/6 [==============================] - 0s 3ms/step - loss: 0.0301\n",
            "Epoch 160/200\n",
            "6/6 [==============================] - 0s 4ms/step - loss: 0.0304\n",
            "Epoch 161/200\n",
            "6/6 [==============================] - 0s 3ms/step - loss: 0.0295\n",
            "Epoch 162/200\n",
            "6/6 [==============================] - 0s 3ms/step - loss: 0.0297\n",
            "Epoch 163/200\n",
            "6/6 [==============================] - 0s 3ms/step - loss: 0.0295\n",
            "Epoch 164/200\n",
            "6/6 [==============================] - 0s 3ms/step - loss: 0.0304\n",
            "Epoch 165/200\n",
            "6/6 [==============================] - 0s 6ms/step - loss: 0.0298\n",
            "Epoch 166/200\n",
            "6/6 [==============================] - 0s 5ms/step - loss: 0.0300\n",
            "Epoch 167/200\n",
            "6/6 [==============================] - 0s 3ms/step - loss: 0.0300\n",
            "Epoch 168/200\n",
            "6/6 [==============================] - 0s 4ms/step - loss: 0.0301\n",
            "Epoch 169/200\n",
            "6/6 [==============================] - 0s 4ms/step - loss: 0.0299\n",
            "Epoch 170/200\n",
            "6/6 [==============================] - 0s 4ms/step - loss: 0.0299\n",
            "Epoch 171/200\n",
            "6/6 [==============================] - 0s 4ms/step - loss: 0.0293\n",
            "Epoch 172/200\n",
            "6/6 [==============================] - 0s 4ms/step - loss: 0.0297\n",
            "Epoch 173/200\n",
            "6/6 [==============================] - 0s 4ms/step - loss: 0.0303\n",
            "Epoch 174/200\n",
            "6/6 [==============================] - 0s 4ms/step - loss: 0.0301\n",
            "Epoch 175/200\n",
            "6/6 [==============================] - 0s 5ms/step - loss: 0.0300\n",
            "Epoch 176/200\n",
            "6/6 [==============================] - 0s 4ms/step - loss: 0.0302\n",
            "Epoch 177/200\n",
            "6/6 [==============================] - 0s 3ms/step - loss: 0.0304\n",
            "Epoch 178/200\n",
            "6/6 [==============================] - 0s 4ms/step - loss: 0.0301\n",
            "Epoch 179/200\n",
            "6/6 [==============================] - 0s 4ms/step - loss: 0.0301\n",
            "Epoch 180/200\n",
            "6/6 [==============================] - 0s 4ms/step - loss: 0.0303\n",
            "Epoch 181/200\n",
            "6/6 [==============================] - 0s 4ms/step - loss: 0.0303\n",
            "Epoch 182/200\n",
            "6/6 [==============================] - 0s 4ms/step - loss: 0.0299\n",
            "Epoch 183/200\n",
            "6/6 [==============================] - 0s 3ms/step - loss: 0.0300\n",
            "Epoch 184/200\n",
            "6/6 [==============================] - 0s 4ms/step - loss: 0.0302\n",
            "Epoch 185/200\n",
            "6/6 [==============================] - 0s 4ms/step - loss: 0.0300\n",
            "Epoch 186/200\n",
            "6/6 [==============================] - 0s 3ms/step - loss: 0.0301\n",
            "Epoch 187/200\n",
            "6/6 [==============================] - 0s 4ms/step - loss: 0.0298\n",
            "Epoch 188/200\n",
            "6/6 [==============================] - 0s 3ms/step - loss: 0.0301\n",
            "Epoch 189/200\n",
            "6/6 [==============================] - 0s 4ms/step - loss: 0.0301\n",
            "Epoch 190/200\n",
            "6/6 [==============================] - 0s 3ms/step - loss: 0.0302\n",
            "Epoch 191/200\n",
            "6/6 [==============================] - 0s 4ms/step - loss: 0.0304\n",
            "Epoch 192/200\n",
            "6/6 [==============================] - 0s 4ms/step - loss: 0.0299\n",
            "Epoch 193/200\n",
            "6/6 [==============================] - 0s 3ms/step - loss: 0.0298\n",
            "Epoch 194/200\n",
            "6/6 [==============================] - 0s 3ms/step - loss: 0.0299\n",
            "Epoch 195/200\n",
            "6/6 [==============================] - 0s 4ms/step - loss: 0.0302\n",
            "Epoch 196/200\n",
            "6/6 [==============================] - 0s 3ms/step - loss: 0.0302\n",
            "Epoch 197/200\n",
            "6/6 [==============================] - 0s 4ms/step - loss: 0.0300\n",
            "Epoch 198/200\n",
            "6/6 [==============================] - 0s 4ms/step - loss: 0.0310\n",
            "Epoch 199/200\n",
            "6/6 [==============================] - 0s 4ms/step - loss: 0.0302\n",
            "Epoch 200/200\n",
            "6/6 [==============================] - 0s 4ms/step - loss: 0.0302\n"
          ]
        },
        {
          "output_type": "execute_result",
          "data": {
            "text/plain": [
              "<keras.callbacks.History at 0x7fcefab76dd0>"
            ]
          },
          "metadata": {},
          "execution_count": 64
        }
      ]
    },
    {
      "cell_type": "code",
      "source": [
        "mae = model.evaluate(X_train, y_train)"
      ],
      "metadata": {
        "colab": {
          "base_uri": "https://localhost:8080/"
        },
        "id": "dG7tgFORYCyG",
        "outputId": "c5dc7fc2-c4f0-49b4-c464-9eca73c4777e"
      },
      "execution_count": null,
      "outputs": [
        {
          "output_type": "stream",
          "name": "stdout",
          "text": [
            "6/6 [==============================] - 0s 3ms/step - loss: 0.0300\n"
          ]
        }
      ]
    },
    {
      "cell_type": "code",
      "source": [
        "mae = model.evaluate(X_test, y_test)"
      ],
      "metadata": {
        "id": "22jm9ctLr09h",
        "colab": {
          "base_uri": "https://localhost:8080/"
        },
        "outputId": "651da4b0-bf15-48dc-d39b-0696b8c51408"
      },
      "execution_count": null,
      "outputs": [
        {
          "output_type": "stream",
          "name": "stdout",
          "text": [
            "2/2 [==============================] - 0s 4ms/step - loss: 0.0333\n"
          ]
        }
      ]
    },
    {
      "cell_type": "markdown",
      "source": [
        "=========================== ANN without Sentiment ==========================="
      ],
      "metadata": {
        "id": "kKvaRHsIBAZG"
      }
    },
    {
      "cell_type": "code",
      "source": [
        "X_1 = data_sentiment_features_scaled.drop(columns=['1DayChange', 'SentimentsPos', 'SentimentsNeutral', 'SentimentsNeg']) # , 'SentimentsPos', 'SentimentsNeutral', 'SentimentsNeg', 'Positive', 'Negative'\n",
        "X_1_train, X_1_test = train_test_split(X_1, test_size=0.20)"
      ],
      "metadata": {
        "id": "jvf1sTyZr1CJ"
      },
      "execution_count": null,
      "outputs": []
    },
    {
      "cell_type": "code",
      "source": [
        "X_1_train.shape"
      ],
      "metadata": {
        "colab": {
          "base_uri": "https://localhost:8080/"
        },
        "id": "yGKPawPPBkee",
        "outputId": "cd2a682a-5e7c-4472-e94a-00446265da47"
      },
      "execution_count": null,
      "outputs": [
        {
          "output_type": "execute_result",
          "data": {
            "text/plain": [
              "(163, 30)"
            ]
          },
          "metadata": {},
          "execution_count": 68
        }
      ]
    },
    {
      "cell_type": "code",
      "source": [
        "# Combination of l2 and l1_l2\n",
        "model1 = Sequential()\n",
        "model1.add(Dense(32, activation='relu', input_shape=(30,)))\n",
        "                # , kernel_regularizer=regularizers.l2(1e-3), bias_regularizer=regularizers.l1_l2(l1 = 1e-3, l2 = 1e-3)))\n",
        "\n",
        "model1.add(Dropout(0.5))\n",
        "\n",
        "model1.add(Dense(32, activation='relu'))\n",
        "\n",
        "model1.add(Dropout(0.5))\n",
        "\n",
        "model1.add(Dense(16, activation='relu'))\n",
        "\n",
        "model1.add(Dense(1,))\n",
        "model1.compile(loss='mae', optimizer=Adam(learning_rate=0.001))\n",
        "\n",
        "model1.fit(X_1_train, y_train, epochs=200, verbose=1)"
      ],
      "metadata": {
        "id": "jrMQXIxCBkcL",
        "colab": {
          "base_uri": "https://localhost:8080/"
        },
        "outputId": "d6af9225-ec61-4725-a2d1-5bcf1aa1f6da"
      },
      "execution_count": null,
      "outputs": [
        {
          "output_type": "stream",
          "name": "stdout",
          "text": [
            "Epoch 1/200\n",
            "6/6 [==============================] - 1s 3ms/step - loss: 0.0395\n",
            "Epoch 2/200\n",
            "6/6 [==============================] - 0s 3ms/step - loss: 0.0340\n",
            "Epoch 3/200\n",
            "6/6 [==============================] - 0s 3ms/step - loss: 0.0330\n",
            "Epoch 4/200\n",
            "6/6 [==============================] - 0s 4ms/step - loss: 0.0312\n",
            "Epoch 5/200\n",
            "6/6 [==============================] - 0s 3ms/step - loss: 0.0319\n",
            "Epoch 6/200\n",
            "6/6 [==============================] - 0s 4ms/step - loss: 0.0320\n",
            "Epoch 7/200\n",
            "6/6 [==============================] - 0s 3ms/step - loss: 0.0311\n",
            "Epoch 8/200\n",
            "6/6 [==============================] - 0s 4ms/step - loss: 0.0304\n",
            "Epoch 9/200\n",
            "6/6 [==============================] - 0s 4ms/step - loss: 0.0314\n",
            "Epoch 10/200\n",
            "6/6 [==============================] - 0s 3ms/step - loss: 0.0306\n",
            "Epoch 11/200\n",
            "6/6 [==============================] - 0s 4ms/step - loss: 0.0312\n",
            "Epoch 12/200\n",
            "6/6 [==============================] - 0s 4ms/step - loss: 0.0301\n",
            "Epoch 13/200\n",
            "6/6 [==============================] - 0s 3ms/step - loss: 0.0306\n",
            "Epoch 14/200\n",
            "6/6 [==============================] - 0s 3ms/step - loss: 0.0312\n",
            "Epoch 15/200\n",
            "6/6 [==============================] - 0s 3ms/step - loss: 0.0312\n",
            "Epoch 16/200\n",
            "6/6 [==============================] - 0s 4ms/step - loss: 0.0307\n",
            "Epoch 17/200\n",
            "6/6 [==============================] - 0s 4ms/step - loss: 0.0309\n",
            "Epoch 18/200\n",
            "6/6 [==============================] - 0s 5ms/step - loss: 0.0300\n",
            "Epoch 19/200\n",
            "6/6 [==============================] - 0s 4ms/step - loss: 0.0302\n",
            "Epoch 20/200\n",
            "6/6 [==============================] - 0s 3ms/step - loss: 0.0306\n",
            "Epoch 21/200\n",
            "6/6 [==============================] - 0s 4ms/step - loss: 0.0303\n",
            "Epoch 22/200\n",
            "6/6 [==============================] - 0s 5ms/step - loss: 0.0302\n",
            "Epoch 23/200\n",
            "6/6 [==============================] - 0s 3ms/step - loss: 0.0299\n",
            "Epoch 24/200\n",
            "6/6 [==============================] - 0s 3ms/step - loss: 0.0308\n",
            "Epoch 25/200\n",
            "6/6 [==============================] - 0s 4ms/step - loss: 0.0303\n",
            "Epoch 26/200\n",
            "6/6 [==============================] - 0s 3ms/step - loss: 0.0302\n",
            "Epoch 27/200\n",
            "6/6 [==============================] - 0s 4ms/step - loss: 0.0300\n",
            "Epoch 28/200\n",
            "6/6 [==============================] - 0s 3ms/step - loss: 0.0299\n",
            "Epoch 29/200\n",
            "6/6 [==============================] - 0s 3ms/step - loss: 0.0300\n",
            "Epoch 30/200\n",
            "6/6 [==============================] - 0s 4ms/step - loss: 0.0304\n",
            "Epoch 31/200\n",
            "6/6 [==============================] - 0s 4ms/step - loss: 0.0302\n",
            "Epoch 32/200\n",
            "6/6 [==============================] - 0s 3ms/step - loss: 0.0303\n",
            "Epoch 33/200\n",
            "6/6 [==============================] - 0s 4ms/step - loss: 0.0304\n",
            "Epoch 34/200\n",
            "6/6 [==============================] - 0s 3ms/step - loss: 0.0308\n",
            "Epoch 35/200\n",
            "6/6 [==============================] - 0s 4ms/step - loss: 0.0303\n",
            "Epoch 36/200\n",
            "6/6 [==============================] - 0s 4ms/step - loss: 0.0300\n",
            "Epoch 37/200\n",
            "6/6 [==============================] - 0s 4ms/step - loss: 0.0300\n",
            "Epoch 38/200\n",
            "6/6 [==============================] - 0s 3ms/step - loss: 0.0302\n",
            "Epoch 39/200\n",
            "6/6 [==============================] - 0s 3ms/step - loss: 0.0301\n",
            "Epoch 40/200\n",
            "6/6 [==============================] - 0s 4ms/step - loss: 0.0301\n",
            "Epoch 41/200\n",
            "6/6 [==============================] - 0s 3ms/step - loss: 0.0299\n",
            "Epoch 42/200\n",
            "6/6 [==============================] - 0s 3ms/step - loss: 0.0302\n",
            "Epoch 43/200\n",
            "6/6 [==============================] - 0s 4ms/step - loss: 0.0300\n",
            "Epoch 44/200\n",
            "6/6 [==============================] - 0s 5ms/step - loss: 0.0303\n",
            "Epoch 45/200\n",
            "6/6 [==============================] - 0s 4ms/step - loss: 0.0300\n",
            "Epoch 46/200\n",
            "6/6 [==============================] - 0s 4ms/step - loss: 0.0299\n",
            "Epoch 47/200\n",
            "6/6 [==============================] - 0s 3ms/step - loss: 0.0299\n",
            "Epoch 48/200\n",
            "6/6 [==============================] - 0s 4ms/step - loss: 0.0299\n",
            "Epoch 49/200\n",
            "6/6 [==============================] - 0s 4ms/step - loss: 0.0299\n",
            "Epoch 50/200\n",
            "6/6 [==============================] - 0s 4ms/step - loss: 0.0299\n",
            "Epoch 51/200\n",
            "6/6 [==============================] - 0s 4ms/step - loss: 0.0301\n",
            "Epoch 52/200\n",
            "6/6 [==============================] - 0s 3ms/step - loss: 0.0299\n",
            "Epoch 53/200\n",
            "6/6 [==============================] - 0s 5ms/step - loss: 0.0300\n",
            "Epoch 54/200\n",
            "6/6 [==============================] - 0s 4ms/step - loss: 0.0313\n",
            "Epoch 55/200\n",
            "6/6 [==============================] - 0s 4ms/step - loss: 0.0303\n",
            "Epoch 56/200\n",
            "6/6 [==============================] - 0s 5ms/step - loss: 0.0302\n",
            "Epoch 57/200\n",
            "6/6 [==============================] - 0s 3ms/step - loss: 0.0302\n",
            "Epoch 58/200\n",
            "6/6 [==============================] - 0s 4ms/step - loss: 0.0301\n",
            "Epoch 59/200\n",
            "6/6 [==============================] - 0s 4ms/step - loss: 0.0299\n",
            "Epoch 60/200\n",
            "6/6 [==============================] - 0s 3ms/step - loss: 0.0300\n",
            "Epoch 61/200\n",
            "6/6 [==============================] - 0s 3ms/step - loss: 0.0299\n",
            "Epoch 62/200\n",
            "6/6 [==============================] - 0s 4ms/step - loss: 0.0297\n",
            "Epoch 63/200\n",
            "6/6 [==============================] - 0s 3ms/step - loss: 0.0298\n",
            "Epoch 64/200\n",
            "6/6 [==============================] - 0s 4ms/step - loss: 0.0298\n",
            "Epoch 65/200\n",
            "6/6 [==============================] - 0s 4ms/step - loss: 0.0302\n",
            "Epoch 66/200\n",
            "6/6 [==============================] - 0s 3ms/step - loss: 0.0298\n",
            "Epoch 67/200\n",
            "6/6 [==============================] - 0s 4ms/step - loss: 0.0298\n",
            "Epoch 68/200\n",
            "6/6 [==============================] - 0s 3ms/step - loss: 0.0297\n",
            "Epoch 69/200\n",
            "6/6 [==============================] - 0s 4ms/step - loss: 0.0301\n",
            "Epoch 70/200\n",
            "6/6 [==============================] - 0s 3ms/step - loss: 0.0300\n",
            "Epoch 71/200\n",
            "6/6 [==============================] - 0s 3ms/step - loss: 0.0300\n",
            "Epoch 72/200\n",
            "6/6 [==============================] - 0s 3ms/step - loss: 0.0300\n",
            "Epoch 73/200\n",
            "6/6 [==============================] - 0s 4ms/step - loss: 0.0298\n",
            "Epoch 74/200\n",
            "6/6 [==============================] - 0s 4ms/step - loss: 0.0301\n",
            "Epoch 75/200\n",
            "6/6 [==============================] - 0s 3ms/step - loss: 0.0297\n",
            "Epoch 76/200\n",
            "6/6 [==============================] - 0s 3ms/step - loss: 0.0300\n",
            "Epoch 77/200\n",
            "6/6 [==============================] - 0s 3ms/step - loss: 0.0298\n",
            "Epoch 78/200\n",
            "6/6 [==============================] - 0s 4ms/step - loss: 0.0296\n",
            "Epoch 79/200\n",
            "6/6 [==============================] - 0s 3ms/step - loss: 0.0298\n",
            "Epoch 80/200\n",
            "6/6 [==============================] - 0s 3ms/step - loss: 0.0299\n",
            "Epoch 81/200\n",
            "6/6 [==============================] - 0s 3ms/step - loss: 0.0301\n",
            "Epoch 82/200\n",
            "6/6 [==============================] - 0s 3ms/step - loss: 0.0299\n",
            "Epoch 83/200\n",
            "6/6 [==============================] - 0s 4ms/step - loss: 0.0298\n",
            "Epoch 84/200\n",
            "6/6 [==============================] - 0s 3ms/step - loss: 0.0300\n",
            "Epoch 85/200\n",
            "6/6 [==============================] - 0s 3ms/step - loss: 0.0299\n",
            "Epoch 86/200\n",
            "6/6 [==============================] - 0s 4ms/step - loss: 0.0300\n",
            "Epoch 87/200\n",
            "6/6 [==============================] - 0s 3ms/step - loss: 0.0299\n",
            "Epoch 88/200\n",
            "6/6 [==============================] - 0s 4ms/step - loss: 0.0299\n",
            "Epoch 89/200\n",
            "6/6 [==============================] - 0s 4ms/step - loss: 0.0297\n",
            "Epoch 90/200\n",
            "6/6 [==============================] - 0s 4ms/step - loss: 0.0297\n",
            "Epoch 91/200\n",
            "6/6 [==============================] - 0s 6ms/step - loss: 0.0299\n",
            "Epoch 92/200\n",
            "6/6 [==============================] - 0s 5ms/step - loss: 0.0298\n",
            "Epoch 93/200\n",
            "6/6 [==============================] - 0s 3ms/step - loss: 0.0301\n",
            "Epoch 94/200\n",
            "6/6 [==============================] - 0s 4ms/step - loss: 0.0298\n",
            "Epoch 95/200\n",
            "6/6 [==============================] - 0s 3ms/step - loss: 0.0299\n",
            "Epoch 96/200\n",
            "6/6 [==============================] - 0s 4ms/step - loss: 0.0299\n",
            "Epoch 97/200\n",
            "6/6 [==============================] - 0s 3ms/step - loss: 0.0299\n",
            "Epoch 98/200\n",
            "6/6 [==============================] - 0s 3ms/step - loss: 0.0297\n",
            "Epoch 99/200\n",
            "6/6 [==============================] - 0s 3ms/step - loss: 0.0298\n",
            "Epoch 100/200\n",
            "6/6 [==============================] - 0s 5ms/step - loss: 0.0298\n",
            "Epoch 101/200\n",
            "6/6 [==============================] - 0s 3ms/step - loss: 0.0299\n",
            "Epoch 102/200\n",
            "6/6 [==============================] - 0s 3ms/step - loss: 0.0299\n",
            "Epoch 103/200\n",
            "6/6 [==============================] - 0s 3ms/step - loss: 0.0299\n",
            "Epoch 104/200\n",
            "6/6 [==============================] - 0s 4ms/step - loss: 0.0299\n",
            "Epoch 105/200\n",
            "6/6 [==============================] - 0s 3ms/step - loss: 0.0298\n",
            "Epoch 106/200\n",
            "6/6 [==============================] - 0s 3ms/step - loss: 0.0299\n",
            "Epoch 107/200\n",
            "6/6 [==============================] - 0s 3ms/step - loss: 0.0299\n",
            "Epoch 108/200\n",
            "6/6 [==============================] - 0s 3ms/step - loss: 0.0300\n",
            "Epoch 109/200\n",
            "6/6 [==============================] - 0s 4ms/step - loss: 0.0299\n",
            "Epoch 110/200\n",
            "6/6 [==============================] - 0s 3ms/step - loss: 0.0299\n",
            "Epoch 111/200\n",
            "6/6 [==============================] - 0s 4ms/step - loss: 0.0300\n",
            "Epoch 112/200\n",
            "6/6 [==============================] - 0s 3ms/step - loss: 0.0299\n",
            "Epoch 113/200\n",
            "6/6 [==============================] - 0s 4ms/step - loss: 0.0299\n",
            "Epoch 114/200\n",
            "6/6 [==============================] - 0s 4ms/step - loss: 0.0301\n",
            "Epoch 115/200\n",
            "6/6 [==============================] - 0s 3ms/step - loss: 0.0300\n",
            "Epoch 116/200\n",
            "6/6 [==============================] - 0s 4ms/step - loss: 0.0299\n",
            "Epoch 117/200\n",
            "6/6 [==============================] - 0s 4ms/step - loss: 0.0299\n",
            "Epoch 118/200\n",
            "6/6 [==============================] - 0s 4ms/step - loss: 0.0299\n",
            "Epoch 119/200\n",
            "6/6 [==============================] - 0s 4ms/step - loss: 0.0298\n",
            "Epoch 120/200\n",
            "6/6 [==============================] - 0s 4ms/step - loss: 0.0299\n",
            "Epoch 121/200\n",
            "6/6 [==============================] - 0s 4ms/step - loss: 0.0300\n",
            "Epoch 122/200\n",
            "6/6 [==============================] - 0s 4ms/step - loss: 0.0299\n",
            "Epoch 123/200\n",
            "6/6 [==============================] - 0s 4ms/step - loss: 0.0299\n",
            "Epoch 124/200\n",
            "6/6 [==============================] - 0s 3ms/step - loss: 0.0299\n",
            "Epoch 125/200\n",
            "6/6 [==============================] - 0s 5ms/step - loss: 0.0299\n",
            "Epoch 126/200\n",
            "6/6 [==============================] - 0s 3ms/step - loss: 0.0298\n",
            "Epoch 127/200\n",
            "6/6 [==============================] - 0s 4ms/step - loss: 0.0299\n",
            "Epoch 128/200\n",
            "6/6 [==============================] - 0s 3ms/step - loss: 0.0300\n",
            "Epoch 129/200\n",
            "6/6 [==============================] - 0s 4ms/step - loss: 0.0299\n",
            "Epoch 130/200\n",
            "6/6 [==============================] - 0s 3ms/step - loss: 0.0299\n",
            "Epoch 131/200\n",
            "6/6 [==============================] - 0s 4ms/step - loss: 0.0298\n",
            "Epoch 132/200\n",
            "6/6 [==============================] - 0s 3ms/step - loss: 0.0299\n",
            "Epoch 133/200\n",
            "6/6 [==============================] - 0s 3ms/step - loss: 0.0299\n",
            "Epoch 134/200\n",
            "6/6 [==============================] - 0s 3ms/step - loss: 0.0301\n",
            "Epoch 135/200\n",
            "6/6 [==============================] - 0s 4ms/step - loss: 0.0300\n",
            "Epoch 136/200\n",
            "6/6 [==============================] - 0s 4ms/step - loss: 0.0300\n",
            "Epoch 137/200\n",
            "6/6 [==============================] - 0s 4ms/step - loss: 0.0298\n",
            "Epoch 138/200\n",
            "6/6 [==============================] - 0s 4ms/step - loss: 0.0299\n",
            "Epoch 139/200\n",
            "6/6 [==============================] - 0s 4ms/step - loss: 0.0299\n",
            "Epoch 140/200\n",
            "6/6 [==============================] - 0s 3ms/step - loss: 0.0299\n",
            "Epoch 141/200\n",
            "6/6 [==============================] - 0s 3ms/step - loss: 0.0299\n",
            "Epoch 142/200\n",
            "6/6 [==============================] - 0s 4ms/step - loss: 0.0299\n",
            "Epoch 143/200\n",
            "6/6 [==============================] - 0s 4ms/step - loss: 0.0298\n",
            "Epoch 144/200\n",
            "6/6 [==============================] - 0s 3ms/step - loss: 0.0299\n",
            "Epoch 145/200\n",
            "6/6 [==============================] - 0s 4ms/step - loss: 0.0299\n",
            "Epoch 146/200\n",
            "6/6 [==============================] - 0s 4ms/step - loss: 0.0300\n",
            "Epoch 147/200\n",
            "6/6 [==============================] - 0s 5ms/step - loss: 0.0297\n",
            "Epoch 148/200\n",
            "6/6 [==============================] - 0s 3ms/step - loss: 0.0300\n",
            "Epoch 149/200\n",
            "6/6 [==============================] - 0s 3ms/step - loss: 0.0297\n",
            "Epoch 150/200\n",
            "6/6 [==============================] - 0s 3ms/step - loss: 0.0298\n",
            "Epoch 151/200\n",
            "6/6 [==============================] - 0s 4ms/step - loss: 0.0299\n",
            "Epoch 152/200\n",
            "6/6 [==============================] - 0s 4ms/step - loss: 0.0298\n",
            "Epoch 153/200\n",
            "6/6 [==============================] - 0s 4ms/step - loss: 0.0298\n",
            "Epoch 154/200\n",
            "6/6 [==============================] - 0s 4ms/step - loss: 0.0299\n",
            "Epoch 155/200\n",
            "6/6 [==============================] - 0s 4ms/step - loss: 0.0300\n",
            "Epoch 156/200\n",
            "6/6 [==============================] - 0s 3ms/step - loss: 0.0299\n",
            "Epoch 157/200\n",
            "6/6 [==============================] - 0s 4ms/step - loss: 0.0300\n",
            "Epoch 158/200\n",
            "6/6 [==============================] - 0s 4ms/step - loss: 0.0300\n",
            "Epoch 159/200\n",
            "6/6 [==============================] - 0s 4ms/step - loss: 0.0300\n",
            "Epoch 160/200\n",
            "6/6 [==============================] - 0s 4ms/step - loss: 0.0300\n",
            "Epoch 161/200\n",
            "6/6 [==============================] - 0s 4ms/step - loss: 0.0299\n",
            "Epoch 162/200\n",
            "6/6 [==============================] - 0s 4ms/step - loss: 0.0298\n",
            "Epoch 163/200\n",
            "6/6 [==============================] - 0s 4ms/step - loss: 0.0300\n",
            "Epoch 164/200\n",
            "6/6 [==============================] - 0s 4ms/step - loss: 0.0298\n",
            "Epoch 165/200\n",
            "6/6 [==============================] - 0s 4ms/step - loss: 0.0298\n",
            "Epoch 166/200\n",
            "6/6 [==============================] - 0s 3ms/step - loss: 0.0299\n",
            "Epoch 167/200\n",
            "6/6 [==============================] - 0s 4ms/step - loss: 0.0298\n",
            "Epoch 168/200\n",
            "6/6 [==============================] - 0s 3ms/step - loss: 0.0299\n",
            "Epoch 169/200\n",
            "6/6 [==============================] - 0s 3ms/step - loss: 0.0299\n",
            "Epoch 170/200\n",
            "6/6 [==============================] - 0s 3ms/step - loss: 0.0301\n",
            "Epoch 171/200\n",
            "6/6 [==============================] - 0s 6ms/step - loss: 0.0299\n",
            "Epoch 172/200\n",
            "6/6 [==============================] - 0s 4ms/step - loss: 0.0298\n",
            "Epoch 173/200\n",
            "6/6 [==============================] - 0s 4ms/step - loss: 0.0299\n",
            "Epoch 174/200\n",
            "6/6 [==============================] - 0s 3ms/step - loss: 0.0298\n",
            "Epoch 175/200\n",
            "6/6 [==============================] - 0s 3ms/step - loss: 0.0298\n",
            "Epoch 176/200\n",
            "6/6 [==============================] - 0s 3ms/step - loss: 0.0300\n",
            "Epoch 177/200\n",
            "6/6 [==============================] - 0s 4ms/step - loss: 0.0299\n",
            "Epoch 178/200\n",
            "6/6 [==============================] - 0s 4ms/step - loss: 0.0299\n",
            "Epoch 179/200\n",
            "6/6 [==============================] - 0s 3ms/step - loss: 0.0298\n",
            "Epoch 180/200\n",
            "6/6 [==============================] - 0s 3ms/step - loss: 0.0299\n",
            "Epoch 181/200\n",
            "6/6 [==============================] - 0s 4ms/step - loss: 0.0300\n",
            "Epoch 182/200\n",
            "6/6 [==============================] - 0s 4ms/step - loss: 0.0298\n",
            "Epoch 183/200\n",
            "6/6 [==============================] - 0s 4ms/step - loss: 0.0298\n",
            "Epoch 184/200\n",
            "6/6 [==============================] - 0s 3ms/step - loss: 0.0299\n",
            "Epoch 185/200\n",
            "6/6 [==============================] - 0s 4ms/step - loss: 0.0299\n",
            "Epoch 186/200\n",
            "6/6 [==============================] - 0s 4ms/step - loss: 0.0299\n",
            "Epoch 187/200\n",
            "6/6 [==============================] - 0s 3ms/step - loss: 0.0299\n",
            "Epoch 188/200\n",
            "6/6 [==============================] - 0s 4ms/step - loss: 0.0300\n",
            "Epoch 189/200\n",
            "6/6 [==============================] - 0s 4ms/step - loss: 0.0300\n",
            "Epoch 190/200\n",
            "6/6 [==============================] - 0s 4ms/step - loss: 0.0298\n",
            "Epoch 191/200\n",
            "6/6 [==============================] - 0s 3ms/step - loss: 0.0298\n",
            "Epoch 192/200\n",
            "6/6 [==============================] - 0s 3ms/step - loss: 0.0299\n",
            "Epoch 193/200\n",
            "6/6 [==============================] - 0s 3ms/step - loss: 0.0300\n",
            "Epoch 194/200\n",
            "6/6 [==============================] - 0s 5ms/step - loss: 0.0302\n",
            "Epoch 195/200\n",
            "6/6 [==============================] - 0s 4ms/step - loss: 0.0302\n",
            "Epoch 196/200\n",
            "6/6 [==============================] - 0s 3ms/step - loss: 0.0300\n",
            "Epoch 197/200\n",
            "6/6 [==============================] - 0s 4ms/step - loss: 0.0298\n",
            "Epoch 198/200\n",
            "6/6 [==============================] - 0s 3ms/step - loss: 0.0298\n",
            "Epoch 199/200\n",
            "6/6 [==============================] - 0s 4ms/step - loss: 0.0299\n",
            "Epoch 200/200\n",
            "6/6 [==============================] - 0s 4ms/step - loss: 0.0299\n"
          ]
        },
        {
          "output_type": "execute_result",
          "data": {
            "text/plain": [
              "<keras.callbacks.History at 0x7fcf004f4250>"
            ]
          },
          "metadata": {},
          "execution_count": 69
        }
      ]
    },
    {
      "cell_type": "code",
      "source": [
        "mae = model1.evaluate(X_1_train, y_train)"
      ],
      "metadata": {
        "colab": {
          "base_uri": "https://localhost:8080/"
        },
        "id": "qPBUmxp2YD45",
        "outputId": "9fb17657-6818-4207-88b7-7da942940a10"
      },
      "execution_count": null,
      "outputs": [
        {
          "output_type": "stream",
          "name": "stdout",
          "text": [
            "6/6 [==============================] - 0s 2ms/step - loss: 0.0299\n"
          ]
        }
      ]
    },
    {
      "cell_type": "code",
      "source": [
        "mae = model1.evaluate(X_1_test, y_test)"
      ],
      "metadata": {
        "colab": {
          "base_uri": "https://localhost:8080/"
        },
        "id": "ZqQkuvxmBkZj",
        "outputId": "0d5ca497-492b-43f8-922c-e23c44933feb"
      },
      "execution_count": null,
      "outputs": [
        {
          "output_type": "stream",
          "name": "stdout",
          "text": [
            "2/2 [==============================] - 0s 8ms/step - loss: 0.0336\n"
          ]
        }
      ]
    },
    {
      "cell_type": "markdown",
      "source": [
        "=========================== Compared to the mean error ==========================="
      ],
      "metadata": {
        "id": "a5re8S7iBOYL"
      }
    },
    {
      "cell_type": "code",
      "source": [
        "mean = np.mean(y_test)\n",
        "mean"
      ],
      "metadata": {
        "colab": {
          "base_uri": "https://localhost:8080/"
        },
        "id": "5wt5ENBCBNQI",
        "outputId": "766fe034-0552-4758-bbc1-68419c52da3f"
      },
      "execution_count": null,
      "outputs": [
        {
          "output_type": "execute_result",
          "data": {
            "text/plain": [
              "0.004774766367698131"
            ]
          },
          "metadata": {},
          "execution_count": 43
        }
      ]
    },
    {
      "cell_type": "code",
      "source": [
        "y_mean_df = pd.DataFrame(index=range(y_test.shape[0]),columns=range(1))\n",
        "y_mean_df[0] = mean"
      ],
      "metadata": {
        "id": "lbx0td8jBNSb"
      },
      "execution_count": null,
      "outputs": []
    },
    {
      "cell_type": "code",
      "source": [
        "y_mean_df.shape"
      ],
      "metadata": {
        "colab": {
          "base_uri": "https://localhost:8080/"
        },
        "id": "ZcWWrcyYD4f-",
        "outputId": "3f8460e6-2ea8-4e0c-db70-c3eda8520ec3"
      },
      "execution_count": null,
      "outputs": [
        {
          "output_type": "execute_result",
          "data": {
            "text/plain": [
              "(41, 1)"
            ]
          },
          "metadata": {},
          "execution_count": 45
        }
      ]
    },
    {
      "cell_type": "code",
      "source": [
        "y_test.shape"
      ],
      "metadata": {
        "colab": {
          "base_uri": "https://localhost:8080/"
        },
        "id": "rqiKQi83EOHe",
        "outputId": "7363049e-471d-4913-99e6-a312c9ed51f6"
      },
      "execution_count": null,
      "outputs": [
        {
          "output_type": "execute_result",
          "data": {
            "text/plain": [
              "(41,)"
            ]
          },
          "metadata": {},
          "execution_count": 46
        }
      ]
    },
    {
      "cell_type": "code",
      "source": [
        "mean_absolute_error(y_test, y_mean_df)"
      ],
      "metadata": {
        "colab": {
          "base_uri": "https://localhost:8080/"
        },
        "id": "y6Bbc5MEBNU5",
        "outputId": "d4a5c863-be2c-491c-ed88-19496ff4d9bf"
      },
      "execution_count": null,
      "outputs": [
        {
          "output_type": "execute_result",
          "data": {
            "text/plain": [
              "0.03369115859464349"
            ]
          },
          "metadata": {},
          "execution_count": 47
        }
      ]
    },
    {
      "cell_type": "markdown",
      "source": [
        "=========================== Tokenizer in details and showcase ==========================="
      ],
      "metadata": {
        "id": "J2Sg6mikMsS6"
      }
    },
    {
      "cell_type": "code",
      "source": [
        "# Showcase of the tokenizer\n",
        "tokens = tokenizer.tokenize(sample_txt)\n",
        "token_ids = tokenizer.convert_tokens_to_ids(tokens)\n",
        "print(f' Sentence: {sample_txt}')\n",
        "print(f'   Tokens: {tokens}')\n",
        "print(f'Token IDs: {token_ids}')"
      ],
      "metadata": {
        "id": "nojSijbKuu-g",
        "colab": {
          "base_uri": "https://localhost:8080/"
        },
        "outputId": "cbd2dc75-7adf-41d4-b3ee-b75c5a35d626"
      },
      "execution_count": null,
      "outputs": [
        {
          "output_type": "stream",
          "name": "stdout",
          "text": [
            " Sentence: Guest spending at our domestic parks has been exceptionally strong,               with average spending up significantly versus fiscal 2019.\n",
            "   Tokens: ['guest', 'spending', 'at', 'our', 'domestic', 'parks', 'has', 'been', 'exceptionally', 'strong', ',', 'with', 'average', 'spending', 'up', 'significantly', 'versus', 'fiscal', '2019', '.']\n",
            "Token IDs: [4113, 5938, 2012, 2256, 4968, 6328, 2038, 2042, 17077, 2844, 1010, 2007, 2779, 5938, 2039, 6022, 6431, 10807, 10476, 1012]\n"
          ]
        }
      ]
    },
    {
      "cell_type": "markdown",
      "source": [
        "**[SEP] - marker for ending of a sentence \\\n",
        "[CLS] - add this token to the start of each sentence, so BERT knows we’re doing classification \\\n",
        "[PAD] - special token for padding \\\n",
        "[UNK] - Everything else can be encoded using the [UNK] (unknown) token**"
      ],
      "metadata": {
        "id": "GJZbI7fmxiXE"
      }
    },
    {
      "cell_type": "code",
      "source": [
        "# What the tokenizer does and the encoding\n",
        "encoding = tokenizer.encode_plus(\n",
        "  sample_txt,\n",
        "  max_length=32,\n",
        "  add_special_tokens=True, # Add '[CLS]' and '[SEP]'\n",
        "  return_token_type_ids=False,\n",
        "  pad_to_max_length=True,\n",
        "  return_attention_mask=True,\n",
        "  return_tensors='pt',  # Return PyTorch tensors\n",
        ")"
      ],
      "metadata": {
        "id": "kWoZFNRivNcw",
        "colab": {
          "base_uri": "https://localhost:8080/"
        },
        "outputId": "03440915-7b0b-47b9-dd13-565670da368d"
      },
      "execution_count": null,
      "outputs": [
        {
          "output_type": "stream",
          "name": "stderr",
          "text": [
            "Truncation was not explicitly activated but `max_length` is provided a specific value, please use `truncation=True` to explicitly truncate examples to max length. Defaulting to 'longest_first' truncation strategy. If you encode pairs of sequences (GLUE-style) with the tokenizer you can select this strategy more precisely by providing a specific strategy to `truncation`.\n",
            "/usr/local/lib/python3.7/dist-packages/transformers/tokenization_utils_base.py:2269: FutureWarning: The `pad_to_max_length` argument is deprecated and will be removed in a future version, use `padding=True` or `padding='longest'` to pad to the longest sequence in the batch, or use `padding='max_length'` to pad to a max length. In this case, you can give a specific length with `max_length` (e.g. `max_length=45`) or leave max_length to None to pad to the maximal input size of the model (e.g. 512 for Bert).\n",
            "  FutureWarning,\n"
          ]
        }
      ]
    },
    {
      "cell_type": "code",
      "source": [
        "# Input IDs of encoding\n",
        "print(len(encoding['input_ids'][0]))\n",
        "encoding['input_ids'][0]"
      ],
      "metadata": {
        "id": "_VJxEyj_we3h",
        "colab": {
          "base_uri": "https://localhost:8080/"
        },
        "outputId": "a21ed7f8-d1e6-4f9b-d26e-856700f9e055"
      },
      "execution_count": null,
      "outputs": [
        {
          "output_type": "stream",
          "name": "stdout",
          "text": [
            "32\n"
          ]
        },
        {
          "output_type": "execute_result",
          "data": {
            "text/plain": [
              "tensor([  101,  4113,  5938,  2012,  2256,  4968,  6328,  2038,  2042, 17077,\n",
              "         2844,  1010,  2007,  2779,  5938,  2039,  6022,  6431, 10807, 10476,\n",
              "         1012,   102,     0,     0,     0,     0,     0,     0,     0,     0,\n",
              "            0,     0])"
            ]
          },
          "metadata": {},
          "execution_count": 50
        }
      ]
    },
    {
      "cell_type": "code",
      "source": [
        "# Attention Masks\n",
        "print(len(encoding['attention_mask'][0]))\n",
        "encoding['attention_mask']"
      ],
      "metadata": {
        "id": "imp9i0wHyMBG",
        "colab": {
          "base_uri": "https://localhost:8080/"
        },
        "outputId": "0df5fc66-8717-4862-f812-46b03f9554bc"
      },
      "execution_count": null,
      "outputs": [
        {
          "output_type": "stream",
          "name": "stdout",
          "text": [
            "32\n"
          ]
        },
        {
          "output_type": "execute_result",
          "data": {
            "text/plain": [
              "tensor([[1, 1, 1, 1, 1, 1, 1, 1, 1, 1, 1, 1, 1, 1, 1, 1, 1, 1, 1, 1, 1, 1, 0, 0,\n",
              "         0, 0, 0, 0, 0, 0, 0, 0]])"
            ]
          },
          "metadata": {},
          "execution_count": 51
        }
      ]
    },
    {
      "cell_type": "code",
      "source": [
        "# Convert IDs back to the original Tokens\n",
        "# tokenizer.convert_ids_to_tokens(encoding['input_ids'][0])"
      ],
      "metadata": {
        "id": "FIEp-rfByTGF"
      },
      "execution_count": null,
      "outputs": []
    },
    {
      "cell_type": "markdown",
      "source": [
        "=========================== Code Blocks that may be useful ==========================="
      ],
      "metadata": {
        "id": "H9i9Mbo4OLE8"
      }
    },
    {
      "cell_type": "code",
      "source": [
        "# token_lens = []\n",
        "# for txt in df.content:\n",
        "#   tokens = tokenizer.encode(txt, max_length=512)\n",
        "#   token_lens.append(len(tokens))"
      ],
      "metadata": {
        "id": "WjFendd1CkuE"
      },
      "execution_count": null,
      "outputs": []
    },
    {
      "cell_type": "code",
      "source": [
        "# classifier = pipeline(\"sentiment-analysis\", model=model, tokenizer=tokenizer)\n",
        "# classifier(\"I love you!\")"
      ],
      "metadata": {
        "id": "egGTV810YdKW"
      },
      "execution_count": null,
      "outputs": []
    },
    {
      "cell_type": "code",
      "source": [
        "# num_labels = len(model.config.id2label)\n",
        "# model = BertForSequenceClassification.from_pretrained(\n",
        "#     \"textattack/bert-base-uncased-yelp-polarity\", num_labels=num_labels, problem_type=\"multi_label_classification\"\n",
        "# )\n",
        "\n",
        "# labels = torch.nn.functional.one_hot(torch.tensor([predicted_class_id]), num_classes=num_labels).to(\n",
        "#     torch.float\n",
        "# )\n",
        "# loss = model(**inputs, labels=labels).loss\n",
        "# loss.backward()"
      ],
      "metadata": {
        "id": "Ig9Tav7dbTOz"
      },
      "execution_count": null,
      "outputs": []
    },
    {
      "cell_type": "code",
      "source": [
        ""
      ],
      "metadata": {
        "id": "nf2DJeZcbhm2"
      },
      "execution_count": null,
      "outputs": []
    }
  ]
}